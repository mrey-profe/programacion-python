{
 "cells": [
  {
   "cell_type": "markdown",
   "id": "8531109e",
   "metadata": {},
   "source": [
    "## Exercise Block 1\n",
    "All the values your programs use will be directly assigned to variables:\n",
    "\n",
    "- Write a program that calculates the area of a triangle. "
   ]
  },
  {
   "cell_type": "code",
   "execution_count": 2,
   "id": "0d6c56e6",
   "metadata": {},
   "outputs": [
    {
     "name": "stdout",
     "output_type": "stream",
     "text": [
      "10.0\n"
     ]
    }
   ],
   "source": [
    "base = 4\n",
    "altura = 5\n",
    "area_triangulo = base * altura / 2\n",
    "print(area_triangulo)"
   ]
  },
  {
   "cell_type": "markdown",
   "id": "a45efba4",
   "metadata": {},
   "source": [
    " \n",
    "- Write a program that calculates both the area and the perimeter of a rectangle.  \n"
   ]
  },
  {
   "cell_type": "code",
   "execution_count": 3,
   "id": "d885bd3e",
   "metadata": {},
   "outputs": [
    {
     "name": "stdout",
     "output_type": "stream",
     "text": [
      "The area is 50\n",
      "The perimeter is 30\n"
     ]
    }
   ],
   "source": [
    "base = 10\n",
    "height = 5\n",
    "area = base * height\n",
    "perimeter = 2 * (base + height)\n",
    "print(\"The area is\", area)\n",
    "print(\"The perimeter is\", perimeter)\n"
   ]
  },
  {
   "cell_type": "markdown",
   "id": "11bcf8a7",
   "metadata": {},
   "source": [
    "- Given three values, `a`, `b`, and `c`, compute the result of this expression:  \n",
    "$$\n",
    "(a + b - c)^3\n",
    "$$"
   ]
  },
  {
   "cell_type": "code",
   "execution_count": 5,
   "id": "9275fed7",
   "metadata": {},
   "outputs": [
    {
     "name": "stdout",
     "output_type": "stream",
     "text": [
      "216\n"
     ]
    }
   ],
   "source": [
    "a = 2\n",
    "b = 5\n",
    "c = 1\n",
    "result = (a + b - c) ** 3\n",
    "print(result)"
   ]
  }
 ],
 "metadata": {
  "kernelspec": {
   "display_name": "Python 3",
   "language": "python",
   "name": "python3"
  },
  "language_info": {
   "codemirror_mode": {
    "name": "ipython",
    "version": 3
   },
   "file_extension": ".py",
   "mimetype": "text/x-python",
   "name": "python",
   "nbconvert_exporter": "python",
   "pygments_lexer": "ipython3",
   "version": "3.12.3"
  }
 },
 "nbformat": 4,
 "nbformat_minor": 5
}
