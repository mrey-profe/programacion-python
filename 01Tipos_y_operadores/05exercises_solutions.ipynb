{
 "cells": [
  {
   "cell_type": "markdown",
   "metadata": {},
   "source": [
    "# Unit 1 Exercises\n",
    "\n",
    "## Exercise 1  \n",
    "Write a program that asks the user for a number and displays its double.\n"
   ]
  },
  {
   "cell_type": "code",
   "execution_count": 2,
   "metadata": {},
   "outputs": [
    {
     "name": "stdout",
     "output_type": "stream",
     "text": [
      "20\n"
     ]
    }
   ],
   "source": [
    "number = int(input(\"Tell me a number:\"))\n",
    "double = 2 * number\n",
    "print(double)"
   ]
  },
  {
   "cell_type": "markdown",
   "metadata": {},
   "source": [
    "\n",
    "## Exercise 2  \n",
    "Write a program that asks the user for a base and an exponent, then calculates the result of raising the base to that power.\n",
    "$$\n",
    "a^b\n",
    "$$\n",
    "\n",
    "## Exercise 3  \n",
    "Consult the official Python documentation to understand what the `round()` function does and how to use it (https://docs.python.org/3/library/functions.html). Try some examples with different numbers. Use `round()` to round the results in the following exercises.\n"
   ]
  },
  {
   "cell_type": "code",
   "execution_count": 4,
   "metadata": {},
   "outputs": [
    {
     "name": "stdout",
     "output_type": "stream",
     "text": [
      "2\n",
      "2.5\n",
      "2.544\n"
     ]
    }
   ],
   "source": [
    "print(round(2.5))\n",
    "print(round(2.5, 2))\n",
    "print(round(2.5436, 3))"
   ]
  },
  {
   "cell_type": "markdown",
   "metadata": {},
   "source": [
    "\n",
    "## Exercise 4  \n",
    "Write a program that, given a person’s name, weight (in kg), and height (in cm), prints their weight in pounds, height in feet, and BMI (Body Mass Index).\n"
   ]
  },
  {
   "cell_type": "code",
   "execution_count": 7,
   "metadata": {},
   "outputs": [
    {
     "name": "stdout",
     "output_type": "stream",
     "text": [
      "Your weight in pounds is 176.3696\n",
      "Your height in feet is 5.7414700000000005\n",
      "Your BMI is 26.122448979591837\n"
     ]
    }
   ],
   "source": [
    "KG_TO_POUNDS = 2.20462\n",
    "CM_TO_FEET = 0.0328084\n",
    "\n",
    "# Data request\n",
    "name = input(\"Tell me your name:\")\n",
    "weight_kg = float(input(\"Tell me your weight (kg):\"))\n",
    "height_cm = int(input(\"Tell me your height (cm):\"))\n",
    "\n",
    "# Calculation\n",
    "weight_pounds = weight_kg * KG_TO_POUNDS\n",
    "height_feet = height_cm * CM_TO_FEET\n",
    "height_m = height_cm / 100\n",
    "bmi = weight_kg / (height_m) ** 2\n",
    "\n",
    "# Results output\n",
    "print(\"Your weight in pounds is\", weight_pounds)\n",
    "print(\"Your height in feet is\", height_feet)\n",
    "print(\"Your BMI is\", bmi)"
   ]
  },
  {
   "cell_type": "markdown",
   "metadata": {},
   "source": [
    "\n",
    "## Exercise 5  \n",
    "Write a program that converts an amount in euros to its equivalent in dollars.\n",
    "\n",
    "## Exercise 6  \n",
    "Write a program that converts an amount in dollars to its equivalent in euros.\n",
    "\n",
    "## Exercise 7  \n",
    "Write a program that calculates the hypotenuse (`h`) of a right triangle given its legs (`a` and `b`).\n"
   ]
  },
  {
   "cell_type": "code",
   "execution_count": 10,
   "metadata": {},
   "outputs": [
    {
     "name": "stdout",
     "output_type": "stream",
     "text": [
      "Let's calculate the hypotenuse of a triangle.\n",
      "The hypotenuse is  5.0\n"
     ]
    }
   ],
   "source": [
    "import math\n",
    "\n",
    "print(\"Let's calculate the hypotenuse of a triangle.\")\n",
    "a = float(input(\"Tell me the size of one of the legs:\"))\n",
    "b = float(input(\"Tell me the size of the other leg:\"))\n",
    "\n",
    "# h = (a ** 2 + b ** 2) ** 0.5\n",
    "# h = math.sqrt(a ** 2 + b ** 2)\n",
    "h = math.hypot(a, b)\n",
    "\n",
    "print(\"The hypotenuse is \", h)"
   ]
  },
  {
   "cell_type": "markdown",
   "metadata": {},
   "source": [
    "\n",
    "## Exercise 8  \n",
    "Write a program that calculates the surface area and volume of a sphere given its radius (r).  \n",
    "  \n",
    "\n",
    "$\n",
    "\\text{Area} = 4 · \\pi · r^2\n",
    "$\n",
    "\n",
    "$\n",
    "\\text{Volume} = \\frac{4}{3} · \\pi · r^3\n",
    "$\n",
    "\n",
    "To use the constant PI, follow these steps:  \n",
    "```python\n",
    "import math\n",
    "print(math.pi)\n",
    "```\n"
   ]
  },
  {
   "cell_type": "code",
   "execution_count": 4,
   "metadata": {},
   "outputs": [
    {
     "name": "stdout",
     "output_type": "stream",
     "text": [
      "The area is (1256.6370614359173, 2) and the volume is 4188.790204786391\n"
     ]
    }
   ],
   "source": [
    "import math\n",
    "\n",
    "radius = float(input(\"Tell me the radius:\"))\n",
    "\n",
    "area = 4 * math.pi * radius ** 2\n",
    "volume  = 4 / 3 * math.pi * radius ** 3\n",
    "\n",
    "print(\"The area is\", round(area, 2), \"and the volume is\", round(volume, 2))"
   ]
  },
  {
   "cell_type": "markdown",
   "metadata": {},
   "source": [
    "\n",
    "## Exercise 9  \n",
    "Write a program that calculates the surface area and volume of a cylinder given its radius (r) and height (h).\n",
    "\n",
    "$\n",
    "\\text{Surface Area} = 2 · \\pi · r · (r + h)\n",
    "$\n",
    "\n",
    "$\n",
    "\\text{Volume} = \\pi · r^2 · h\n",
    "$\n",
    "\n",
    "## Exercise 10  \n",
    "Write a program that asks the user for a value (x) and performs the following calculation:\n",
    "\n",
    "$\n",
    "y = \\frac{1}{x+\\frac{1}{x+\\frac{1}{x + \\frac{1}{x}}}}\n",
    "$\n",
    "  \n",
    "You can test your program with these values:  \n",
    "\n",
    "| x  | y                    |\n",
    "|----|----------------------|\n",
    "| 1  | 0.6000000000000001   |\n",
    "| 10 | 0.09901951266867294  |\n",
    "| 100| 0.009999000199950014 |\n",
    "| -5 | -0.19258202567760344 |\n",
    "\n",
    "## Exercise 11  \n",
    "Write a program that, given a start time for an event and its duration (3 values: hour, minutes, and duration in minutes), calculates the event’s end time. Don’t worry about invalid inputs like incorrect hours.  \n",
    "TIP: Use the modulo operator (`%`).\n",
    "\n",
    "For example:\n",
    "- If the event starts at 15:24 and lasts 15 minutes, it will end at 15:39. \n",
    "- If the event starts at 22:30 and lasts 80 minutes, it will end at 23:50. \n",
    "- If it starts at 23:30 and lasts 80 minutes, it will end at 00:50.\n",
    "\n",
    "You need to ask the user for 3 inputs: start hour, start minutes, and duration in minutes, in a separate input for each value."
   ]
  }
 ],
 "metadata": {
  "kernelspec": {
   "display_name": "Python 3",
   "language": "python",
   "name": "python3"
  },
  "language_info": {
   "codemirror_mode": {
    "name": "ipython",
    "version": 3
   },
   "file_extension": ".py",
   "mimetype": "text/x-python",
   "name": "python",
   "nbconvert_exporter": "python",
   "pygments_lexer": "ipython3",
   "version": "3.12.3"
  },
  "orig_nbformat": 4
 },
 "nbformat": 4,
 "nbformat_minor": 2
}
