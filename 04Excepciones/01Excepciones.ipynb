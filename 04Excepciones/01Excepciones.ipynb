{
 "cells": [
  {
   "cell_type": "markdown",
   "metadata": {},
   "source": [
    "# Excepciones\n",
    "\n",
    "Las excepciones son errores que se producen durante la ejecución del programa. Muchas de ellas son debidas a la introducción de datos erróneos por parte del usuario, que no son los que espera un programa. \n",
    "\n",
    "Por ejemplo escribir una letra cuando se espera un número."
   ]
  },
  {
   "cell_type": "code",
   "execution_count": 1,
   "metadata": {},
   "outputs": [
    {
     "ename": "ValueError",
     "evalue": "invalid literal for int() with base 10: 'hola'",
     "output_type": "error",
     "traceback": [
      "\u001b[0;31m---------------------------------------------------------------------------\u001b[0m",
      "\u001b[0;31mValueError\u001b[0m                                Traceback (most recent call last)",
      "Cell \u001b[0;32mIn[1], line 1\u001b[0m\n\u001b[0;32m----> 1\u001b[0m edad \u001b[38;5;241m=\u001b[39m \u001b[38;5;28;43mint\u001b[39;49m\u001b[43m(\u001b[49m\u001b[38;5;28;43minput\u001b[39;49m\u001b[43m(\u001b[49m\u001b[38;5;124;43m\"\u001b[39;49m\u001b[38;5;124;43mIntroduce tu edad: \u001b[39;49m\u001b[38;5;124;43m\"\u001b[39;49m\u001b[43m)\u001b[49m\u001b[43m)\u001b[49m\n",
      "\u001b[0;31mValueError\u001b[0m: invalid literal for int() with base 10: 'hola'"
     ]
    }
   ],
   "source": [
    "edad = int(input(\"Introduce tu edad: \"))"
   ]
  },
  {
   "cell_type": "markdown",
   "metadata": {},
   "source": [
    "En esta última línea, la primera palabra que aparece es el tipo de excepción, a continuación el mensaje de error."
   ]
  },
  {
   "cell_type": "code",
   "execution_count": 4,
   "metadata": {},
   "outputs": [
    {
     "ename": "ZeroDivisionError",
     "evalue": "division by zero",
     "output_type": "error",
     "traceback": [
      "\u001b[1;31m---------------------------------------------------------------------------\u001b[0m",
      "\u001b[1;31mZeroDivisionError\u001b[0m                         Traceback (most recent call last)",
      "\u001b[1;32mz:\\Programacion\\apuntes\\05Excepciones\\01Excepciones.ipynb Celda 4\u001b[0m line \u001b[0;36m6\n\u001b[0;32m      <a href='vscode-notebook-cell:/z%3A/Programacion/apuntes/05Excepciones/01Excepciones.ipynb#W3sZmlsZQ%3D%3D?line=2'>3</a>\u001b[0m croquetas \u001b[39m=\u001b[39m \u001b[39m50\u001b[39m\n\u001b[0;32m      <a href='vscode-notebook-cell:/z%3A/Programacion/apuntes/05Excepciones/01Excepciones.ipynb#W3sZmlsZQ%3D%3D?line=3'>4</a>\u001b[0m personas \u001b[39m=\u001b[39m \u001b[39m0\u001b[39m\n\u001b[1;32m----> <a href='vscode-notebook-cell:/z%3A/Programacion/apuntes/05Excepciones/01Excepciones.ipynb#W3sZmlsZQ%3D%3D?line=5'>6</a>\u001b[0m croquetas_por_persona \u001b[39m=\u001b[39m croquetas \u001b[39m/\u001b[39;49m personas\n",
      "\u001b[1;31mZeroDivisionError\u001b[0m: division by zero"
     ]
    }
   ],
   "source": [
    "# Queremos calcular cuántas croquetas tocan a repartir entre los asistentes a la cena\n",
    "\n",
    "croquetas = 50\n",
    "personas = 0\n",
    "\n",
    "croquetas_por_persona = croquetas / personas"
   ]
  },
  {
   "cell_type": "markdown",
   "metadata": {},
   "source": [
    "## Tratamiento de excepciones\n",
    "\n",
    "En el mundo de Python, hay una regla que dice: \"Es mejor pedir perdón que pedir permiso\". Esto quiere decir que es mejor intentar ejecutar una acción y si se produce un erro, tratarlo, que comprobar antes si se puede ejecutar la acción.\n",
    "\n",
    "```python\n",
    "try:\n",
    "    # Es un lugar donde\n",
    "    # tu puedes hacer algo \n",
    "    # sin pedir permiso.\n",
    "except:\n",
    "    # Es un espacio dedicado \n",
    "    # exclusivamente para pedir perdón.\n",
    "```\n",
    "\n",
    "```python\n",
    "try:\n",
    "    # Código que puede fallar\n",
    "except:\n",
    "    # Qué hacemos si falla\n",
    "```"
   ]
  },
  {
   "cell_type": "code",
   "execution_count": 2,
   "metadata": {},
   "outputs": [
    {
     "name": "stdout",
     "output_type": "stream",
     "text": [
      "Debes introducir un número entero\n",
      "Continuamos con el programa\n"
     ]
    }
   ],
   "source": [
    "try:\n",
    "    edad = int(input(\"Introduce tu edad: \"))\n",
    "    if edad > 18:\n",
    "        print(\"Eres mayor de edad\")\n",
    "    else:\n",
    "        print(\"Eres menor de edad\")\n",
    "except:\n",
    "    print(\"Debes introducir un número entero\")\n",
    "\n",
    "print(\"Continuamos con el programa\")"
   ]
  },
  {
   "cell_type": "markdown",
   "metadata": {},
   "source": [
    "Si se produce una excepción dentro del bloque `try` se salta a la parte `except` y se ejecuta el código que hay dentro. Si no se produce ninguna excepción, no se ejecuta la parte `except` y se continúa con el resto del programa."
   ]
  },
  {
   "cell_type": "markdown",
   "metadata": {},
   "source": [
    "### Captura de distintos tipos de excepciones\n",
    "\n",
    "Puede que un fragmento de código produzca distintos tipos de excepciones. Solo una de ellas puede ser capturada por el bloque `except`."
   ]
  },
  {
   "cell_type": "code",
   "execution_count": 6,
   "metadata": {},
   "outputs": [
    {
     "name": "stdout",
     "output_type": "stream",
     "text": [
      "La división entre cero no está permitida en nuestro Universo.\n"
     ]
    }
   ],
   "source": [
    "try:\n",
    "    valor = input('Escribe un número natural: ')\n",
    "    print('El recíproco de', valor, 'es', 1/int(valor))        \n",
    "except ValueError:\n",
    "    print('No se qué hacer con', valor)    \n",
    "except ZeroDivisionError:\n",
    "    print('La división entre cero no está permitida en nuestro Universo.')  "
   ]
  },
  {
   "cell_type": "markdown",
   "metadata": {},
   "source": [
    "Puede haber una captura general para otro tipo de excepciones, pero siempre debe ser la última, ya que cuando saltan una excepción, el programa entrará en el primer bloque `except` que coincida con el tipo de excepción. \n",
    "\n",
    "Si ponemos el except por defecto al principio, nunca se ejecutarán los otros bloques en el momento de que salte cualquier excepción."
   ]
  },
  {
   "cell_type": "code",
   "execution_count": null,
   "metadata": {},
   "outputs": [
    {
     "name": "stdout",
     "output_type": "stream",
     "text": [
      "El recíproco de 9 es 0.1111111111111111\n",
      "Ha sucedido algo extraño, ¡lo siento!\n"
     ]
    }
   ],
   "source": [
    "try:\n",
    "    valor = input('Ingresa un número natural: ')\n",
    "    print('El recíproco de', valor, 'es', 1/int(valor))\n",
    "except ValueError:\n",
    "    print('No se que hacer con', valor)    \n",
    "except ZeroDivisionError:\n",
    "    print('La división entre cero no está permitida en nuestro Universo.')    \n",
    "except:\n",
    "    print('Ha sucedido algo extraño, ¡lo siento!')"
   ]
  },
  {
   "cell_type": "markdown",
   "metadata": {},
   "source": [
    "## Tipos de excepciones\n",
    "\n",
    "### ZeroDivisionError\n",
    "\n",
    "Aparece cuando intentas forzar a Python a realizar cualquier operación que provoque una división en la que el divisor es cero. Puede producirse con los operadores `/`, `//`, y `%`.\n",
    "\n",
    "### ValueError\n",
    "\n",
    "Esta excepción aparece cuando intentas convertir un valor a un tipo numérico, pero el valor no tiene el formato adecuado.\n",
    "\n",
    "### TypeError\n",
    "\n",
    "Esta excepción aparece cuando intentas aplicar un dato cuyo tipo no se puede aceptar en el contexto actual. Mira el ejemplo:\n"
   ]
  },
  {
   "cell_type": "code",
   "execution_count": 5,
   "metadata": {},
   "outputs": [
    {
     "ename": "TypeError",
     "evalue": "list indices must be integers or slices, not float",
     "output_type": "error",
     "traceback": [
      "\u001b[1;31m---------------------------------------------------------------------------\u001b[0m",
      "\u001b[1;31mTypeError\u001b[0m                                 Traceback (most recent call last)",
      "\u001b[1;32mz:\\Programacion\\apuntes\\05Excepciones\\01Excepciones.ipynb Celda 13\u001b[0m line \u001b[0;36m2\n\u001b[0;32m      <a href='vscode-notebook-cell:/z%3A/Programacion/apuntes/05Excepciones/01Excepciones.ipynb#X15sZmlsZQ%3D%3D?line=0'>1</a>\u001b[0m short_list \u001b[39m=\u001b[39m [\u001b[39m1\u001b[39m]\n\u001b[1;32m----> <a href='vscode-notebook-cell:/z%3A/Programacion/apuntes/05Excepciones/01Excepciones.ipynb#X15sZmlsZQ%3D%3D?line=1'>2</a>\u001b[0m one_value \u001b[39m=\u001b[39m short_list[\u001b[39m0.5\u001b[39;49m]\n",
      "\u001b[1;31mTypeError\u001b[0m: list indices must be integers or slices, not float"
     ]
    }
   ],
   "source": [
    "short_list = [1]\n",
    "one_value = short_list[0.5]"
   ]
  },
  {
   "cell_type": "markdown",
   "metadata": {},
   "source": [
    "\n",
    "No está permitido usar un valor flotante como índice de una lista (la misma regla también se aplica a las tuplas). TypeError es un nombre adecuado para describir el problema y una excepción adecuada a generar.\n",
    "\n",
    "### IndexError\n",
    "\n",
    "Esta excepción aparece cuando intentas acceder a un elemento de una lista, tupla, cadena, etc. usando un índice que está fuera de rango. Por ejemplo:\n"
   ]
  },
  {
   "cell_type": "code",
   "execution_count": 6,
   "metadata": {},
   "outputs": [
    {
     "ename": "IndexError",
     "evalue": "list index out of range",
     "output_type": "error",
     "traceback": [
      "\u001b[1;31m---------------------------------------------------------------------------\u001b[0m",
      "\u001b[1;31mIndexError\u001b[0m                                Traceback (most recent call last)",
      "\u001b[1;32mz:\\Programacion\\apuntes\\05Excepciones\\01Excepciones.ipynb Celda 15\u001b[0m line \u001b[0;36m2\n\u001b[0;32m      <a href='vscode-notebook-cell:/z%3A/Programacion/apuntes/05Excepciones/01Excepciones.ipynb#X20sZmlsZQ%3D%3D?line=0'>1</a>\u001b[0m short_list \u001b[39m=\u001b[39m [\u001b[39m1\u001b[39m]\n\u001b[1;32m----> <a href='vscode-notebook-cell:/z%3A/Programacion/apuntes/05Excepciones/01Excepciones.ipynb#X20sZmlsZQ%3D%3D?line=1'>2</a>\u001b[0m short_list[\u001b[39m1\u001b[39;49m]\n",
      "\u001b[1;31mIndexError\u001b[0m: list index out of range"
     ]
    }
   ],
   "source": [
    "short_list = [1]\n",
    "short_list[1]"
   ]
  },
  {
   "cell_type": "markdown",
   "metadata": {},
   "source": [
    "### KeyError\n",
    "\n",
    "Se lanza cuando una clave no se encuentra en un diccionario, o algún elemento en algunos de los métodos de búsqueda."
   ]
  },
  {
   "cell_type": "markdown",
   "metadata": {},
   "source": [
    "## `else` y `finally`\n",
    "\n",
    "Podemos tener dos bloques más en el tratamiento de excepciones: `else` y `finally`. \n",
    "\n",
    "`else` se utiliza para ejecutar un código si no se produce ninguna excepción. \n",
    "\n",
    "`finally` se utiliza para ejecutar un código al final del tratamiento de excepciones, tanto si se ha producido una excepción como si no.\n"
   ]
  },
  {
   "cell_type": "code",
   "execution_count": null,
   "metadata": {},
   "outputs": [],
   "source": [
    "try:\n",
    "    croquetas = int(input(\"Introduce el número de croquetas: \"))\n",
    "    personas = int(input(\"Introduce el número de personas: \"))\n",
    "    croquetas_por_persona = croquetas / personas\n",
    "except ValueError:\n",
    "    print(\"Debes introducir valores numéricos\")\n",
    "except ZeroDivisionError:\n",
    "    print(\"No puedo repartir entre 0\")\n",
    "else:\n",
    "    print(\"Toca a\", croquetas_por_persona, \"croquetas por persona\")\n",
    "finally:\n",
    "    print(\"Continuemos con la fiesta\")"
   ]
  },
  {
   "cell_type": "markdown",
   "metadata": {},
   "source": [
    "No son obligatorios, ya que sería equivalente a:"
   ]
  },
  {
   "cell_type": "code",
   "execution_count": null,
   "metadata": {},
   "outputs": [],
   "source": [
    "try:\n",
    "    croquetas = int(input(\"Introduce el número de croquetas: \"))\n",
    "    personas = int(input(\"Introduce el número de personas: \"))\n",
    "    croquetas_por_persona = croquetas / personas\n",
    "    print(\"Toca a\", croquetas_por_persona, \"croquetas por persona\")\n",
    "except ValueError:\n",
    "    print(\"Debes introducir valores numéricos\")\n",
    "except ZeroDivisionError:\n",
    "    print(\"No puedo repartir entre 0\")\n",
    "\n",
    "print(\"Continuemos con la fiesta\")"
   ]
  },
  {
   "cell_type": "markdown",
   "metadata": {},
   "source": [
    "# Lanzamiento de excepciones\n",
    "\n",
    "Podemos lanzar una excepción con la instrucción `raise`. "
   ]
  },
  {
   "cell_type": "code",
   "execution_count": null,
   "metadata": {},
   "outputs": [],
   "source": [
    "class Persona:\n",
    "    def __init__(self, edad):\n",
    "        if edad < 0:\n",
    "            raise ValueError(\"La edad no puede ser negativa\")\n",
    "        self.edad = edad"
   ]
  },
  {
   "cell_type": "markdown",
   "metadata": {},
   "source": [
    "Podemos lanzar cualquiera de las excepciones que hemos visto anteriormente, o crear una nueva excepción."
   ]
  },
  {
   "cell_type": "markdown",
   "metadata": {},
   "source": [
    "# Creación de excepciones\n",
    "\n",
    "Podemos crear nuestras propias excepciones, simplemente creando una clase que herede de `Exception`."
   ]
  },
  {
   "cell_type": "code",
   "execution_count": null,
   "metadata": {},
   "outputs": [],
   "source": [
    "class EdadNegativaError(ValueError):\n",
    "    pass\n",
    "\n",
    "class DNIInvalidoError(ValueError):\n",
    "    pass\n",
    "\n",
    "class Persona:\n",
    "    def __init__(self, edad, dni):\n",
    "        if edad < 0:\n",
    "            raise EdadNegativaError(\"La edad no puede ser negativa\")\n",
    "        self.edad = edad\n",
    "        if len(dni) != 9:\n",
    "            raise DNIInvalidoError(\"El DNI debe tener 9 caracteres\")\n",
    "        \n",
    "try:\n",
    "    persona = Persona(-18, \"1234567A\")\n",
    "except EdadNegativaError:\n",
    "    print(\"La edad no puede ser negativa\")\n",
    "except DNIInvalidoError:\n",
    "    print(\"El DNI debe tener 9 caracteres\")"
   ]
  }
 ],
 "metadata": {
  "kernelspec": {
   "display_name": "Python 3",
   "language": "python",
   "name": "python3"
  },
  "language_info": {
   "codemirror_mode": {
    "name": "ipython",
    "version": 3
   },
   "file_extension": ".py",
   "mimetype": "text/x-python",
   "name": "python",
   "nbconvert_exporter": "python",
   "pygments_lexer": "ipython3",
   "version": "3.12.3"
  }
 },
 "nbformat": 4,
 "nbformat_minor": 2
}
