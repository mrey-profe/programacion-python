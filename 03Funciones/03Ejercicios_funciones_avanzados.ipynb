{
 "cells": [
  {
   "cell_type": "markdown",
   "metadata": {},
   "source": [
    "# Exercise 1\n",
    "\n",
    "Two numbers `a` and `b` are called amicable if the sum of the divisors of `a` (excluding itself) equals `b` and vice versa. For example, 220 and 284 are amicable, because:\n",
    "- The divisors of 220 (excluding itself) are: 1, 2, 4, 5, 10, 11, 20, 22, 44, 55, and 110\n",
    "  \n",
    "  $ 1 + 2 + 4 + 5 + 10 + 11 + 20 + 22 + 44 + 55 + 110 = 284 $\n",
    "\n",
    "- The divisors of 284 (excluding itself) are: 1, 2, 4, 71, and 142. Their sum is 220.\n",
    "  \n",
    "  $ 1 + 2 + 4 + 71 + 142 = 220 $\n",
    "\n",
    "Create a program that takes two integers greater than 0 as input and prints a message indicating whether they are amicable or not. \n",
    "\n",
    "You can test with 220 and 284, or 1184 and 1210, which are amicable.\n",
    "\n",
    "Use two functions: one to determine whether the numbers are amicable and another to return the sum of the divisors of a number.\n"
   ]
  },
  {
   "cell_type": "markdown",
   "metadata": {},
   "source": [
    "\n",
    "# Exercise 2\n",
    "\n",
    "Create a program that asks the user for two integers and displays the following menu:\n",
    "```python\n",
    "MENU\n",
    "    1. Add\n",
    "    2. Subtract\n",
    "    3. Multiply\n",
    "    4. Divide\n",
    "    5. Exit\n",
    "Choose an option:\n",
    "```\n",
    "The user will enter the number corresponding to the chosen operation; the result will be displayed and the menu will be shown again. The program should run until the user chooses option 5 (Exit). If the user enters an option not listed in the menu, show a message and display the menu again so they can choose a valid option.\n",
    "\n",
    "Create functions for the menu and for each of the operations."
   ]
  }
 ],
 "metadata": {
  "kernelspec": {
   "display_name": "Python 3",
   "language": "python",
   "name": "python3"
  },
  "language_info": {
   "codemirror_mode": {
    "name": "ipython",
    "version": 3
   },
   "file_extension": ".py",
   "mimetype": "text/x-python",
   "name": "python",
   "nbconvert_exporter": "python",
   "pygments_lexer": "ipython3",
   "version": "3.11.5"
  },
  "orig_nbformat": 4
 },
 "nbformat": 4,
 "nbformat_minor": 2
}
