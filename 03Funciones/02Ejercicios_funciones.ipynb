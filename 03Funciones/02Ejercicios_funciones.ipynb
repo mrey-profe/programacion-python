{
 "cells": [
  {
   "cell_type": "markdown",
   "metadata": {},
   "source": [
    "## Exercise 1\n",
    "\n",
    "Create a function that calculates and returns the area of a circle."
   ]
  },
  {
   "cell_type": "markdown",
   "metadata": {},
   "source": [
    "## Exercise 1a\n",
    "\n",
    "Now create two different main programs that can use this function. For example:\n",
    "\n",
    "- A program that asks the user for the radius and prints the area of the circle\n",
    "- A program for a company that makes circular coasters: to calculate the material needed, ask the user how many coasters they want and what the radius is, then calculate the total area for all coasters. The user may choose different types of coasters and different quantities for each."
   ]
  },
  {
   "cell_type": "markdown",
   "metadata": {},
   "source": [
    "## Exercise 2\n",
    "\n",
    "Create a function that receives an integer and prints a square of asterisks with that many asterisks per side. For example, if passed the value 3, it should display:\n",
    "```python\n",
    "***\n",
    "***\n",
    "***\n",
    "```"
   ]
  },
  {
   "cell_type": "markdown",
   "metadata": {},
   "source": [
    "## Exercise 3\n",
    "\n",
    "Create a function that receives a student's age and returns whether they are an adult (as a boolean value)."
   ]
  },
  {
   "cell_type": "markdown",
   "metadata": {},
   "source": [
    "## Exercise 4\n",
    "\n",
    "Create a function that takes no parameters and displays the following menu:\n",
    "\n",
    "```\n",
    "    1. Greet\n",
    "    2. Say goodbye\n",
    "    3. Exit\n",
    "    Choose an option: \n",
    "```\n",
    "\n",
    "It should return the value chosen by the user.\n",
    "\n",
    "The main program should call the function and execute the option chosen by the user.\n"
   ]
  },
  {
   "cell_type": "markdown",
   "metadata": {},
   "source": [
    "# Exercise 5\n",
    "\n",
    "Create a Python function that calculates and **prints** the volume and surface area of a cone.\n",
    "\n",
    "Modify it so there are two functions: one that **returns** the volume and another that returns the surface area of the cone.\n",
    "\n",
    "**ADVANCED** Modify it so it is a function that returns two values."
   ]
  },
  {
   "cell_type": "markdown",
   "metadata": {},
   "source": [
    "# Exercise 6\n",
    "\n",
    "Create a Python function that determines whether a year is a leap year. It should return `True` when it is and `False` otherwise. Create a main program that asks the user for a year and uses the function to inform whether it is a leap year or not."
   ]
  },
  {
   "cell_type": "markdown",
   "metadata": {},
   "source": [
    "# Exercise 7\n",
    "\n",
    "Use the previous function to create a program that asks the user for a minimum and maximum year and prints the leap years between them.\n",
    "\n",
    "**ADVANCED**: Create **another function** that uses the one from Exercise 6, which accepts start and end years. If no end year is provided, it should default to 2025.\n"
   ]
  },
  {
   "cell_type": "markdown",
   "metadata": {},
   "source": [
    "# Exercise 8\n",
    "\n",
    "Create a Python function that determines whether a number is prime. The function should return `True` when the number is prime and `False` otherwise.\n"
   ]
  },
  {
   "cell_type": "markdown",
   "metadata": {},
   "source": [
    "# Exercise 9\n",
    "\n",
    "Use the previous function to create a program that asks the user for a number and displays the prime numbers smaller than that number."
   ]
  },
  {
   "cell_type": "markdown",
   "metadata": {},
   "source": [
    "# Exercise 10\n",
    "\n",
    "Create a function in Python that receives a number and generates a pyramid like the following (this would be generated when the input is 5):\n",
    "```python\n",
    "    1\n",
    "   212\n",
    "  32123\n",
    " 4321234\n",
    "543212345\n",
    "```\n",
    "\n",
    "In order to do this, you can break it down into three steps (test each step separately before moving on to the next):\n",
    "\n",
    "Step 1\n",
    "```python\n",
    "1\n",
    "21\n",
    "321\n",
    "4321\n",
    "54321\n",
    "```\n",
    "Step 2\n",
    "```python\n",
    "    1\n",
    "   21\n",
    "  321\n",
    " 4321\n",
    "54321\n",
    "```\n",
    "Step 3\n",
    "```python\n",
    "    1\n",
    "   212\n",
    "  32123\n",
    " 4321234\n",
    "543212345\n",
    "```"
   ]
  }
 ],
 "metadata": {
  "kernelspec": {
   "display_name": "Python 3",
   "language": "python",
   "name": "python3"
  },
  "language_info": {
   "codemirror_mode": {
    "name": "ipython",
    "version": 3
   },
   "file_extension": ".py",
   "mimetype": "text/x-python",
   "name": "python",
   "nbconvert_exporter": "python",
   "pygments_lexer": "ipython3",
   "version": "3.12.3"
  },
  "orig_nbformat": 4
 },
 "nbformat": 4,
 "nbformat_minor": 2
}
