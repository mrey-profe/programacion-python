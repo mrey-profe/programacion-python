{
 "cells": [
  {
   "cell_type": "markdown",
   "metadata": {},
   "source": [
    "# Pruebas unitarias\n",
    "\n",
    "Las pruebas unitarias son una técnica de programación que consiste en realizar pruebas a las funciones o métodos de un programa de manera individual, con el objetivo de verificar que cada uno de ellos funciona correctamente.\n",
    "\n",
    "Es importante probar aquellos casos límite o casos especiales que puedan presentarse en el programa, para asegurarse de que el código es robusto y maneja todas las situaciones posibles. \n",
    "\n",
    "Por ejemplo:\n",
    "- En el caso del año bisiesto, los casos a probar habituales son aquellos múltiplos de 4, que serán bisiestos y no múltiplos de 4, que no serán bisiestos. Los casos límite serán los múltiplos de 100, que no son bisiestos, y los múltiplos de 400, que sí son bisiestos.\n",
    "- Si tenemos una función que nos indica si una persona es o no mayor de edad, el caso límite será cuando la persona cumple exactamente 18 años.\n",
    "\n",
    "En Python, existen diversas maneras de realizar tests, pero, de momento, utilizaremos `doctest`, que resulta muy sencilla de utilizar y se integra directamente con la documentación del código.\n"
   ]
  },
  {
   "cell_type": "markdown",
   "metadata": {},
   "source": [
    "# Documentación de funciones\n",
    "\n",
    "La documentación de funciones (u otras unidades de código) es un tipo especial de comentario en el código fuente que describe qué hace la función, qué parámetros recibe y qué valores devuelve. A este tipo de comentarios se los conoce como `docstrings`.\n",
    "\n",
    "En Python, los `docstrings` se escriben entre triple comilla  `'''` y se colocan al principio de la función, justo después de la definición de la misma."
   ]
  },
  {
   "cell_type": "code",
   "execution_count": 1,
   "metadata": {},
   "outputs": [],
   "source": [
    "def es_bisiesto(anho: int) -> bool:\n",
    "    '''\n",
    "    Recibe un año y determina si es bisiesto o no.\n",
    "    \n",
    "    Parámetros\n",
    "    ----------\n",
    "    anho: int\n",
    "        Año a evaluar.\n",
    "        \n",
    "    Devuelve\n",
    "    -------\n",
    "    bool\n",
    "        True si el año es bisiesto, False en caso contrario.\n",
    "    '''\n",
    "    if (anho % 4 == 0 and anho % 100 != 0) or anho % 400 == 0:\n",
    "        return True\n",
    "    return False"
   ]
  },
  {
   "cell_type": "markdown",
   "metadata": {},
   "source": [
    "Podemos mostrar el `docstring` de una función utilizando la propiedad `__doc__` de la función."
   ]
  },
  {
   "cell_type": "code",
   "execution_count": 2,
   "metadata": {},
   "outputs": [
    {
     "name": "stdout",
     "output_type": "stream",
     "text": [
      "\n",
      "    Recibe un año y determina si es bisiesto o no.\n",
      "    \n",
      "    Parámetros\n",
      "    ----------\n",
      "    anho: int\n",
      "        Año a evaluar.\n",
      "        \n",
      "    Devuelve\n",
      "    -------\n",
      "    bool\n",
      "        True si el año es bisiesto, False en caso contrario.\n",
      "    \n"
     ]
    }
   ],
   "source": [
    "print(es_bisiesto.__doc__)"
   ]
  },
  {
   "cell_type": "markdown",
   "metadata": {},
   "source": [
    "## `doctest`\n",
    "\n",
    "`doctest` es un módulo de Python que permite incluir pruebas en el `docstring` de una función. Las pruebas consisten en un ejemplo de uso de la función, junto con el resultado esperado."
   ]
  },
  {
   "cell_type": "code",
   "execution_count": null,
   "metadata": {},
   "outputs": [],
   "source": [
    "def es_bisiesto(anho: int) -> bool:\n",
    "    '''\n",
    "    Recibe un año y determina si es bisiesto o no.\n",
    "    \n",
    "    Parámetros\n",
    "    ----------\n",
    "    anho: int\n",
    "        Año a evaluar.\n",
    "        \n",
    "    Devuelve\n",
    "    -------\n",
    "    bool\n",
    "        True si el año es bisiesto, False en caso contrario.\n",
    "        \n",
    "    >>> es_bisiesto(2000)\n",
    "    True\n",
    "    >>> es_bisiesto(1900)\n",
    "    False\n",
    "    >>> es_bisiesto(1996)\n",
    "    True\n",
    "    >>> es_bisiesto(1997)\n",
    "    False\n",
    "    '''\n",
    "    if (anho % 4 == 0 and anho % 100 != 0) or anho % 400 == 0:\n",
    "        return True\n",
    "    return False"
   ]
  },
  {
   "cell_type": "markdown",
   "metadata": {},
   "source": [
    "Para ejecutar las pruebas se utiliza el siguiente comando (podemos pulsar con el botón derecho sobre el fichero y seleccionar \"Open Terminal Here\" para abrir una terminal en la carpeta donde se encuentra el fichero):\n",
    "\n",
    "```bash\n",
    "python3 -m doctest -v nombre_fichero.py\n",
    "```"
   ]
  },
  {
   "cell_type": "markdown",
   "metadata": {},
   "source": [
    "También podemos instalar alguna extensión de vscode que nos permita ejecutar los tests directamente desde el editor, pulsando un botón, como `Python DoctestBtn`. Tras instalarla, debemos asegurarnos de que la ruta al intérprete de Python es correcta en la configuración de la extensión, modificando la variable `doctestBtn.dtPythonPath`. En linux debe ser `python3`."
   ]
  },
  {
   "cell_type": "markdown",
   "metadata": {},
   "source": [
    "## Pruebas en un fichero independiente\n",
    "\n",
    "Es una buena práctica separar el código de las pruebas, para ello, crearemos otro fichero con el mismo nombre que el fichero que contiene las funciones, pero añadiendo `_test` al final del nombre o `test_` al principio. Por ejemplo, si el fichero con las funciones se llama `funciones.py`, el fichero con las pruebas se llamará `funciones_test.txt` o `test_funciones.txt`."
   ]
  },
  {
   "cell_type": "raw",
   "metadata": {
    "vscode": {
     "languageId": "raw"
    }
   },
   "source": [
    ">>> from funciones import es_bisiesto\n",
    "\n",
    ">>> es_bisiesto(2000)\n",
    "True\n",
    ">>> es_bisiesto(1900)\n",
    "False\n",
    ">>> es_bisiesto(1996)\n",
    "True\n",
    ">>> es_bisiesto(1997)\n",
    "False"
   ]
  },
  {
   "cell_type": "markdown",
   "metadata": {},
   "source": [
    "Debemos ahora ejecutar las pruebas con el siguiente comando:\n",
    "\n",
    "```bash\n",
    "python3 -m doctest -v nombre_fichero_test.txt\n",
    "```\n",
    "\n",
    "En Windows sería:\n",
    "```bash\n",
    "python -m doctest -v nombre_fichero_test.txt\n",
    "```\n",
    "\n",
    "Puedes instalar una extensión de VSCode que muestra un botón para lanzar este comando: `Python DoctestBtn`.\n",
    "\n",
    "Para usarla en Linux se debe cambiar la ruta al intérprete de Python en `File->Preferences->Settings`, modificando a directiva `doctestbtn.dtPythonPath` a `python3`."
   ]
  }
 ],
 "metadata": {
  "kernelspec": {
   "display_name": "Python 3",
   "language": "python",
   "name": "python3"
  },
  "language_info": {
   "codemirror_mode": {
    "name": "ipython",
    "version": 3
   },
   "file_extension": ".py",
   "mimetype": "text/x-python",
   "name": "python",
   "nbconvert_exporter": "python",
   "pygments_lexer": "ipython3",
   "version": "3.10.12"
  }
 },
 "nbformat": 4,
 "nbformat_minor": 2
}
