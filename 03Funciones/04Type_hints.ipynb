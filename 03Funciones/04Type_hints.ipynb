{
 "cells": [
  {
   "cell_type": "markdown",
   "metadata": {},
   "source": [
    "# *Type hints*\n",
    "\n",
    "Desde la versión 3.5 de Python es posible (aunque no obligatorio) especificar los tipos de datos que reciben y devuelven las funciones.\n",
    "\n",
    "Los tipos de datos que se pueden especificar son los siguientes:\n",
    "\n",
    "- `int`\n",
    "- `float`\n",
    "- `str`\n",
    "- `bool`\n",
    "- `list`\n",
    "- `tuple`\n",
    "- `dict`\n",
    "- `set`\n",
    "- `frozenset`\n",
    "- `None`\n",
    "\n",
    "Para especificar el tipo de dato que toma una función se hace de la siguiente manera:\n",
    "    \n",
    "```python\n",
    "def funcion(parametro: tipo) -> tipo:\n",
    "    ...\n",
    "```\n",
    "\n",
    "Para especificar que una función no devuelve nada se usa el tipo `None`:\n",
    "\n",
    "```python\n",
    "def funcion(parametro: tipo) -> None:\n",
    "    ...\n",
    "```\n",
    "\n",
    "Para especificar que una función devuelve varios tipos de datos se usa la función `Union` del módulo `typing`:\n",
    "\n",
    "```python\n",
    "from typing import Union\n",
    "\n",
    "def funcion(parametro: tipo) -> Union[tipo1, tipo2, ...]:\n",
    "\n",
    "```\n",
    "\n",
    "El intérprete **IGNORARÁ** completamente estas indicaciones, pero son muy útiles en tiempo de desarrollo y generan un código más limpio y estructurado.\n"
   ]
  },
  {
   "cell_type": "code",
   "execution_count": 1,
   "metadata": {},
   "outputs": [
    {
     "data": {
      "text/plain": [
       "3"
      ]
     },
     "execution_count": 1,
     "metadata": {},
     "output_type": "execute_result"
    }
   ],
   "source": [
    "def sumar(a: int, b: int) -> int:\n",
    "    return a + b\n",
    "\n",
    "sumar(1, 2)"
   ]
  },
  {
   "cell_type": "code",
   "execution_count": 3,
   "metadata": {},
   "outputs": [
    {
     "data": {
      "text/plain": [
       "'32'"
      ]
     },
     "execution_count": 3,
     "metadata": {},
     "output_type": "execute_result"
    }
   ],
   "source": [
    "def sumar(a: int, b: int) -> int:\n",
    "    return a + b\n",
    "\n",
    "sumar(\"3\", \"2\")"
   ]
  },
  {
   "cell_type": "code",
   "execution_count": null,
   "metadata": {},
   "outputs": [],
   "source": [
    "def nota(valor: float) -> str:\n",
    "    if (valor >= 0 and valor < 5):\n",
    "        return \"Suspenso\"\n",
    "    elif (valor < 6):\n",
    "        return \"Aprobado\"\n",
    "    elif (valor < 7):\n",
    "        return \"Bien\"\n",
    "    elif (valor < 9):\n",
    "        return \"Notable\"\n",
    "    elif (valor <= 10):\n",
    "        return \"Sobresaliente\""
   ]
  },
  {
   "cell_type": "code",
   "execution_count": null,
   "metadata": {},
   "outputs": [
    {
     "name": "stdout",
     "output_type": "stream",
     "text": [
      "10\n"
     ]
    }
   ],
   "source": [
    "def nota(valor: float) -> str:\n",
    "    if (valor >= 0 and valor < 5):\n",
    "        return \"Suspenso\"\n",
    "    elif (valor < 6):\n",
    "        return \"Aprobado\"\n",
    "    elif (valor < 7):\n",
    "        return \"Bien\"\n",
    "    elif (valor < 9):\n",
    "        return \"Notable\"\n",
    "    elif (valor <= 10):\n",
    "        return \"Sobresaliente\"\n",
    "    else:\n",
    "        return \"No válido\""
   ]
  },
  {
   "cell_type": "code",
   "execution_count": null,
   "metadata": {},
   "outputs": [],
   "source": [
    "def nota(valor: float) -> str|None:\n",
    "    if (valor >= 0 and valor < 5):\n",
    "        return \"Suspenso\"\n",
    "    elif (valor < 6):\n",
    "        return \"Aprobado\"\n",
    "    elif (valor < 7):\n",
    "        return \"Bien\"\n",
    "    elif (valor < 9):\n",
    "        return \"Notable\"\n",
    "    elif (valor <= 10):\n",
    "        return \"Sobresaliente\""
   ]
  },
  {
   "cell_type": "code",
   "execution_count": null,
   "metadata": {},
   "outputs": [],
   "source": [
    "def eliminar_pares(lista: list[int]) -> list[int]:\n",
    "    i = 0\n",
    "    while i < len(lista):\n",
    "        if lista[i] % 2 == 0:\n",
    "            del lista[i]\n",
    "        else:\n",
    "            i += 1\n",
    "    return lista\n",
    "\n",
    "eliminar_pares([1, 2, 3, 4, 5, 6, 7, 8, 9, 10])\n",
    "eliminar_pares([1.3, 3, 5, 7, 9])"
   ]
  },
  {
   "cell_type": "markdown",
   "metadata": {},
   "source": [
    "## Activación en VSCode\n",
    "\n",
    "Necesitamos dos extensiones:\n",
    "\n",
    "### **Python Type Hint**\n",
    "\n",
    "Para mostrar ayuda emergente de los posibles tipos al escribir los *type hints*.\n",
    "\n",
    "### **Pylance**\n",
    "Entre otras muchas funciones, comprueba que los tipos se corresponden con los que hemos indicado. \n",
    "\n",
    "Debe habilitarse en:\n",
    "\n",
    "`File -> Preferences -> Settings -> python.analysis.typeCheckingMode`, dándole valor `Basic`.\n",
    "\n",
    "### **Error Lens**\n",
    "No es imprescindible, pero sí recomendable para que muestre el error en la misma línea en la que se produce."
   ]
  }
 ],
 "metadata": {
  "kernelspec": {
   "display_name": "Python 3",
   "language": "python",
   "name": "python3"
  },
  "language_info": {
   "codemirror_mode": {
    "name": "ipython",
    "version": 3
   },
   "file_extension": ".py",
   "mimetype": "text/x-python",
   "name": "python",
   "nbconvert_exporter": "python",
   "pygments_lexer": "ipython3",
   "version": "3.12.3"
  }
 },
 "nbformat": 4,
 "nbformat_minor": 2
}
