{
 "cells": [
  {
   "cell_type": "markdown",
   "metadata": {},
   "source": [
    "## Exercise 1\n",
    "\n",
    "Create a function that receives a number and returns True if the number is even and False if it is odd.\n",
    "\n",
    "Then, the program should ask for two numbers and display the even numbers between them."
   ]
  },
  {
   "cell_type": "markdown",
   "metadata": {},
   "source": [
    "## Exercise 2\n",
    "\n",
    "Create a function that converts degrees Celsius to Fahrenheit. It should receive a number in Celsius and return its equivalent in Fahrenheit."
   ]
  },
  {
   "cell_type": "markdown",
   "metadata": {},
   "source": [
    "## Exercise 3\n",
    "\n",
    "Create a function that receives a number and returns the factorial of that number."
   ]
  },
  {
   "cell_type": "markdown",
   "metadata": {},
   "source": [
    "## Exercise 4\n",
    "\n",
    "Create a function that returns a random number within a given range. The function should receive `min` and `max` as arguments, with default values 1 and 100, respectively."
   ]
  },
  {
   "cell_type": "markdown",
   "metadata": {},
   "source": [
    "## Exercise 5\n",
    "\n",
    "Create a function that counts how many vowels are in a text string. The function should receive a string and return the number of vowels."
   ]
  },
  {
   "cell_type": "markdown",
   "metadata": {},
   "source": [
    "## Exercise 6\n",
    "\n",
    "Create a function that classifies a person as \"child\", \"teenager\", \"adult\" or \"elderly\" based on their age. The function should accept an `age` argument and return a string with the classification."
   ]
  },
  {
   "cell_type": "markdown",
   "metadata": {},
   "source": [
    "## Exercise 7\n",
    "\n",
    "Create a function that receives three parameters: the given name and the two family names of a person, and returns the full name with both family names. It should be callable with two arguments (given name and first family name) or with three (given name and two family names)."
   ]
  }
 ],
 "metadata": {
  "language_info": {
   "name": "python"
  }
 },
 "nbformat": 4,
 "nbformat_minor": 2
}
