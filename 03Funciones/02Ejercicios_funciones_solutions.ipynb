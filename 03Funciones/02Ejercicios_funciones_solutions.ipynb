{
 "cells": [
  {
   "cell_type": "markdown",
   "metadata": {},
   "source": [
    "## Exercise 1\n",
    "\n",
    "Create a function that calculates and returns the area of a circle."
   ]
  },
  {
   "cell_type": "code",
   "execution_count": null,
   "metadata": {},
   "outputs": [
    {
     "data": {
      "text/plain": [
       "314.15999999999997"
      ]
     },
     "execution_count": 1,
     "metadata": {},
     "output_type": "execute_result"
    }
   ],
   "source": [
    "def area_circulo(radio):\n",
    "    PI = 3.1416\n",
    "    return PI * radio ** 2\n",
    "\n",
    "print(area_circulo(10))"
   ]
  },
  {
   "cell_type": "markdown",
   "metadata": {},
   "source": [
    "## Exercise 1a\n",
    "\n",
    "Now create two different main programs that can use this function. For example:\n",
    "\n",
    "- A program that asks the user for the radius and prints the area of the circle\n",
    "- A program for a company that makes circular coasters: to calculate the material needed, ask the user how many coasters they want and what the radius is, then calculate the total area for all coasters. The user may choose different types of coasters and different quantities for each."
   ]
  },
  {
   "cell_type": "code",
   "execution_count": 2,
   "metadata": {},
   "outputs": [
    {
     "name": "stdout",
     "output_type": "stream",
     "text": [
      "A área dese círculo é 314.15999999999997\n"
     ]
    }
   ],
   "source": [
    "def area_circulo(radio):\n",
    "    PI = 3.1416\n",
    "    return PI * radio ** 2\n",
    "\n",
    "r = float(input(\"Introduce o radio do círculo:\"))\n",
    "print(\"A área dese círculo é\", area_circulo(r))"
   ]
  },
  {
   "cell_type": "code",
   "execution_count": 3,
   "metadata": {},
   "outputs": [
    {
     "name": "stdout",
     "output_type": "stream",
     "text": [
      "A área total é 307.8768\n"
     ]
    }
   ],
   "source": [
    "def area_circulo(radio):\n",
    "    PI = 3.1416\n",
    "    return PI * radio ** 2\n",
    "\n",
    "resposta = \"s\"\n",
    "area_total = 0\n",
    "\n",
    "while resposta == \"s\":\n",
    "    num_posavasos = int(input(\"Cántos queres?\"))\n",
    "    radio = float(input(\"Introduce o radio do posavasos:\"))\n",
    "    area = area_circulo(radio)\n",
    "    area_total += num_posavasos * area\n",
    "    resposta = input(\"Queres comprar máis?\")\n",
    "\n",
    "print(\"A área total é\", area_total) "
   ]
  },
  {
   "cell_type": "markdown",
   "metadata": {},
   "source": [
    "## Exercise 2\n",
    "\n",
    "Create a function that receives an integer and prints a square of asterisks with that many asterisks per side. For example, if passed the value 3, it should display:\n",
    "```python\n",
    "***\n",
    "***\n",
    "***\n",
    "```"
   ]
  },
  {
   "cell_type": "code",
   "execution_count": null,
   "metadata": {},
   "outputs": [
    {
     "name": "stdout",
     "output_type": "stream",
     "text": [
      "***\n",
      "***\n",
      "***\n"
     ]
    }
   ],
   "source": [
    "def cuadrado(n):\n",
    "    for i in range(n):\n",
    "        for j in range(n):\n",
    "            print(\"*\", end=\"\")\n",
    "        print()\n",
    "        \n",
    "cuadrado(3)"
   ]
  },
  {
   "cell_type": "code",
   "execution_count": null,
   "metadata": {},
   "outputs": [
    {
     "name": "stdout",
     "output_type": "stream",
     "text": [
      "*****\n",
      "*****\n",
      "*****\n",
      "*****\n",
      "*****\n"
     ]
    }
   ],
   "source": [
    "def cuadrado(n):\n",
    "    for i in range(n):\n",
    "        i = n * \"*\"\n",
    "        print(i)\n",
    "        \n",
    "cuadrado(5)"
   ]
  },
  {
   "cell_type": "markdown",
   "metadata": {},
   "source": [
    "## Exercise 3\n",
    "\n",
    "Create a function that receives a student's age and returns whether they are an adult (as a boolean value)."
   ]
  },
  {
   "cell_type": "code",
   "execution_count": null,
   "metadata": {},
   "outputs": [
    {
     "name": "stdout",
     "output_type": "stream",
     "text": [
      "False\n"
     ]
    }
   ],
   "source": [
    "def is_adult(age) :\n",
    "    if age >= 18:\n",
    "        adult = True\n",
    "    else:\n",
    "        adult = False\n",
    "    return adult\n",
    "\n",
    "age = 0\n",
    "print(adult(age))"
   ]
  },
  {
   "cell_type": "code",
   "execution_count": 13,
   "metadata": {},
   "outputs": [
    {
     "name": "stdout",
     "output_type": "stream",
     "text": [
      "True\n"
     ]
    }
   ],
   "source": [
    "def is_adult(age) :\n",
    "    if age >= 18:\n",
    "        return True\n",
    "    else:\n",
    "        return False\n",
    "\n",
    "age = 20\n",
    "print(adult(age))"
   ]
  },
  {
   "cell_type": "code",
   "execution_count": null,
   "metadata": {},
   "outputs": [],
   "source": [
    "def is_adult(age) :\n",
    "    if age >= 18:\n",
    "        return True\n",
    "    return False\n",
    "\n",
    "age = 20\n",
    "print(adult(age))"
   ]
  },
  {
   "cell_type": "code",
   "execution_count": null,
   "metadata": {},
   "outputs": [],
   "source": [
    "def is_adult(age) : \n",
    "    adult = False\n",
    "    if age >= 18:\n",
    "        adult = True\n",
    "    return adult\n",
    "\n",
    "age = 20\n",
    "print(adult(age))"
   ]
  },
  {
   "cell_type": "code",
   "execution_count": null,
   "metadata": {},
   "outputs": [
    {
     "name": "stdout",
     "output_type": "stream",
     "text": [
      "True\n"
     ]
    }
   ],
   "source": [
    "def is_adult(age) :\n",
    "    return age >= 18\n",
    "        \n",
    "age = 20\n",
    "print(is_adult(age))"
   ]
  },
  {
   "cell_type": "markdown",
   "metadata": {},
   "source": [
    "## Exercise 4\n",
    "\n",
    "Create a function that takes no parameters and displays the following menu:\n",
    "\n",
    "```\n",
    "    1. Greet\n",
    "    2. Say goodbye\n",
    "    3. Exit\n",
    "    Choose an option: \n",
    "```\n",
    "\n",
    "It should return the value chosen by the user.\n",
    "\n",
    "The main program should call the function and execute the option chosen by the user.\n"
   ]
  },
  {
   "cell_type": "code",
   "execution_count": 22,
   "metadata": {},
   "outputs": [
    {
     "name": "stdout",
     "output_type": "stream",
     "text": [
      "1. Greet\n",
      "    2. Say goodbye\n",
      "    3. Exit\n",
      "    Choose an option:\n",
      "Exit\n"
     ]
    }
   ],
   "source": [
    "def menu():\n",
    "    print('''1. Greet\n",
    "    2. Say goodbye\n",
    "    3. Exit\n",
    "    Choose an option:''')\n",
    "    return int(input())\n",
    "\n",
    "def operation(n):\n",
    "    match n:\n",
    "        case 1:\n",
    "            print(\"Hello\")\n",
    "        case 2:\n",
    "            print(\"Goodbye\")\n",
    "        case 3:\n",
    "            print(\"Exit\")\n",
    "\n",
    "\n",
    "option = menu()\n",
    "operation(option)"
   ]
  },
  {
   "cell_type": "code",
   "execution_count": null,
   "metadata": {},
   "outputs": [
    {
     "name": "stdout",
     "output_type": "stream",
     "text": [
      "1. Greet\n",
      "    2. Say goodbye\n",
      "    3. Exit\n",
      "    Choose an option:\n"
     ]
    },
    {
     "ename": "ValueError",
     "evalue": "invalid literal for int() with base 10: 'jkh'",
     "output_type": "error",
     "traceback": [
      "\u001b[0;31m---------------------------------------------------------------------------\u001b[0m",
      "\u001b[0;31mValueError\u001b[0m                                Traceback (most recent call last)",
      "Cell \u001b[0;32mIn[25], line 23\u001b[0m\n\u001b[1;32m     20\u001b[0m option \u001b[38;5;241m=\u001b[39m \u001b[38;5;241m0\u001b[39m\n\u001b[1;32m     22\u001b[0m \u001b[38;5;28;01mwhile\u001b[39;00m option \u001b[38;5;241m!=\u001b[39m \u001b[38;5;241m3\u001b[39m:\n\u001b[0;32m---> 23\u001b[0m     option \u001b[38;5;241m=\u001b[39m \u001b[43mmenu\u001b[49m\u001b[43m(\u001b[49m\u001b[43m)\u001b[49m\n\u001b[1;32m     24\u001b[0m     operation(option)\n",
      "Cell \u001b[0;32mIn[25], line 6\u001b[0m, in \u001b[0;36mmenu\u001b[0;34m()\u001b[0m\n\u001b[1;32m      1\u001b[0m \u001b[38;5;28;01mdef\u001b[39;00m \u001b[38;5;21mmenu\u001b[39m():\n\u001b[1;32m      2\u001b[0m     \u001b[38;5;28mprint\u001b[39m(\u001b[38;5;124m'''\u001b[39m\u001b[38;5;124m1. Greet\u001b[39m\n\u001b[1;32m      3\u001b[0m \u001b[38;5;124m    2. Say goodbye\u001b[39m\n\u001b[1;32m      4\u001b[0m \u001b[38;5;124m    3. Exit\u001b[39m\n\u001b[1;32m      5\u001b[0m \u001b[38;5;124m    Choose an option:\u001b[39m\u001b[38;5;124m'''\u001b[39m)\n\u001b[0;32m----> 6\u001b[0m     \u001b[38;5;28;01mreturn\u001b[39;00m \u001b[38;5;28;43mint\u001b[39;49m\u001b[43m(\u001b[49m\u001b[38;5;28;43minput\u001b[39;49m\u001b[43m(\u001b[49m\u001b[43m)\u001b[49m\u001b[43m)\u001b[49m\n",
      "\u001b[0;31mValueError\u001b[0m: invalid literal for int() with base 10: 'jkh'"
     ]
    }
   ],
   "source": [
    "def menu() -> int:\n",
    "    print('''1. Greet\n",
    "    2. Say goodbye\n",
    "    3. Exit\n",
    "    Choose an option:''')\n",
    "    return int(input())\n",
    "\n",
    "def operation(n: int) -> None:\n",
    "    match n:\n",
    "        case 1:\n",
    "            print(\"Hello\")\n",
    "        case 2:\n",
    "            print(\"Goodbye\")\n",
    "        case 3:\n",
    "            print(\"Exit\")\n",
    "        case _:\n",
    "            print(\"Wrong option\")\n",
    "\n",
    "\n",
    "option: int = 0\n",
    "\n",
    "while option != 3:\n",
    "    option = menu()\n",
    "    operation(option)"
   ]
  },
  {
   "cell_type": "markdown",
   "metadata": {},
   "source": [
    "# Exercise 5\n",
    "\n",
    "Create a Python function that calculates and **prints** the volume and surface area of a cone.\n",
    "\n",
    "Modify it so there are two functions: one that **returns** the volume and another that returns the surface area of the cone.\n",
    "\n",
    "**ADVANCED** Modify it so it is a function that returns two values."
   ]
  },
  {
   "cell_type": "code",
   "execution_count": 1,
   "metadata": {},
   "outputs": [
    {
     "name": "stdout",
     "output_type": "stream",
     "text": [
      "665.4000019110156\n",
      "523.5987755982989\n"
     ]
    }
   ],
   "source": [
    "import math\n",
    "\n",
    "def cone_area(radio: float, height: float) -> float:\n",
    "    g: float = math.sqrt(radio ** 2 + height ** 2)\n",
    "    side_area: float = math.pi * radio * g\n",
    "    base_area: float = math.pi * radio ** 2\n",
    "    return side_area + base_area\n",
    "\n",
    "def cone_volume(radio: float, height: float) -> float:\n",
    "    return 1 / 3 * math.pi * radio ** 2 * height\n",
    "\n",
    "print(cone_area(10, 5))\n",
    "print(cone_volume(10, 5))"
   ]
  },
  {
   "cell_type": "code",
   "execution_count": 3,
   "metadata": {},
   "outputs": [
    {
     "name": "stdout",
     "output_type": "stream",
     "text": [
      "A área é 665.4000019110156 e o volume é 523.5987755982989\n"
     ]
    }
   ],
   "source": [
    "import math\n",
    "\n",
    "def cone_area_volume(radio: float, height: float) -> tuple[float, float]:\n",
    "    g: float = math.sqrt(radio ** 2 + height ** 2)\n",
    "    side_area: float = math.pi * radio * g\n",
    "    base_area: float = math.pi * radio ** 2\n",
    "    area: float = side_area + base_area\n",
    "    volume: float = 1 / 3 * math.pi * radio ** 2 * height\n",
    "    return area, volume\n",
    "\n",
    "a, v = cone_area_volume(10, 5)\n",
    "print(\"A área é\", a, \"e o volume é\", v)"
   ]
  },
  {
   "cell_type": "markdown",
   "metadata": {},
   "source": [
    "# Exercise 6\n",
    "\n",
    "Create a Python function that determines whether a year is a leap year. It should return `True` when it is and `False` otherwise. Create a main program that asks the user for a year and uses the function to inform whether it is a leap year or not."
   ]
  },
  {
   "cell_type": "markdown",
   "metadata": {},
   "source": [
    "# Exercise 7\n",
    "\n",
    "Use the previous function to create a program that asks the user for a minimum and maximum year and returns the leap years between them.\n",
    "\n",
    "**ADVANCED**: Create **another function** that uses the one from Exercise 6, which accepts start and end years. If no end year is provided, it should default to 2025.\n"
   ]
  },
  {
   "cell_type": "markdown",
   "metadata": {},
   "source": [
    "# Exercise 8\n",
    "\n",
    "Create a Python function that determines whether a number is prime. The function should return `True` when the number is prime and `False` otherwise.\n"
   ]
  },
  {
   "cell_type": "markdown",
   "metadata": {},
   "source": [
    "# Exercise 9\n",
    "\n",
    "Use the previous function to create a program that asks the user for a number and returns the prime numbers smaller than that number."
   ]
  },
  {
   "cell_type": "markdown",
   "metadata": {},
   "source": [
    "# Exercise 10\n",
    "\n",
    "Create a function in Python that receives a number and generates a pyramid like the following (this would be generated when the input is 5):\n",
    "```python\n",
    "    1\n",
    "   212\n",
    "  32123\n",
    " 4321234\n",
    "543212345\n",
    "```\n",
    "\n",
    "In order to do this, you can break it down into three steps (test each step separately before moving on to the next):\n",
    "\n",
    "Step 1\n",
    "```python\n",
    "1\n",
    "21\n",
    "321\n",
    "4321\n",
    "54321\n",
    "```\n",
    "Step 2\n",
    "```python\n",
    "    1\n",
    "   21\n",
    "  321\n",
    " 4321\n",
    "54321\n",
    "```\n",
    "Step 3\n",
    "```python\n",
    "    1\n",
    "   212\n",
    "  32123\n",
    " 4321234\n",
    "543212345\n",
    "```"
   ]
  }
 ],
 "metadata": {
  "kernelspec": {
   "display_name": "Python 3",
   "language": "python",
   "name": "python3"
  },
  "language_info": {
   "codemirror_mode": {
    "name": "ipython",
    "version": 3
   },
   "file_extension": ".py",
   "mimetype": "text/x-python",
   "name": "python",
   "nbconvert_exporter": "python",
   "pygments_lexer": "ipython3",
   "version": "3.12.3"
  },
  "orig_nbformat": 4
 },
 "nbformat": 4,
 "nbformat_minor": 2
}
