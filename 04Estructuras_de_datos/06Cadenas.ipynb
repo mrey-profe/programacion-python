{
 "cells": [
  {
   "cell_type": "markdown",
   "metadata": {},
   "source": [
    "# Cadenas\n",
    "\n",
    "Las cadenas son un tipo de secuencias de Python, por lo que todo lo aplicable a las secuencias en cuanto a acceso y operadores, se aplica también a las cadenas.\n",
    "\n",
    "Recordemos que las cadenas son **inmutables**. Por ello, todos los métodos devolverán una cadena con el resultado **pero no modificarán la cadena original**."
   ]
  },
  {
   "cell_type": "code",
   "execution_count": null,
   "metadata": {},
   "outputs": [],
   "source": [
    "cadena = \"Hola\"\n",
    "\n",
    "cadena[1] = 'a'\n",
    "\n",
    "print()"
   ]
  },
  {
   "cell_type": "markdown",
   "metadata": {},
   "source": [
    "Las cadenas se declaran utilizando las comillas simples ( `\\'`) o dobles (`\\\"`)."
   ]
  },
  {
   "cell_type": "markdown",
   "metadata": {},
   "source": [
    "## Métodos de capitalización\n"
   ]
  },
  {
   "cell_type": "markdown",
   "metadata": {},
   "source": [
    "\n",
    "### `capitalize()`\n",
    "\n",
    "Devuelve la misma cadena pero con la primera letra en mayúscula."
   ]
  },
  {
   "cell_type": "code",
   "execution_count": 1,
   "metadata": {},
   "outputs": [
    {
     "name": "stdout",
     "output_type": "stream",
     "text": [
      "Hola\n",
      "hola\n"
     ]
    }
   ],
   "source": [
    "cadena = \"hola\"\n",
    "\n",
    "print(cadena.capitalize())\n",
    "print(cadena) # Vemos que la original no se modifica"
   ]
  },
  {
   "cell_type": "markdown",
   "metadata": {},
   "source": [
    "Si quisiéramos modificar la cadena, tendríamos que reasignar el resultado a la propia cadena:"
   ]
  },
  {
   "cell_type": "code",
   "execution_count": null,
   "metadata": {},
   "outputs": [],
   "source": [
    "cadena = \"hola\"\n",
    "\n",
    "cadena = cadena.capitalize()\n",
    "\n",
    "print(cadena)"
   ]
  },
  {
   "cell_type": "markdown",
   "metadata": {},
   "source": [
    "### `lower()`\n",
    "\n",
    "Devuelve una copia de la cadena con todos los caracteres en minúsculas.\n"
   ]
  },
  {
   "cell_type": "code",
   "execution_count": 3,
   "metadata": {},
   "outputs": [
    {
     "name": "stdout",
     "output_type": "stream",
     "text": [
      "привіт світ\n"
     ]
    }
   ],
   "source": [
    "cadena = \"Привіт Світ\"\n",
    "\n",
    "print(cadena.lower())"
   ]
  },
  {
   "cell_type": "code",
   "execution_count": 4,
   "metadata": {},
   "outputs": [
    {
     "name": "stdout",
     "output_type": "stream",
     "text": [
      "hola\n"
     ]
    }
   ],
   "source": [
    "cadena = \"HOla\"\n",
    "print(cadena.lower())"
   ]
  },
  {
   "cell_type": "markdown",
   "metadata": {},
   "source": [
    "### `upper()`\n",
    "\n",
    "Devuelve una copia de la cadena con todos los caracteres en mayúsculas.\n"
   ]
  },
  {
   "cell_type": "code",
   "execution_count": 5,
   "metadata": {},
   "outputs": [
    {
     "name": "stdout",
     "output_type": "stream",
     "text": [
      "ПРИВІТ СВІТ\n"
     ]
    }
   ],
   "source": [
    "cadena = \"Привіт Світ\"\n",
    "\n",
    "print(cadena.upper())\n"
   ]
  },
  {
   "cell_type": "code",
   "execution_count": 6,
   "metadata": {},
   "outputs": [
    {
     "name": "stdout",
     "output_type": "stream",
     "text": [
      "HOLA\n"
     ]
    }
   ],
   "source": [
    "cadena = \"HOla\"\n",
    "print(cadena.upper())"
   ]
  },
  {
   "cell_type": "markdown",
   "metadata": {},
   "source": [
    "\n",
    "### `swapcase()`\n",
    "\n",
    "Devuelve una copia de la cadena con los caracteres en mayúsculas convertidos a minúsculas y viceversa."
   ]
  },
  {
   "cell_type": "code",
   "execution_count": 7,
   "metadata": {},
   "outputs": [
    {
     "name": "stdout",
     "output_type": "stream",
     "text": [
      "hOLa MuNDo\n"
     ]
    }
   ],
   "source": [
    "cadena = \"HolA mUndO\"\n",
    "\n",
    "print(cadena.swapcase())"
   ]
  },
  {
   "cell_type": "markdown",
   "metadata": {},
   "source": [
    "### `title()`\n",
    "\n",
    "Cambia la primera letra de cada palabra a mayúsculas, convirtiendo todas las demás a minúsculas.\n"
   ]
  },
  {
   "cell_type": "code",
   "execution_count": 8,
   "metadata": {},
   "outputs": [
    {
     "name": "stdout",
     "output_type": "stream",
     "text": [
      "We Will Rock You\n"
     ]
    }
   ],
   "source": [
    "cancion = \"we will rock you\"\n",
    "\n",
    "print(cancion.title())"
   ]
  },
  {
   "cell_type": "markdown",
   "metadata": {},
   "source": [
    "### `casefold()`\n",
    "\n",
    "Esta función está destinada a la comparación de cadenas sin tener en cuenta las diferencias de mayúsculas y minúsculas. Lleva a cabo una operación similar a str.lower(), pero va un poco más allá, ya que es más agresiva, y puede cambiar el tamaño de la cadena, no solo los caracteres en mayúsculas a minúsculas.\n",
    "\n",
    "Por ejemplo, modifica la letra alemana 'ß' (que no tiene equivalente en mayúsculas) a 'ss'.\n"
   ]
  },
  {
   "cell_type": "code",
   "execution_count": 9,
   "metadata": {},
   "outputs": [
    {
     "name": "stdout",
     "output_type": "stream",
     "text": [
      "strasse?\n"
     ]
    }
   ],
   "source": [
    "\n",
    "cadena = \"Straße?\"\n",
    "\n",
    "print(cadena.casefold())"
   ]
  },
  {
   "cell_type": "markdown",
   "metadata": {},
   "source": [
    "## Métodos de comprobación de prefijo/sufijo\n"
   ]
  },
  {
   "cell_type": "markdown",
   "metadata": {},
   "source": [
    "\n",
    "### `endswith(sufijo)`\n",
    "\n",
    "Devuelve `True` si la cadena termina con el sufijo especificado, en caso contrario devuelve `False`."
   ]
  },
  {
   "cell_type": "code",
   "execution_count": 10,
   "metadata": {},
   "outputs": [
    {
     "name": "stdout",
     "output_type": "stream",
     "text": [
      "Verbo 3ª conjugación\n"
     ]
    }
   ],
   "source": [
    "cadena = \"reir\"\n",
    "\n",
    "if cadena.endswith(\"ar\"):\n",
    "    print(\"Verbo 1ª conjugación\")\n",
    "elif cadena.endswith(\"er\"):\n",
    "    print(\"Verbo 2ª conjugación\")\n",
    "elif cadena.endswith(\"ir\"):\n",
    "    print(\"Verbo 3ª conjugación\")\n",
    "else:\n",
    "    print(\"No es un verbo\")"
   ]
  },
  {
   "cell_type": "markdown",
   "metadata": {},
   "source": [
    "### `startsswith(prefijo)`\n",
    "\n",
    "Devuelve `True` si la cadena empieza con el prefijo especificado, en caso contrario devuelve `False`.\n"
   ]
  },
  {
   "cell_type": "code",
   "execution_count": 13,
   "metadata": {},
   "outputs": [
    {
     "name": "stdout",
     "output_type": "stream",
     "text": [
      "El teléfono es de Pontevedra\n"
     ]
    }
   ],
   "source": [
    "cadena = \"886120464\"\n",
    "\n",
    "if cadena.startswith(\"886\") or cadena.startswith(\"986\"):\n",
    "    print(\"El teléfono es de Pontevedra\")"
   ]
  },
  {
   "cell_type": "markdown",
   "metadata": {},
   "source": [
    "## Métodos de búsqueda y remplazo\n"
   ]
  },
  {
   "cell_type": "markdown",
   "metadata": {},
   "source": [
    "\n",
    "### `count(subcadena[, inicio[, fin]])`\n",
    "\n",
    "Este método está presente en todas las secuencias en Python.\n",
    "\n",
    "En las cadenas, se utiliza para contar el número de veces que aparece una subcadena en la cadena.\n",
    "\n",
    "Si se especifica el inicio y el fin, se buscará la subcadena en ese trozo de la cadena."
   ]
  },
  {
   "cell_type": "code",
   "execution_count": 16,
   "metadata": {},
   "outputs": [
    {
     "name": "stdout",
     "output_type": "stream",
     "text": [
      "4\n"
     ]
    }
   ],
   "source": [
    "texto = '''Pido perdón a los niños por haber dedicado este libro a una persona mayor. Tengo una seria\n",
    "excusa: esta persona mayor es el mejor amigo que tengo en el mundo. Tengo otra excusa: esta persona\n",
    "mayor es capaz de entenderlo todo, hasta los libros para niños. Tengo una tercera excusa: esta persona\n",
    "mayor vive en Francia, donde pasa hambre y frío. Verdaderamente necesita consuelo. Si todas esas\n",
    "excusas no bastasen, bien puedo dedicar este libro al niño que una vez fue esta persona mayor. Todos\n",
    "los mayores han sido primero niños. (Pero pocos lo recuerdan).'''\n",
    "\n",
    "print(texto.count(\"mayor\"))"
   ]
  },
  {
   "cell_type": "markdown",
   "metadata": {},
   "source": [
    "### `index(subcadena[, inicio[, fin]])`\n",
    "\n",
    "Este método está presente en todas las secuencias de Python.\n",
    "\n",
    "En las cadenas, se utiliza para buscar la posición de una subcadena dentro de otra.\n",
    "\n",
    "Si se indican los parámetros opcionales inicio y fin, la búsqueda se realiza dentro de un trozo de la cadena original, comenzando en el índice inicio y terminando en el índice fin."
   ]
  },
  {
   "cell_type": "code",
   "execution_count": 2,
   "metadata": {},
   "outputs": [
    {
     "name": "stdout",
     "output_type": "stream",
     "text": [
      "5\n"
     ]
    },
    {
     "ename": "ValueError",
     "evalue": "substring not found",
     "output_type": "error",
     "traceback": [
      "\u001b[0;31m---------------------------------------------------------------------------\u001b[0m",
      "\u001b[0;31mValueError\u001b[0m                                Traceback (most recent call last)",
      "Cell \u001b[0;32mIn[2], line 4\u001b[0m\n\u001b[1;32m      1\u001b[0m cadena \u001b[38;5;241m=\u001b[39m \u001b[38;5;124m\"\u001b[39m\u001b[38;5;124mHola Mundo\u001b[39m\u001b[38;5;124m\"\u001b[39m\n\u001b[1;32m      3\u001b[0m \u001b[38;5;28mprint\u001b[39m(cadena\u001b[38;5;241m.\u001b[39mindex(\u001b[38;5;124m\"\u001b[39m\u001b[38;5;124mMundo\u001b[39m\u001b[38;5;124m\"\u001b[39m))\n\u001b[0;32m----> 4\u001b[0m \u001b[38;5;28mprint\u001b[39m(\u001b[43mcadena\u001b[49m\u001b[38;5;241;43m.\u001b[39;49m\u001b[43mindex\u001b[49m\u001b[43m(\u001b[49m\u001b[38;5;124;43m\"\u001b[39;49m\u001b[38;5;124;43mmundo\u001b[39;49m\u001b[38;5;124;43m\"\u001b[39;49m\u001b[43m)\u001b[49m)\n",
      "\u001b[0;31mValueError\u001b[0m: substring not found"
     ]
    }
   ],
   "source": [
    "cadena = \"Hola Mundo\"\n",
    "\n",
    "print(cadena.index(\"Mundo\"))\n",
    "print(cadena.index(\"mundo\"))"
   ]
  },
  {
   "cell_type": "markdown",
   "metadata": {},
   "source": [
    "### `find(subcadena, [inicio], [fin])` y `rfind(subcadena, [inicio], [fin])`\n",
    "\n",
    "`find()` Busca la subcadena dentro de la cadena y devuelve el índice de la primera aparición de la subcadena. Parecido a `index()` pero si no la encuentra devuelve -1.\n",
    "\n",
    "Si se indican los parámetros opcionales inicio y fin, la búsqueda se realiza dentro de un trozo de la cadena original, comenzando en el índice inicio y terminando en el índice fin.\n",
    "\n",
    "El método `rfind()` funciona igual pero empieza a buscar desde el final de la cadena."
   ]
  },
  {
   "cell_type": "code",
   "execution_count": 18,
   "metadata": {},
   "outputs": [
    {
     "name": "stdout",
     "output_type": "stream",
     "text": [
      "5\n",
      "-1\n"
     ]
    },
    {
     "ename": "ValueError",
     "evalue": "substring not found",
     "output_type": "error",
     "traceback": [
      "\u001b[1;31m---------------------------------------------------------------------------\u001b[0m",
      "\u001b[1;31mValueError\u001b[0m                                Traceback (most recent call last)",
      "\u001b[1;32mz:\\Programacion\\apuntes\\04Estructuras_de_datos\\06Cadenas.ipynb Celda 33\u001b[0m line \u001b[0;36m5\n\u001b[0;32m      <a href='vscode-notebook-cell:/z%3A/Programacion/apuntes/04Estructuras_de_datos/06Cadenas.ipynb#X44sZmlsZQ%3D%3D?line=2'>3</a>\u001b[0m \u001b[39mprint\u001b[39m(cadena\u001b[39m.\u001b[39mfind(\u001b[39m\"\u001b[39m\u001b[39mMundo\u001b[39m\u001b[39m\"\u001b[39m))\n\u001b[0;32m      <a href='vscode-notebook-cell:/z%3A/Programacion/apuntes/04Estructuras_de_datos/06Cadenas.ipynb#X44sZmlsZQ%3D%3D?line=3'>4</a>\u001b[0m \u001b[39mprint\u001b[39m(cadena\u001b[39m.\u001b[39mfind(\u001b[39m\"\u001b[39m\u001b[39mmundo\u001b[39m\u001b[39m\"\u001b[39m))\n\u001b[1;32m----> <a href='vscode-notebook-cell:/z%3A/Programacion/apuntes/04Estructuras_de_datos/06Cadenas.ipynb#X44sZmlsZQ%3D%3D?line=4'>5</a>\u001b[0m \u001b[39mprint\u001b[39m(cadena\u001b[39m.\u001b[39;49mindex(\u001b[39m\"\u001b[39;49m\u001b[39mmundo\u001b[39;49m\u001b[39m\"\u001b[39;49m))\n",
      "\u001b[1;31mValueError\u001b[0m: substring not found"
     ]
    }
   ],
   "source": [
    "cadena = \"Hola Mundo\"\n",
    "\n",
    "print(cadena.find(\"Mundo\"))\n",
    "print(cadena.find(\"mundo\"))\n",
    "print(cadena.index(\"mundo\"))"
   ]
  },
  {
   "cell_type": "markdown",
   "metadata": {},
   "source": [
    "Si queremos buscar todas las ocurrencias de la subcadena:"
   ]
  },
  {
   "cell_type": "code",
   "execution_count": null,
   "metadata": {},
   "outputs": [],
   "source": [
    "texto = '''Pido perdón a los niños por haber dedicado este libro a una persona mayor. Tengo una seria\n",
    "excusa: esta persona mayor es el mejor amigo que tengo en el mundo. Tengo otra excusa: esta persona\n",
    "mayor es capaz de entenderlo todo, hasta los libros para niños. Tengo una tercera excusa: esta persona\n",
    "mayor vive en Francia, donde pasa hambre y frío. Verdaderamente necesita consuelo. Si todas esas\n",
    "excusas no bastasen, bien puedo dedicar este libro al niño que una vez fue esta persona mayor. Todos\n",
    "los mayores han sido primero niños. (Pero pocos lo recuerdan).'''\n",
    "\n",
    "inicio = 0\n",
    "\n",
    "indice = texto.find(\"mayor\", inicio)\n",
    "\n",
    "while indice != -1:\n",
    "    print(indice)\n",
    "    inicio = indice + 1\n",
    "    indice = texto.find(\"mayor\", inicio)\n"
   ]
  },
  {
   "cell_type": "code",
   "execution_count": null,
   "metadata": {},
   "outputs": [],
   "source": [
    "texto = '''Pido perdón a los niños por haber dedicado este libro a una persona mayor. Tengo una seria\n",
    "excusa: esta persona mayor es el mejor amigo que tengo en el mundo. Tengo otra excusa: esta persona\n",
    "mayor es capaz de entenderlo todo, hasta los libros para niños. Tengo una tercera excusa: esta persona\n",
    "mayor vive en Francia, donde pasa hambre y frío. Verdaderamente necesita consuelo. Si todas esas\n",
    "excusas no bastasen, bien puedo dedicar este libro al niño que una vez fue esta persona mayor. Todos\n",
    "los mayores han sido primero niños. (Pero pocos lo recuerdan).'''\n",
    "\n",
    "fin = len(texto)\n",
    "\n",
    "indice = texto.rfind(\"mayor\", 0, fin)\n",
    "\n",
    "while indice != -1:\n",
    "    print(indice)\n",
    "    fin = indice\n",
    "    indice = texto.rfind(\"mayor\", 0, fin)\n"
   ]
  },
  {
   "cell_type": "markdown",
   "metadata": {},
   "source": [
    "### `replace(origen, destino)`\n",
    "\n",
    "Devuelve una copia de la cadena original en la que todas las apariciones del primer argumento han sido reemplazadas por el segundo argumento."
   ]
  },
  {
   "cell_type": "code",
   "execution_count": 3,
   "metadata": {},
   "outputs": [
    {
     "name": "stdout",
     "output_type": "stream",
     "text": [
      "Pido perdón a los adultos por haber dedicado este libro a una persona menor. Tengo una seria\n",
      "excusa: esta persona menor es el mejor amigo que tengo en el mundo. Tengo otra excusa: esta persona\n",
      "menor es capaz de entenderlo todo, hasta los libros para adultos. Tengo una tercera excusa: esta persona\n",
      "menor vive en Francia, donde pasa hambre y frío. Verdaderamente necesita consuelo. Si todas esas\n",
      "excusas no bastasen, bien puedo dedicar este libro al niño que una vez fue esta persona menor. Todos\n",
      "los menores han sido primero adultos. (Pero pocos lo recuerdan).\n"
     ]
    }
   ],
   "source": [
    "texto = '''Pido perdón a los niños por haber dedicado este libro a una persona mayor. Tengo una seria\n",
    "excusa: esta persona mayor es el mejor amigo que tengo en el mundo. Tengo otra excusa: esta persona\n",
    "mayor es capaz de entenderlo todo, hasta los libros para niños. Tengo una tercera excusa: esta persona\n",
    "mayor vive en Francia, donde pasa hambre y frío. Verdaderamente necesita consuelo. Si todas esas\n",
    "excusas no bastasen, bien puedo dedicar este libro al niño que una vez fue esta persona mayor. Todos\n",
    "los mayores han sido primero niños. (Pero pocos lo recuerdan).'''\n",
    "\n",
    "resultado = texto.replace(\"mayor\", \"menor\")\n",
    "resultado = resultado.replace(\"niños\", \"adultos\")\n",
    "\n",
    "print(resultado)"
   ]
  },
  {
   "cell_type": "markdown",
   "metadata": {},
   "source": [
    "## Métodos de comprobación de dígitos, números, mayusculas, minúsculas...\n"
   ]
  },
  {
   "cell_type": "markdown",
   "metadata": {},
   "source": [
    "\n",
    "### `isalnum()`\n",
    "\n",
    "Devuelve `True` si la cadena contiene solo dígitos o caracteres alfabéticos (letras) y `False` en caso contrario."
   ]
  },
  {
   "cell_type": "code",
   "execution_count": 4,
   "metadata": {},
   "outputs": [
    {
     "name": "stdout",
     "output_type": "stream",
     "text": [
      "True\n",
      "True\n",
      "True\n",
      "False\n",
      "False\n",
      "True\n",
      "True\n",
      "True\n",
      "False\n"
     ]
    }
   ],
   "source": [
    "print('DAW30'.isalnum())\n",
    "print('DAW'.isalnum())\n",
    "print('30'.isalnum())\n",
    "print('@'.isalnum())\n",
    "print('DAW_1'.isalnum())\n",
    "print('DAW1º'.isalnum())\n",
    "print('DAW1ª'.isalnum())\n",
    "print('programación'.isalnum())\n",
    "print(''.isalnum())"
   ]
  },
  {
   "cell_type": "markdown",
   "metadata": {},
   "source": [
    "### `isalpha()`\n",
    "\n",
    "Devuelve `True` si la cadena contiene solo caracteres alfabéticos (letras) y `False` en caso contrario."
   ]
  },
  {
   "cell_type": "code",
   "execution_count": 5,
   "metadata": {},
   "outputs": [
    {
     "name": "stdout",
     "output_type": "stream",
     "text": [
      "False\n",
      "True\n",
      "False\n",
      "False\n",
      "False\n",
      "False\n",
      "False\n",
      "True\n",
      "False\n"
     ]
    }
   ],
   "source": [
    "print('DAW30'.isalpha())\n",
    "print('DAW'.isalpha())\n",
    "print('30'.isalpha())\n",
    "print('@'.isalpha())\n",
    "print('DAW_1'.isalpha())\n",
    "print('DAW1º'.isalpha())\n",
    "print('DAW1ª'.isalpha())\n",
    "print('programación'.isalpha())\n",
    "print(''.isalpha())"
   ]
  },
  {
   "cell_type": "markdown",
   "metadata": {},
   "source": [
    "### `isdigit()`\n",
    "\n",
    "Devuelve `True` si la cadena contiene solo dígitos y `False` en caso contrario."
   ]
  },
  {
   "cell_type": "code",
   "execution_count": 6,
   "metadata": {},
   "outputs": [
    {
     "name": "stdout",
     "output_type": "stream",
     "text": [
      "False\n",
      "False\n",
      "True\n",
      "False\n",
      "False\n",
      "False\n",
      "False\n",
      "False\n",
      "False\n"
     ]
    }
   ],
   "source": [
    "print('DAW30'.isdigit())\n",
    "print('DAW'.isdigit())\n",
    "print('30'.isdigit())\n",
    "print('@'.isdigit())\n",
    "print('DAW_1'.isdigit())\n",
    "print('DAW1º'.isdigit())\n",
    "print('DAW1ª'.isdigit())\n",
    "print('programación'.isdigit())\n",
    "print(''.isdigit())"
   ]
  },
  {
   "cell_type": "markdown",
   "metadata": {},
   "source": [
    "### `islower()`\n",
    "\n",
    "Devuelve `True` si los caracteres alfabéticos (letras) de la cadena están en minúscula y `False` en caso contrario."
   ]
  },
  {
   "cell_type": "code",
   "execution_count": 22,
   "metadata": {},
   "outputs": [
    {
     "name": "stdout",
     "output_type": "stream",
     "text": [
      "True\n",
      "False\n",
      "False\n",
      "True\n",
      "False\n",
      "True\n",
      "False\n",
      "True\n",
      "False\n"
     ]
    }
   ],
   "source": [
    "print('daw30'.islower())\n",
    "print('DAW'.islower())\n",
    "print('30'.islower())\n",
    "print('@'.islower())\n",
    "print('DAW_1'.islower())\n",
    "print('daw1º'.islower())\n",
    "print('DAW1ª'.islower())\n",
    "print('programación'.islower())\n",
    "print(''.islower())"
   ]
  },
  {
   "cell_type": "markdown",
   "metadata": {},
   "source": [
    "### `isupper()`\n",
    "\n",
    "Devuelve `True` si los caracteres alfabéticos (letras) de la cadena están en mayúscula y `False` en caso contrario.\n"
   ]
  },
  {
   "cell_type": "code",
   "execution_count": null,
   "metadata": {},
   "outputs": [],
   "source": [
    "print('daw30'.isupper())\n",
    "print('DAW'.isupper())\n",
    "print('30'.isupper())\n",
    "print('@'.isupper())\n",
    "print('DAW_1'.isupper())\n",
    "print('daw1º'.isupper())\n",
    "print('DAW1ª'.isupper())\n",
    "print('programación'.isupper())\n",
    "print(''.isupper())"
   ]
  },
  {
   "cell_type": "markdown",
   "metadata": {},
   "source": [
    "### `isspace()`\n",
    "\n",
    "Devuelve `True` si todos los caracteres de la cadena son espacios y `False` en caso contrario."
   ]
  },
  {
   "cell_type": "code",
   "execution_count": 23,
   "metadata": {},
   "outputs": [
    {
     "name": "stdout",
     "output_type": "stream",
     "text": [
      "True\n",
      "True\n",
      "True\n",
      "False\n"
     ]
    }
   ],
   "source": [
    "print(' \\n '.isspace())\n",
    "print(' \\t '.isspace())\n",
    "print(\" \".isspace())\n",
    "print(\"bla bla bla\".isspace())"
   ]
  },
  {
   "cell_type": "markdown",
   "metadata": {},
   "source": [
    "## Métodos para insertar y eliminar espacios\n"
   ]
  },
  {
   "cell_type": "markdown",
   "metadata": {},
   "source": [
    "\n",
    "### `center(ancho [, relleno])`\n",
    "\n",
    "Centra una cadena en otra de un ancho determinado en el parámetro `ancho`, añadiendo espacios antes y/o después.\n",
    "\n",
    "El parámetro `relleno` es opcional e indica el carácter de relleno, por defecto es un espacio."
   ]
  },
  {
   "cell_type": "code",
   "execution_count": 1,
   "metadata": {},
   "outputs": [
    {
     "name": "stdout",
     "output_type": "stream",
     "text": [
      "    *    \n",
      "   ***   \n",
      "  *****  \n",
      " ******* \n",
      "*********\n"
     ]
    }
   ],
   "source": [
    "filas = 5\n",
    "ancho_final = filas * 2 - 1\n",
    "\n",
    "for i in range(filas):\n",
    "    num_asteriscos = i * 2 + 1\n",
    "    print((\"*\" * num_asteriscos).center(ancho_final))"
   ]
  },
  {
   "cell_type": "code",
   "execution_count": 8,
   "metadata": {},
   "outputs": [
    {
     "name": "stdout",
     "output_type": "stream",
     "text": [
      "-----Hola Mundo-----\n",
      "------Hola Mundo-----\n"
     ]
    }
   ],
   "source": [
    "cadena = \"Hola Mundo\"\n",
    "\n",
    "print(cadena.center(20, \"-\"))\n",
    "print(cadena.center(21, \"-\"))"
   ]
  },
  {
   "cell_type": "markdown",
   "metadata": {},
   "source": [
    "### `rjust(ancho [, relleno])` y `ljust(ancho [, relleno])`\n",
    "\n",
    "`rjust()` justifica una cadena a la derecha en otra de un ancho determinado en el parámetro `ancho`, añadiendo espacios antes.\n",
    "\n",
    "`ljust()` justifica una cadena a la izquierda en otra de un ancho determinado en el parámetro `ancho`, añadiendo espacios después."
   ]
  },
  {
   "cell_type": "code",
   "execution_count": 11,
   "metadata": {},
   "outputs": [
    {
     "name": "stdout",
     "output_type": "stream",
     "text": [
      "                Hola\n",
      "         Hasta luego\n"
     ]
    }
   ],
   "source": [
    "cadena1 = \"Hola\"\n",
    "cadena2 = \"Hasta luego\"\n",
    "print(cadena1.rjust(20))\n",
    "print(cadena2.rjust(20))"
   ]
  },
  {
   "cell_type": "markdown",
   "metadata": {},
   "source": [
    "### `strip([carácter])`, `lstrip([carácter])` y `rstrip([carácter])`\n",
    "\n",
    "Si se llaman sin parámetros, eliminan todos los espacios, los que estén a la izquierda o a la derecha (respectivamente) de una cadena."
   ]
  },
  {
   "cell_type": "code",
   "execution_count": 3,
   "metadata": {},
   "outputs": [
    {
     "name": "stdout",
     "output_type": "stream",
     "text": [
      "*Hola Mundo*\n",
      "*Hola Mundo     *\n",
      "*      Hola Mundo*\n"
     ]
    }
   ],
   "source": [
    "cadena = \"      Hola Mundo     \"\n",
    "\n",
    "print(\"*\", cadena.strip(), \"*\", sep=\"\")\n",
    "print(\"*\", cadena.lstrip(), \"*\", sep=\"\")\n",
    "print(\"*\", cadena.rstrip(), \"*\", sep=\"\")"
   ]
  },
  {
   "cell_type": "markdown",
   "metadata": {},
   "source": [
    "Si se le pasa algún parámetro, en lugar de eliminar espacios elimina el primer carácter de la cadena que se le pasa."
   ]
  },
  {
   "cell_type": "code",
   "execution_count": 4,
   "metadata": {},
   "outputs": [
    {
     "name": "stdout",
     "output_type": "stream",
     "text": [
      "*Hola Mundo*\n",
      "*Hola Mundo0000000000000000000*\n",
      "*0000000000000000000Hola Mundo*\n"
     ]
    }
   ],
   "source": [
    "cadena = \"0000000000000000000Hola Mundo0000000000000000000\"\n",
    "\n",
    "print(\"*\", cadena.strip(\"0\"), \"*\", sep=\"\")\n",
    "print(\"*\", cadena.lstrip(\"0\"), \"*\", sep=\"\")\n",
    "print(\"*\", cadena.rstrip(\"0\"), \"*\", sep=\"\")"
   ]
  },
  {
   "cell_type": "markdown",
   "metadata": {},
   "source": [
    "## Métodos de conversión entre listas y cadenas"
   ]
  },
  {
   "cell_type": "markdown",
   "metadata": {},
   "source": [
    "### `join(lista)`\n",
    "\n",
    "Une todos los elementos de la lista que se le pasa (que contendrá únicamente cadenas) utilizando como separador la cadena desde la que se llama.\n"
   ]
  },
  {
   "cell_type": "code",
   "execution_count": 5,
   "metadata": {},
   "outputs": [
    {
     "name": "stdout",
     "output_type": "stream",
     "text": [
      "Hola Mundo\n",
      "Vigo, Coruña, Lugo, Ourense, Pontevedra\n"
     ]
    }
   ],
   "source": [
    "resultado = \" \".join([\"Hola\", \"Mundo\"])\n",
    "\n",
    "print(resultado)\n",
    "\n",
    "ciudades = [\"Vigo\", \"Coruña\", \"Lugo\", \"Ourense\", \"Pontevedra\"]\n",
    "\n",
    "cadena_ciudades = \", \".join(ciudades)\n",
    "\n",
    "print(cadena_ciudades)"
   ]
  },
  {
   "cell_type": "markdown",
   "metadata": {},
   "source": [
    "### `split()`\n",
    "\n",
    "Divide la cadena y crea una lista de todas las subcadenas detectadas.\n",
    "\n",
    "El método asume que las subcadenas están delimitadas por espacios en blanco - los espacios no participan en la operación y no se copian en la lista resultante."
   ]
  },
  {
   "cell_type": "code",
   "execution_count": 15,
   "metadata": {},
   "outputs": [
    {
     "name": "stdout",
     "output_type": "stream",
     "text": [
      "['En', 'un', 'lugar', 'de', 'la', 'Mancha']\n",
      "['En', 'un', 'lugar', 'de', 'la', 'Mancha']\n"
     ]
    }
   ],
   "source": [
    "cadena = \"En un lugar de la Mancha\"\n",
    "\n",
    "lista = cadena.split()\n",
    "print(lista)\n",
    "\n",
    "cadena2 = \"En,un,lugar,de,la,Mancha\"\n",
    "lista = cadena2.split(\",\")\n",
    "print(lista)\n"
   ]
  },
  {
   "cell_type": "markdown",
   "metadata": {},
   "source": [
    "Para convertir la cadena en una lista de caracteres, utilizaremos la función `list()`, que convierte cualquier secuencia en una lista."
   ]
  },
  {
   "cell_type": "code",
   "execution_count": 1,
   "metadata": {},
   "outputs": [
    {
     "name": "stdout",
     "output_type": "stream",
     "text": [
      "['H', 'o', 'l', 'a', ' ', 'm', 'u', 'n', 'd', 'o']\n"
     ]
    }
   ],
   "source": [
    "cadena = \"Hola mundo\"\n",
    "\n",
    "lista = list(cadena)\n",
    "\n",
    "print(lista)"
   ]
  },
  {
   "cell_type": "markdown",
   "metadata": {},
   "source": [
    "Uso destas dos funciones para dar la vuelta a una cadena por palabras:"
   ]
  },
  {
   "cell_type": "code",
   "execution_count": null,
   "metadata": {},
   "outputs": [
    {
     "name": "stdout",
     "output_type": "stream",
     "text": [
      "['En', 'un', 'lugar', 'de', 'la', 'Mancha']\n",
      "['Mancha', 'la', 'de', 'lugar', 'un', 'En']\n",
      "Mancha la de lugar un En\n"
     ]
    }
   ],
   "source": [
    "cadena = \"En un lugar de la Mancha\"\n",
    "lista = cadena.split()\n",
    "print(lista)\n",
    "lista_revés = lista[::-1]\n",
    "print(lista_revés)\n",
    "resultado = \" \".join(lista_revés)\n",
    "print(resultado)"
   ]
  },
  {
   "cell_type": "code",
   "execution_count": 19,
   "metadata": {},
   "outputs": [
    {
     "name": "stdout",
     "output_type": "stream",
     "text": [
      "['En', 'un', 'lugar', 'de', 'la', 'Mancha']\n",
      "['Mancha', 'la', 'de', 'lugar', 'un', 'En']\n",
      "Mancha la de lugar un En\n"
     ]
    }
   ],
   "source": [
    "cadena = \"En un lugar de la Mancha\"\n",
    "lista = cadena.split()\n",
    "print(lista)\n",
    "lista.reverse()\n",
    "print(lista)\n",
    "resultado = \" \".join(lista)\n",
    "print(resultado)"
   ]
  },
  {
   "cell_type": "code",
   "execution_count": 23,
   "metadata": {},
   "outputs": [
    {
     "name": "stdout",
     "output_type": "stream",
     "text": [
      "Mancha la de lugar un En\n"
     ]
    }
   ],
   "source": [
    "cadena = \"En un lugar de la Mancha\"\n",
    "print(\" \".join(cadena.split()[::-1]))"
   ]
  },
  {
   "cell_type": "markdown",
   "metadata": {},
   "source": [
    "## Comparación de cadenas\n",
    "\n",
    "Se pueden utilizar los operadores de comparación (`<`, `>`, `<=`, `>=`, `==`, `!=`) para comparar cadenas. \n",
    "\n",
    "Python solo compara valores de códigos correspondientes a las letras por lo que los resultados, fuera del alfabeto inglés, pueden no ser los esperados."
   ]
  },
  {
   "cell_type": "code",
   "execution_count": 6,
   "metadata": {},
   "outputs": [
    {
     "name": "stdout",
     "output_type": "stream",
     "text": [
      "True\n"
     ]
    }
   ],
   "source": [
    "cadena1 = \"Pérez\"\n",
    "cadena2 = \"Rodríguez\"\n",
    "\n",
    "print(cadena1 < cadena2)"
   ]
  },
  {
   "cell_type": "code",
   "execution_count": 7,
   "metadata": {},
   "outputs": [
    {
     "name": "stdout",
     "output_type": "stream",
     "text": [
      "True\n"
     ]
    }
   ],
   "source": [
    "cadena1 = \"Abeto\"\n",
    "cadena2 = \"árbol\"\n",
    "\n",
    "print(cadena1 < cadena2)"
   ]
  },
  {
   "cell_type": "code",
   "execution_count": null,
   "metadata": {},
   "outputs": [
    {
     "name": "stdout",
     "output_type": "stream",
     "text": [
      "True\n"
     ]
    }
   ],
   "source": [
    "# No ordena alfabéticamente con caracteres que no están en el alfabeto inglés\n",
    "\n",
    "cadena1 = \"amigo\"\n",
    "cadena2 = \"ábaco\"\n",
    "\n",
    "print(cadena1 < cadena2)"
   ]
  },
  {
   "cell_type": "code",
   "execution_count": 8,
   "metadata": {},
   "outputs": [
    {
     "name": "stdout",
     "output_type": "stream",
     "text": [
      "False\n"
     ]
    }
   ],
   "source": [
    "cadena1 = \"2\"\n",
    "cadena2 = \"10\"\n",
    "\n",
    "print(cadena1 < cadena2)"
   ]
  },
  {
   "cell_type": "code",
   "execution_count": null,
   "metadata": {},
   "outputs": [
    {
     "name": "stdout",
     "output_type": "stream",
     "text": [
      "True\n"
     ]
    }
   ],
   "source": [
    "# No ordena alfabéticamente cuando mezclo mayúsculas y minúsculas\n",
    "\n",
    "cadena1 = \"Amigo\"\n",
    "cadena2 = \"abuelo\"\n",
    "\n",
    "print(cadena1 < cadena2)"
   ]
  },
  {
   "cell_type": "markdown",
   "metadata": {},
   "source": [
    "## Conversión entre números y cadenas\n",
    "\n",
    "Se utilizan los métodos `str()`, `int()` y `float()`.\n",
    "\n",
    "Si una cadena no se puede convertir a un tipo numérico, se lanzará una excepción (error en tiempo de ejecución)."
   ]
  },
  {
   "cell_type": "code",
   "execution_count": 2,
   "metadata": {},
   "outputs": [
    {
     "name": "stdout",
     "output_type": "stream",
     "text": [
      "10\n",
      "10.0\n",
      "20\n",
      "3.5\n"
     ]
    }
   ],
   "source": [
    "cadena = \"10\"\n",
    "entero = 20\n",
    "real = 3.5\n",
    "\n",
    "entero_cadena = int(cadena)\n",
    "print(entero_cadena)\n",
    "float_cadena = float(cadena)\n",
    "print(float_cadena)\n",
    "\n",
    "cadena_entero = str(entero)\n",
    "print(cadena_entero)\n",
    "cadena_float = str(real)\n",
    "print(cadena_float)"
   ]
  },
  {
   "cell_type": "markdown",
   "metadata": {},
   "source": [
    "## Manejo de caracteres"
   ]
  },
  {
   "cell_type": "markdown",
   "metadata": {},
   "source": [
    "### `ord()`\n",
    "\n",
    "Recibe un carácter y devuelve su código Unicode."
   ]
  },
  {
   "cell_type": "code",
   "execution_count": 9,
   "metadata": {},
   "outputs": [
    {
     "name": "stdout",
     "output_type": "stream",
     "text": [
      "97\n"
     ]
    }
   ],
   "source": [
    "print(ord(\"a\"))"
   ]
  },
  {
   "cell_type": "markdown",
   "metadata": {},
   "source": [
    "### `chr()`\n",
    "\n",
    "Recibe un código Unicode y devuelve su carácter."
   ]
  },
  {
   "cell_type": "code",
   "execution_count": 4,
   "metadata": {},
   "outputs": [
    {
     "name": "stdout",
     "output_type": "stream",
     "text": [
      "A\n"
     ]
    }
   ],
   "source": [
    "print(chr(65))"
   ]
  },
  {
   "cell_type": "code",
   "execution_count": 5,
   "metadata": {},
   "outputs": [
    {
     "name": "stdout",
     "output_type": "stream",
     "text": [
      "b\n"
     ]
    }
   ],
   "source": [
    "codigo_letra = ord(\"a\")\n",
    "codigo_siguiente_letra = codigo_letra + 1\n",
    "siguiente_letra = chr(codigo_siguiente_letra)\n",
    "\n",
    "print(siguiente_letra)"
   ]
  },
  {
   "cell_type": "markdown",
   "metadata": {},
   "source": [
    "## f-strings\n",
    "\n",
    "Las f-strings o *formatted string literals* son cadenas de texto que comienzan con la letra `f` o `F` antes de las comillas de apertura. Estas cadenas permiten incluir expresiones dentro de llaves `{}` que serán evaluadas en tiempo de ejecución y formateadas utilizando el formato predeterminado.\n",
    "\n",
    "Por ejemplo:"
   ]
  },
  {
   "cell_type": "code",
   "execution_count": null,
   "metadata": {},
   "outputs": [],
   "source": [
    "nombre = \"Pepe\"\n",
    "edad = 30\n",
    "print(f\"Hola, mi nombre es {nombre} y tengo {edad} años.\")"
   ]
  },
  {
   "cell_type": "markdown",
   "metadata": {},
   "source": [
    "### Modificadores de formato\n",
    "\n",
    "Las expresiones dentro de las llaves `{}` pueden incluir especificadores de formato después de dos puntos `:`. Estos especificadores permiten controlar cómo se muestra el valor.\n",
    "\n",
    "Estos son algunos ejemplos comunes:\n",
    "- `:.2f` - Formatea un número de punto flotante con 2 dec\n",
    "- `:,` - Añade separadores de miles a un número\n",
    "- `:.2%` - Formatea un número como porcentaje con 2 decimales\n",
    "- `:^10` - Centra el texto en un campo de ancho 10\n",
    "- `:>10` - Alinea el texto a la derecha en un campo de ancho 10\n",
    "- `:<10` - Alinea el texto a la izquierda en un campo de ancho 10\n",
    "- `:.2e` - Formatea un número en notación científica con 2 decimales\n",
    "- `:g`- Formatea un número en notación fija o científica, según sea más compacto, eliminando ceros innecesarios"
   ]
  },
  {
   "cell_type": "code",
   "execution_count": 1,
   "metadata": {},
   "outputs": [
    {
     "name": "stdout",
     "output_type": "stream",
     "text": [
      "1234.57\n",
      "1,234.56789\n",
      "123,456.79%\n",
      "10\n"
     ]
    }
   ],
   "source": [
    "numero = 1234.56789\n",
    "print(f\"{numero:.2f}\")\n",
    "print(f\"{numero:,}\")\n",
    "print(f\"{numero:,.2%}\")\n",
    "numero = 10.00\n",
    "print(f\"{numero:g}\")"
   ]
  }
 ],
 "metadata": {
  "kernelspec": {
   "display_name": "Python 3",
   "language": "python",
   "name": "python3"
  },
  "language_info": {
   "codemirror_mode": {
    "name": "ipython",
    "version": 3
   },
   "file_extension": ".py",
   "mimetype": "text/x-python",
   "name": "python",
   "nbconvert_exporter": "python",
   "pygments_lexer": "ipython3",
   "version": "3.12.3"
  }
 },
 "nbformat": 4,
 "nbformat_minor": 2
}
