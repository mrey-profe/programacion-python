{
 "cells": [
  {
   "cell_type": "markdown",
   "id": "43019c07",
   "metadata": {},
   "source": [
    "# Selective Structures Exercises\n",
    "## Recommended Path\n",
    "If you are just starting to learn programming, try to complete at least exercises 1 through 8. After that, attempt exercises 9 and 11.  \n",
    "If you have some programming experience, you can start with exercise 10.  \n",
    "\n",
    "## Exercise 1\n",
    "Write a Python program that asks for an integer from the keyboard and prints a message if the number is even (if it’s odd, it should not print anything).  \n"
   ]
  },
  {
   "cell_type": "code",
   "execution_count": 5,
   "id": "25e1a5f9",
   "metadata": {},
   "outputs": [
    {
     "name": "stdout",
     "output_type": "stream",
     "text": [
      "The number 0 is even\n"
     ]
    }
   ],
   "source": [
    "number = int(input(\"Write a number:\"))\n",
    "if number % 2 == 0:\n",
    "    print(\"The number\", number, \"is even\")"
   ]
  },
  {
   "cell_type": "markdown",
   "id": "e1337e00",
   "metadata": {},
   "source": [
    "\n",
    "## Exercise 2\n",
    "Modify the program to indicate whether the number is even or odd.  \n"
   ]
  },
  {
   "cell_type": "code",
   "execution_count": null,
   "id": "42b540b6",
   "metadata": {},
   "outputs": [],
   "source": [
    "number = int(input(\"Write a number:\"))\n",
    "if number % 2 == 0:\n",
    "    print(\"The number\", number, \"is even\")\n",
    "else:\n",
    "    print(\"The number\", number, \"is odd\")"
   ]
  },
  {
   "cell_type": "code",
   "execution_count": null,
   "id": "2e4b92ea",
   "metadata": {},
   "outputs": [],
   "source": [
    "# Esta solución debe evitarse\n",
    "number = int(input(\"Write a number:\"))\n",
    "if number % 2 == 0:\n",
    "    print(\"The number\", number, \"is even\")\n",
    "elif number % 2 != 0:\n",
    "    print(\"The number\", number, \"is odd\")\n",
    "\n",
    "# Este código sería correcto pero non se utiliza: é máis propenso a erros, \n",
    "# menos limpo e máis lento, porque ten que avaliar dúas condicións"
   ]
  },
  {
   "cell_type": "markdown",
   "id": "b3fc0d56",
   "metadata": {},
   "source": [
    "\n",
    "## Exercise 3\n",
    "Write a Python program that asks for two numbers from the keyboard and displays the smaller one (assume the numbers can’t be equal).  \n"
   ]
  },
  {
   "cell_type": "code",
   "execution_count": null,
   "id": "9a6523bc",
   "metadata": {},
   "outputs": [],
   "source": [
    "n1 = int(input(\"Tell me one number:\"))\n",
    "n2 = int(input(\"Tell me another number:\"))\n",
    "\n",
    "if n1 > n2:\n",
    "    print(n2, \"is the smaller\")\n",
    "else:\n",
    "    print(n1, \"is the smaller\")"
   ]
  },
  {
   "cell_type": "markdown",
   "id": "86400ef0",
   "metadata": {},
   "source": [
    "\n",
    "## Exercise 4\n",
    "Write a Python program that asks for a number from the keyboard and displays a message indicating whether it is negative or not. Zero is not negative.  \n"
   ]
  },
  {
   "cell_type": "code",
   "execution_count": null,
   "id": "6d3522a0",
   "metadata": {},
   "outputs": [],
   "source": [
    "number = int(input(\"Tell me one number:\"))\n",
    "\n",
    "if number < 0:\n",
    "    print(\"The number is negative\")\n",
    "else:\n",
    "    print(\"The number is not negative\")"
   ]
  },
  {
   "cell_type": "markdown",
   "id": "78a03791",
   "metadata": {},
   "source": [
    "\n",
    "## Exercise 5\n",
    "Write a Python program that asks for three numbers from the keyboard and displays the largest.  \n",
    "**ADVANCED VERSION**: Look up the `max()` function and try to solve this exercise with it (you won’t need conditional statements). Also look up the `min()` function and display both the largest and smallest numbers.  \n"
   ]
  },
  {
   "cell_type": "code",
   "execution_count": 10,
   "id": "00385b1b",
   "metadata": {},
   "outputs": [
    {
     "name": "stdout",
     "output_type": "stream",
     "text": [
      "10 is the largest.\n"
     ]
    }
   ],
   "source": [
    "n1 = int(input(\"Tell me one number:\"))\n",
    "n2 = int(input(\"Tell me a second number:\"))\n",
    "n3 = int(input(\"Tell me a third number:\"))\n",
    "\n",
    "if n1 > n2 and n1 > n3:\n",
    "    print(n1, \"is the largest.\")\n",
    "elif n2 > n3 and n2 > n1:\n",
    "    print(n2, \"is the largest.\")\n",
    "else:\n",
    "    print(n3, \"is the largest.\")"
   ]
  },
  {
   "cell_type": "code",
   "execution_count": 11,
   "id": "379aa70a",
   "metadata": {},
   "outputs": [
    {
     "name": "stdout",
     "output_type": "stream",
     "text": [
      "The largest is 10\n",
      "The smallest is 5\n"
     ]
    }
   ],
   "source": [
    "n1 = int(input(\"Tell me one number:\"))\n",
    "n2 = int(input(\"Tell me a second number:\"))\n",
    "n3 = int(input(\"Tell me a third number:\"))\n",
    "\n",
    "print(\"The largest is\", max(n1, n2, n3))\n",
    "print(\"The smallest is\", min(n1, n2, n3))"
   ]
  },
  {
   "cell_type": "markdown",
   "id": "de1c3fe5",
   "metadata": {},
   "source": [
    "\n",
    "## Exercise 6\n",
    "Modify exercise 4 to indicate whether the number is positive, negative, or zero.  \n"
   ]
  },
  {
   "cell_type": "code",
   "execution_count": null,
   "id": "650822b1",
   "metadata": {},
   "outputs": [],
   "source": [
    "numero = int(input(\"Escribe un número: \"))\n",
    "if numero < 0:\n",
    "    print(numero, \"es negativo\")\n",
    "elif numero == 0:\n",
    "    print(numero, \"es cero\")\n",
    "else:\n",
    "    print(numero, \"es positivo\")"
   ]
  },
  {
   "cell_type": "markdown",
   "id": "3cc1898a",
   "metadata": {},
   "source": [
    "\n",
    "## Exercise 7\n",
    "Write a Python program that asks for a number between 1 and 12 from the keyboard and displays the corresponding month name.  \n"
   ]
  },
  {
   "cell_type": "code",
   "execution_count": null,
   "id": "0a47c91d",
   "metadata": {},
   "outputs": [],
   "source": [
    "month_n = int(input(\"Tell me a number from 1 to 12:\"))\n",
    "\n",
    "if month_n == 1:\n",
    "    print(\"January\")\n",
    "elif month_n == 2:\n",
    "    print(\"February\")\n",
    "elif month_n == 3:\n",
    "    print(\"March\")\n",
    "elif month_n == 4:\n",
    "    print(\"April\")\n",
    "elif month_n == 5:\n",
    "    print(\"May\")\n",
    "elif month_n == 6:\n",
    "    print(\"June\")\n",
    "elif month_n == 7:\n",
    "    print(\"July\")\n",
    "elif month_n == 8:\n",
    "    print(\"August\")\n",
    "elif month_n == 9:\n",
    "    print(\"September\")\n",
    "elif month_n == 10:\n",
    "    print(\"October\")\n",
    "elif month_n == 11:\n",
    "    print(\"November\")\n",
    "elif month_n == 12:\n",
    "    print(\"December\")\n",
    "else:\n",
    "    print(\"Wrong number\")\n"
   ]
  },
  {
   "cell_type": "code",
   "execution_count": null,
   "id": "b3b95774",
   "metadata": {},
   "outputs": [],
   "source": [
    "month_n = int(input(\"Tell me a number from 1 to 12:\"))\n",
    "\n",
    "match month_n:\n",
    "    case 1:\n",
    "        print(\"January\")\n",
    "    case 2:\n",
    "        print(\"February\")\n",
    "    case 3:\n",
    "        print(\"March\")\n",
    "    case 4:\n",
    "        print(\"April\")\n",
    "    case 5:\n",
    "        print(\"May\")\n",
    "    case 6:\n",
    "        print(\"June\")\n",
    "    case 7:\n",
    "        print(\"July\")\n",
    "    case 8:\n",
    "        print(\"August\")\n",
    "    case 9:\n",
    "        print(\"September\")\n",
    "    case 10:\n",
    "        print(\"October\")\n",
    "    case 11:\n",
    "        print(\"November\")\n",
    "    case 12:\n",
    "        print(\"December\")\n",
    "    case _: # otherwise\n",
    "        print(\"Wrong number\")"
   ]
  },
  {
   "cell_type": "markdown",
   "id": "becc42e9",
   "metadata": {},
   "source": [
    "\n",
    "## Exercise 8\n",
    "Write a Python program that displays a grade based on a score entered from the keyboard:  \n",
    "- [0,5) Fail  \n",
    "- [5,6) Pass  \n",
    "- [6,7) Good  \n",
    "- [7,9) Very Good  \n",
    "-  Excellent"
   ]
  },
  {
   "cell_type": "code",
   "execution_count": null,
   "id": "2d854b8a",
   "metadata": {},
   "outputs": [],
   "source": [
    "score = float(input(\"Tell me your score from 0 to 10:\"))\n",
    "\n",
    "if score >= 0 and score < 5:\n",
    "    print(\"Fail\")\n",
    "elif score >= 5 and score < 6:\n",
    "    print(\"Pass\")\n",
    "elif score >= 6 and score < 7:\n",
    "    print(\"Good\")\n",
    "elif score >= 7 and score < 9:\n",
    "    print(\"Very good\")\n",
    "elif score >= 9 and score < 10:\n",
    "    print(\"Excellent\")\n",
    "else:\n",
    "    print(\"Wrong score\")"
   ]
  },
  {
   "cell_type": "code",
   "execution_count": null,
   "id": "ecc3d825",
   "metadata": {},
   "outputs": [],
   "source": [
    "score = float(input(\"Tell me your score from 0 to 10:\"))\n",
    "\n",
    "if score < 0 or score > 10:\n",
    "    print(\"Wrong score\")\n",
    "elif score < 5:\n",
    "    print(\"Fail\")\n",
    "elif score < 6:\n",
    "    print(\"Pass\")\n",
    "elif score < 7:\n",
    "    print(\"Good\")\n",
    "elif score < 9:\n",
    "    print(\"Very good\")\n",
    "else:\n",
    "    print(\"Excellent\")"
   ]
  },
  {
   "cell_type": "markdown",
   "id": "acb405f2",
   "metadata": {},
   "source": [
    "\n",
    "## Exercise 9\n",
    "Your computer is a *huge fan* of the *Game of Thrones* series and won’t accept any other opinion; in fact, it’s quite the purist and only recognizes the original title.  \n",
    "Write a program that asks the user what their favorite series is and responds as follows based on the user’s answer:  \n",
    "- If the user answers “Game of Thrones,” the computer replies: `\"Of course, Game of Thrones is the best series ever!\"`  \n",
    "- If the user answers “Juego de Tronos,” the computer replies: `\"It’s not <input>, it’s Game of Thrones\"`  \n",
    "- Otherwise, the computer replies: `\"No, the best series is Game of Thrones!\"`  \n",
    "**ADVANCED VERSION**: Look up the `lower()` and `upper()` string methods so your program responds correctly no matter how the user capitalizes their answer.  \n"
   ]
  },
  {
   "cell_type": "code",
   "execution_count": null,
   "id": "ad251911",
   "metadata": {},
   "outputs": [],
   "source": [
    "serie = input(\"Cuál es tu serie favorita?\")\n",
    "\n",
    "if serie == \"Game of Thrones\":\n",
    "    print(\"Por supuesto, Game of Thrones es la mejor serie de la historia!\")\n",
    "elif serie == \"Juego de Tronos\":\n",
    "    print(\"No se dice \", serie,\", se dice Game of Thrones\", sep=\"\")\n",
    "else:\n",
    "    print(\"No, la mejor es Game of Thrones!\")"
   ]
  },
  {
   "cell_type": "code",
   "execution_count": null,
   "id": "7126931d",
   "metadata": {},
   "outputs": [],
   "source": [
    "serie = input(\"Cuál es tu serie favorita?\")\n",
    "serie_minusculas = serie.lower()\n",
    "\n",
    "if serie_minusculas == \"game of thrones\":\n",
    "    print(\"Por supuesto, Game of Thrones es la mejor serie de la historia!\")\n",
    "elif serie_minusculas == \"juego de tronos\":\n",
    "    print(\"No se dice \", serie,\", se dice Game of Thrones\", sep=\"\")\n",
    "else:\n",
    "    print(\"No, la mejor es Game of Thrones!\")"
   ]
  },
  {
   "cell_type": "markdown",
   "id": "6213c32d",
   "metadata": {},
   "source": [
    "\n",
    "## Exercise 10\n",
    "Write a Python program that asks for a year from the keyboard and tells whether it is a leap year or not.  \n",
    "If the year is not divisible by 4, it is not a leap year.  \n",
    "- Otherwise, if it is not divisible by 100, it is a leap year.  \n",
    "- Otherwise, if it is not divisible by 400, it is not a leap year.  \n",
    "- Otherwise, it is a leap year.  \n",
    "Use the `if-elif-else` structure. \n",
    "\n",
    "You can send your solution to codewars.com [here](https://www.codewars.com/kata/526c7363236867513f0005ca). \n",
    "\n",
    "**ADVANCED VERSION**: Can you do it using only one `if-else` and a single condition?  \n",
    "\n",
    "| Year | Result      |  \n",
    "|-------|------------|  \n",
    "| 2000  | Leap year  |  \n",
    "| 2015  | Not leap   |  \n",
    "| 1999  | Not leap   |  \n",
    "| 1996  | Leap year  |  \n",
    "| 1900  | Not leap   |  \n"
   ]
  },
  {
   "cell_type": "code",
   "execution_count": 15,
   "id": "4d71df4f",
   "metadata": {},
   "outputs": [
    {
     "name": "stdout",
     "output_type": "stream",
     "text": [
      "This is not a leap year\n"
     ]
    }
   ],
   "source": [
    "year = int(input(\"Give me a year:\"))\n",
    "\n",
    "if year % 4 != 0:\n",
    "    print(\"This is not a leap year\")\n",
    "elif year % 100 != 0:\n",
    "    print(\"This is a leap year\")\n",
    "elif year % 400 != 0:\n",
    "    print(\"This is not a leap year\")\n",
    "else: # Multiple of 400\n",
    "    print(\"This is a leap year\")"
   ]
  },
  {
   "cell_type": "code",
   "execution_count": null,
   "id": "c12fd3c0",
   "metadata": {},
   "outputs": [],
   "source": [
    "year = int(input(\"Give me a year:\"))\n",
    "\n",
    "if year % 4 != 0:\n",
    "    print(\"This is not a leap year\")\n",
    "elif year % 100 != 0 or year % 400 == 0:\n",
    "    print(\"This is a leap year\")\n",
    "else: # Multiple of 400\n",
    "    print(\"This is a leap year\")"
   ]
  },
  {
   "cell_type": "code",
   "execution_count": 18,
   "id": "b4d49ba2",
   "metadata": {},
   "outputs": [
    {
     "name": "stdout",
     "output_type": "stream",
     "text": [
      "This is a leap year\n"
     ]
    }
   ],
   "source": [
    "year = int(input(\"Give me a year:\"))\n",
    "\n",
    "if year % 4 == 0 and year % 100 != 0 or year % 100 == 0 and year % 400 == 0:\n",
    "    print(\"This is a leap year\")\n",
    "else:\n",
    "    print(\"This is not a leap year\")"
   ]
  },
  {
   "cell_type": "code",
   "execution_count": 21,
   "id": "0c788cde",
   "metadata": {},
   "outputs": [
    {
     "name": "stdout",
     "output_type": "stream",
     "text": [
      "This is not a leap year\n"
     ]
    }
   ],
   "source": [
    "year = int(input(\"Give me a year:\"))\n",
    "\n",
    "if year % 4 == 0 and (year % 100 != 0 or year % 400 == 0):\n",
    "    print(\"This is a leap year\")\n",
    "else:\n",
    "    print(\"This is not a leap year\")"
   ]
  },
  {
   "cell_type": "markdown",
   "id": "28c82c45",
   "metadata": {},
   "source": [
    "\n",
    "# Selective Structures and Operators Exercises  \n",
    "## Exercise 11  \n",
    "Once upon a time, there was a prosperous and happy kingdom. People paid taxes, of course—happiness has its limits. These taxes were paid once a year according to these rules:  \n",
    "- If a person earned no more than 85,528 thalers, the tax was 18% of their income minus 556.02 thalers.  \n",
    "- If earnings were higher, the tax was 14,839.02 thalers plus 32% of the excess over 85,528 thalers.  \n",
    "The program should accept a decimal value and display the tax rounded down to the nearest whole number. The government of this kingdom never refunds money, so if the calculated tax is negative, the program should display 0.  \n",
    "\n",
    "| Earnings       | Tax          |  \n",
    "|----------------|--------------|  \n",
    "| 10,000 thalers | 1,244 thalers|  \n",
    "| 100,000 thalers| 19,470 thalers|  \n",
    "| 1,000 thalers  | 0 thalers   |  \n",
    "| 100 thalers    | 0 thalers   |  \n"
   ]
  },
  {
   "cell_type": "code",
   "execution_count": null,
   "id": "5c032de6",
   "metadata": {},
   "outputs": [],
   "source": [
    "salary = float(input(\"Tell me how much you earn:\"))\n",
    "LIMIT = 85528\n",
    "\n",
    "if salary <= LIMIT:\n",
    "    taxes = salary * 0,18 - 556.02\n",
    "else:\n",
    "    excess = salary - LIMIT\n",
    "    taxes = excess * 0,32 + 14839.02\n",
    "\n",
    "if taxes < 0:\n",
    "    print(0)\n",
    "else:\n",
    "    print(\"You have to pay\", taxes)\n"
   ]
  },
  {
   "cell_type": "markdown",
   "id": "90d63d2c",
   "metadata": {},
   "source": [
    "\n",
    "## Exercise 12  \n",
    "Create a calculator from the magical world of Harry Potter that converts between galleons, sickles, and knuts. It should first display a menu with the following options:  \n",
    "- Convert galleons to sickles.  \n",
    "- Convert galleons to knuts.  \n",
    "- Convert sickles to knuts.  \n",
    "- Convert knuts to galleons, sickles, and knuts (using the minimum number of coins possible).  \n",
    "Remember:  \n",
    "- 1 galleon = 17 sickles  \n",
    "- 1 sickle = 29 knuts  \n",
    "\n",
    "**TEST DATA**  \n",
    "\n",
    "| Galleons     | Sickles    | Knuts       |  \n",
    "|--------------|------------|-------------|  \n",
    "| 10 galleons  | 170 sickles| 4,930 knuts |  \n",
    "| 45 galleons  | 765 sickles| 22,185 knuts|  \n",
    "\n",
    "Option 4  \n",
    "\n",
    "| Knuts       | Galleons, Sickles, Knuts            |  \n",
    "|-------------|------------------------------------|  \n",
    "| 1,000 knuts | 2 galleons, 0 sickles, and 14 knuts|  \n",
    "| 36,786 knuts| 74 galleons, 10 sickles, and 14 knuts|  \n"
   ]
  },
  {
   "cell_type": "code",
   "execution_count": null,
   "id": "20fcec87",
   "metadata": {},
   "outputs": [],
   "source": [
    "GALEONES_A_SICKELS = 17\n",
    "SICKELS_A_KNUTS = 29\n",
    "\n",
    "print('''\n",
    "      1. Conversión de galeones a sickels.\n",
    "      2. Conversión de galeones a knuts.\n",
    "      3. Conversión de sickles a knuts.\n",
    "      4. Conversión de knuts a galeones, sickles y knuts (mínimo número de monedas posibles).''')\n",
    "\n",
    "opcion = input(\"Escoge una opción: \")\n",
    "\n",
    "if opcion == '1':\n",
    "    galeones = int(input(\"Indica cuántos galeones quieres convertir: \"))\n",
    "    sickles = galeones * GALEONES_A_SICKELS\n",
    "    print(galeones, \"galeones son \", sickles, \"sickles.\")\n",
    "elif opcion == '2':\n",
    "    galeones = int(input(\"Indica cuántos galeones quieres convertir: \"))\n",
    "    knuts = galeones * GALEONES_A_SICKELS * SICKELS_A_KNUTS\n",
    "    print(galeones, \"galeones son \", knuts, \"knuts\")\n",
    "elif opcion == '3':\n",
    "    sickles = int(input(\"Indica cuántos sickels quieres convertir: \"))\n",
    "    knuts = sickles * SICKELS_A_KNUTS\n",
    "    print(sickles, \"sikles son \", knuts, \"knuts\")\n",
    "elif opcion == '4':\n",
    "    knuts_totais = int(input(\"Indica cuántos knuts quieres convertir:\"))\n",
    "    sickles_intermedios = knuts_totais // SICKELS_A_KNUTS\n",
    "    knuts = knuts_totais % SICKELS_A_KNUTS\n",
    "    galeones = sickles_intermedios // GALEONES_A_SICKELS\n",
    "    sickles = sickles_intermedios % GALEONES_A_SICKELS\n",
    "    print (\"Son\", galeones, \"galeones, \", sickles, \"sickles y\", knuts, \"knuts.\")\n",
    "else:\n",
    "    print(\"Opción incorrecta.\")"
   ]
  },
  {
   "cell_type": "markdown",
   "id": "8e527e04",
   "metadata": {},
   "source": [
    "\n",
    "## Exercise 13  \n",
    "Write a Python program that asks for the day, month, and year of a valid date and displays the date of the next day. Assume every month has 30 days.  \n",
    "**ADVANCED VERSION**: Try using the modulo operation.  \n"
   ]
  },
  {
   "cell_type": "code",
   "execution_count": 3,
   "id": "c83c00c4",
   "metadata": {},
   "outputs": [
    {
     "name": "stdout",
     "output_type": "stream",
     "text": [
      "Write a date\n",
      "The next day is 1/1/2026\n"
     ]
    }
   ],
   "source": [
    "print(\"Write a date\")\n",
    "day = int(input(\"Day:\"))\n",
    "month = int(input(\"Month:\"))\n",
    "year = int(input(\"Year:\"))\n",
    "\n",
    "day += 1\n",
    "if day > 30:\n",
    "    day = 1\n",
    "    month += 1\n",
    "    if month > 12:\n",
    "        month = 1\n",
    "        year += 1\n",
    "\n",
    "print(\"The next day is\", end=\" \")\n",
    "print(day, month, year, sep=\"/\")"
   ]
  },
  {
   "cell_type": "code",
   "execution_count": null,
   "id": "a5a1ff07",
   "metadata": {},
   "outputs": [],
   "source": [
    "print(\"Introduce una fecha:\")\n",
    "dia = int(input(\"Día: \"))\n",
    "mes = int(input(\"Mes: \"))\n",
    "año = int(input(\"Año: \"))\n",
    "\n",
    "dia_mañ = (dia % 30) + 1 \n",
    "mes_mañ = (mes % 12 + (dia + 1) // 31)\n",
    "año_mañ = año + (dia * mes + 1) // 361\n",
    "\n",
    "print(\"El día siguiente es \", dia_mañ, \"/\", mes_mañ, \"/\", año_mañ, sep=\"\")"
   ]
  },
  {
   "cell_type": "markdown",
   "id": "f79f4781",
   "metadata": {},
   "source": [
    "\n",
    "## Exercise 14  \n",
    "Write a Python program that asks for a day of the week and tells whether it’s a weekend or not. If the input is not a valid day of the week, display an error.  \n"
   ]
  },
  {
   "cell_type": "code",
   "execution_count": null,
   "id": "3c8539e6",
   "metadata": {},
   "outputs": [],
   "source": [
    "day = input(\"Tell me a day of the week\").lower()\n",
    "\n",
    "if day == \"monday\" or day == \"tuesday\" or day == \"wednesday\" or day == \"thursday\" or day == \"friday\":\n",
    "    print(\"Weekday\")\n",
    "elif day == \"saturday\" or day == \"sunday\":\n",
    "    print(\"Weekend\")\n",
    "else:\n",
    "    print(\"Wrong day\")"
   ]
  },
  {
   "cell_type": "code",
   "execution_count": null,
   "id": "55f67cc5",
   "metadata": {},
   "outputs": [],
   "source": [
    "day = input(\"Tell me a day of the week\").lower()\n",
    "\n",
    "match day:\n",
    "    case \"monday\"|\"tuesday\"|\"wednesday\"|\"thursday\"|\"friday\":\n",
    "        print(\"Weekday\")\n",
    "    case \"saturday\"|\"sunday\":\n",
    "        print(\"Weekend\")\n",
    "    case _:\n",
    "        print(\"Wrong day\")"
   ]
  },
  {
   "cell_type": "markdown",
   "id": "34496e7c",
   "metadata": {},
   "source": [
    "\n",
    "## Exercise 15  \n",
    "Repeat exercise 8 (grade conversion) using the `match-case` statement. Grades should be whole numbers only."
   ]
  },
  {
   "cell_type": "code",
   "execution_count": null,
   "id": "0b8e5e33",
   "metadata": {},
   "outputs": [],
   "source": [
    "score = int(input(\"Tell me your score from 0 to 10: \"))\n",
    "\n",
    "match score:\n",
    "    case 0 | 1 | 2 | 3 | 4:\n",
    "        print(\"Fail\")\n",
    "    case 5:\n",
    "        print(\"Pass\")\n",
    "    case 6:\n",
    "        print(\"Good\")\n",
    "    case 7 | 8:\n",
    "        print(\"Very good\")\n",
    "    case 9 | 10:\n",
    "        print(\"Excellent\")\n",
    "    case _:\n",
    "        print(\"Wrong score\")"
   ]
  }
 ],
 "metadata": {
  "kernelspec": {
   "display_name": "Python 3",
   "language": "python",
   "name": "python3"
  },
  "language_info": {
   "codemirror_mode": {
    "name": "ipython",
    "version": 3
   },
   "file_extension": ".py",
   "mimetype": "text/x-python",
   "name": "python",
   "nbconvert_exporter": "python",
   "pygments_lexer": "ipython3",
   "version": "3.12.3"
  }
 },
 "nbformat": 4,
 "nbformat_minor": 5
}
