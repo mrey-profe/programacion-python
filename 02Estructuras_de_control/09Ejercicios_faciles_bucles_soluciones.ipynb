{
 "cells": [
  {
   "cell_type": "markdown",
   "metadata": {},
   "source": [
    "# `while`"
   ]
  },
  {
   "cell_type": "markdown",
   "metadata": {},
   "source": [
    "## Ejercicio 1\n",
    "\n",
    "Escribe un programa que pida al usuario que introduzca un número entre 1 y 10. El programa debe seguir pidiendo un número hasta que el usuario introduzca un valor válido en ese rango."
   ]
  },
  {
   "cell_type": "code",
   "execution_count": null,
   "metadata": {},
   "outputs": [],
   "source": [
    "numero = 0\n",
    "\n",
    "while numero > 10 or numero < 1:\n",
    "    numero = int(input(\"Escribe un número entre 1 e 10: \"))\n",
    "\n",
    "print(\"Número correcto:\", numero)"
   ]
  },
  {
   "cell_type": "markdown",
   "metadata": {},
   "source": [
    "## Ejercicio 2\n",
    "\n",
    "Escribe un programa que pida números al usuario hasta que este introduzca un 0. Para cada número debemos indicar si es positivo o negativo."
   ]
  },
  {
   "cell_type": "code",
   "execution_count": 1,
   "metadata": {},
   "outputs": [
    {
     "name": "stdout",
     "output_type": "stream",
     "text": [
      "Número positivo\n",
      "Número negativo\n"
     ]
    }
   ],
   "source": [
    "numero = 1\n",
    "\n",
    "while numero != 0:\n",
    "    numero = int(input(\"Escribe un número (0 para terminar): \"))\n",
    "    if numero < 0:\n",
    "        print(\"Número negativo\")\n",
    "    elif numero > 0:\n",
    "        print(\"Número positivo\")"
   ]
  },
  {
   "cell_type": "markdown",
   "metadata": {},
   "source": [
    "## Ejercicio 3\n",
    "\n",
    "Escribe un programa que pida números al usuario y que cuente cuántos números son pares y cuántos impares. El programa dejará de pedir números cuando el usuario introduzca un 0."
   ]
  },
  {
   "cell_type": "code",
   "execution_count": 2,
   "metadata": {},
   "outputs": [
    {
     "name": "stdout",
     "output_type": "stream",
     "text": [
      "Pares: 2\n",
      "Impares: 1\n"
     ]
    }
   ],
   "source": [
    "numero = 1\n",
    "pares = 0\n",
    "impares = 0\n",
    "\n",
    "while numero != 0:\n",
    "    numero = int(input(\"Escribe un número (0 para terminar): \"))\n",
    "    if numero != 0:\n",
    "        if numero % 2 == 0:\n",
    "            pares += 1\n",
    "        else:\n",
    "            impares += 1\n",
    "            \n",
    "print(\"Pares:\", pares)\n",
    "print(\"Impares:\", impares)"
   ]
  },
  {
   "cell_type": "markdown",
   "metadata": {},
   "source": [
    "## Ejercicio 4\n",
    "\n",
    "Escribe un programa en el que almacenes en una variable un número entre 1 y 50. El usuario tiene que intentar adivinar el número, y el programa debe decir si el número introducido es mayor o menor que el número objetivo. El bucle debe continuar hasta que el usuario adivine el número correcto."
   ]
  },
  {
   "cell_type": "code",
   "execution_count": 3,
   "metadata": {},
   "outputs": [
    {
     "name": "stdout",
     "output_type": "stream",
     "text": [
      "El número es mayor\n",
      "El número es mayor\n",
      "El número es menor\n",
      "¡Correcto!\n"
     ]
    }
   ],
   "source": [
    "numero_secreto = 14\n",
    "numero = -1\n",
    "\n",
    "while numero != numero_secreto:\n",
    "    numero = int(input(\"Adivina el número: \"))\n",
    "    if numero < numero_secreto:\n",
    "        print(\"El número es mayor\")\n",
    "    elif numero > numero_secreto:\n",
    "        print(\"El número es menor\")\n",
    "        \n",
    "print(\"¡Correcto!\")"
   ]
  },
  {
   "cell_type": "markdown",
   "metadata": {},
   "source": [
    "# `for`"
   ]
  },
  {
   "cell_type": "markdown",
   "metadata": {},
   "source": [
    "## Ejercicio 5\n",
    "\n",
    "Escribe un programa que pida al usuario un carácter y un número entero. El programa debe imprimir por pantalla el carácter tantas veces como indique el número. No utilices el operador `*` de las cadenas."
   ]
  },
  {
   "cell_type": "code",
   "execution_count": 4,
   "metadata": {},
   "outputs": [
    {
     "name": "stdout",
     "output_type": "stream",
     "text": [
      "*****"
     ]
    }
   ],
   "source": [
    "caracter = input(\"Escribe un carácter: \")\n",
    "numero = int(input(\"Escribe un número: \"))\n",
    "\n",
    "for i in range(numero):\n",
    "    print(caracter, end=\"\")"
   ]
  },
  {
   "cell_type": "markdown",
   "metadata": {},
   "source": [
    "## Ejercicio 6\n",
    "\n",
    "Escribe un programa que imprima los cuadrados de los números del 1 al 10 utilizando un bucle for."
   ]
  },
  {
   "cell_type": "code",
   "execution_count": 5,
   "metadata": {},
   "outputs": [
    {
     "name": "stdout",
     "output_type": "stream",
     "text": [
      "0\n",
      "1\n",
      "4\n",
      "9\n",
      "16\n",
      "25\n",
      "36\n",
      "49\n",
      "64\n",
      "81\n"
     ]
    }
   ],
   "source": [
    "for i in range(10):\n",
    "    print(i ** 2)"
   ]
  },
  {
   "cell_type": "markdown",
   "metadata": {},
   "source": [
    "## Ejercicio 7\n",
    "\n",
    "Escribe un programa que pida al usuario una cadena y una letra y cuente cuántas veces aparece la letra en la cadena."
   ]
  },
  {
   "cell_type": "code",
   "execution_count": 6,
   "metadata": {},
   "outputs": [
    {
     "name": "stdout",
     "output_type": "stream",
     "text": [
      "La letra o aparece 2 veces\n"
     ]
    }
   ],
   "source": [
    "cadena = input(\"Escribe una cadena: \")\n",
    "letra_buscar = input(\"Escribe una letra: \")\n",
    "contador = 0\n",
    "\n",
    "for letra in cadena:\n",
    "    if letra == letra_buscar:\n",
    "        contador += 1\n",
    "        \n",
    "print(\"La letra\", letra_buscar, \"aparece\", contador, \"veces\")"
   ]
  },
  {
   "cell_type": "markdown",
   "metadata": {},
   "source": [
    "## Ejercicio 8\n",
    "\n",
    "Escribe un programa que imprima la suma acumulativa de los números del 1 al 10. La suma acumulativa es la suma de todos los números hasta el número actual. Por ejemplo, la salida sería: 1, 3, 6, 10, 15, ..., 55.\n",
    "\n",
    "Repítelo para la suma acumulativa hasta un número introducido por el usuario."
   ]
  },
  {
   "cell_type": "code",
   "execution_count": null,
   "metadata": {},
   "outputs": [],
   "source": [
    "suma = 0\n",
    "\n",
    "for i in range(1, 11):\n",
    "    suma += i\n",
    "    \n",
    "print(suma)"
   ]
  },
  {
   "cell_type": "code",
   "execution_count": 7,
   "metadata": {},
   "outputs": [
    {
     "name": "stdout",
     "output_type": "stream",
     "text": [
      "15\n"
     ]
    }
   ],
   "source": [
    "suma = 0\n",
    "numero = int(input(\"Escribe un número: \"))\n",
    "\n",
    "for i in range(1, numero + 1):\n",
    "    suma += i\n",
    "    \n",
    "print(suma)"
   ]
  }
 ],
 "metadata": {
  "kernelspec": {
   "display_name": "Python 3",
   "language": "python",
   "name": "python3"
  },
  "language_info": {
   "codemirror_mode": {
    "name": "ipython",
    "version": 3
   },
   "file_extension": ".py",
   "mimetype": "text/x-python",
   "name": "python",
   "nbconvert_exporter": "python",
   "pygments_lexer": "ipython3",
   "version": "3.10.12"
  }
 },
 "nbformat": 4,
 "nbformat_minor": 2
}
