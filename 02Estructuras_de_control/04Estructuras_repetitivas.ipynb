{
 "cells": [
  {
   "cell_type": "markdown",
   "metadata": {},
   "source": [
    "# Estructuras repetitivas\n",
    "\n",
    "Un bucle, o ciclo, es un conjunto de instrucciones que se repiten un número de veces o mientras se sigue cumpliendo una condición.\n"
   ]
  },
  {
   "cell_type": "markdown",
   "metadata": {},
   "source": [
    "\n",
    "## Bucle `while`\n",
    "\n",
    "Un bucle `while` repite las instrucciones **MIENTRAS** se siga cumpliendo la condición.\n",
    "\n",
    "```\n",
    "    while condicion:\n",
    "        # Sentencias a ejecutar mientras se cumpla la condición\n",
    "```\n",
    "\n",
    "La estructura es igual a la de `if` pero la diferencia semántica es más importante: cuando se cumple la condición, `if` realiza sus sentencias sólo una vez; `while` repite la ejecución mientras la condición se evalúe como `True``."
   ]
  },
  {
   "cell_type": "code",
   "execution_count": 3,
   "metadata": {},
   "outputs": [
    {
     "name": "stdout",
     "output_type": "stream",
     "text": [
      "La suma es:  0\n"
     ]
    }
   ],
   "source": [
    "suma = 0\n",
    "while numero >= 0:\n",
    "    numero = int(input(\"Escribe un número para calcular la suma, escribe un número negativo para terminar: \"))\n",
    "    suma += numero\n",
    "print(\"La suma es: \", suma)"
   ]
  },
  {
   "cell_type": "markdown",
   "metadata": {},
   "source": [
    "- Si deseas ejecutar más de una sentencia dentro de un `while`, debes (como con `if`) poner sangría a todas las instrucciones de la misma manera.\n",
    "- Una instrucción o conjunto de instrucciones ejecutadas dentro del `while` se llama el **cuerpo del bucle**.\n",
    "- Si la condición es `False` (igual a cero) la primera vez que se comprueba, el cuerpo no se ejecuta ni una sola vez.\n"
   ]
  },
  {
   "cell_type": "code",
   "execution_count": null,
   "metadata": {},
   "outputs": [],
   "source": [
    "numero = -1\n",
    "suma = 0\n",
    "while numero >= 0:\n",
    "    numero = int(input(\"Escribe un número para calcular la suma, escribe un número negativo para terminar: \"))\n",
    "    suma += numero\n",
    "print(\"La suma es: \", suma)"
   ]
  },
  {
   "cell_type": "markdown",
   "metadata": {},
   "source": [
    "- El cuerpo **debe cambiar el valor de la condición**, si no fuese así, solo tendríamos dos tipos de bucles: aquellos que no se ejecutan ni una sola vez porque su condición es `False` al principio y aquellos que se ejecutan de forma infinita porque su condición es `True` al principio."
   ]
  },
  {
   "cell_type": "code",
   "execution_count": null,
   "metadata": {},
   "outputs": [],
   "source": [
    "numero = 0\n",
    "while numero == 0:\n",
    "    print(numero) # Esto es un bucle infinito"
   ]
  },
  {
   "cell_type": "markdown",
   "metadata": {},
   "source": [
    "## Ejemplo\n",
    "\n",
    "Pedir números al usuario hasta que este introduzca un 0. Contar el número de pares e impares que ha introducido."
   ]
  },
  {
   "cell_type": "code",
   "execution_count": null,
   "metadata": {},
   "outputs": [],
   "source": [
    "numero = 1\n",
    "num_pares = 0\n",
    "num_impares = 0\n",
    "\n",
    "while numero != 0:\n",
    "    numero = int(input(\"Dame un número: \"))\n",
    "    if numero % 2 == 1: # Impar\n",
    "        num_impares += 1\n",
    "    else:\n",
    "        num_pares += 1\n",
    "\n",
    "print(\"Pares:\", num_pares)\n",
    "print(\"Impares:\", num_impares)"
   ]
  },
  {
   "cell_type": "markdown",
   "metadata": {},
   "source": [
    "Si no quiero que cuente el 0:"
   ]
  },
  {
   "cell_type": "code",
   "execution_count": null,
   "metadata": {},
   "outputs": [],
   "source": [
    "numero = 1\n",
    "num_pares = 0\n",
    "num_impares = 0\n",
    "\n",
    "while numero != 0:\n",
    "    numero = int(input(\"Dame un número: \"))\n",
    "    if numero % 2 == 1: # Impar\n",
    "        num_impares += 1\n",
    "    elif numero != 0:\n",
    "        num_pares += 1\n",
    "\n",
    "print(\"Pares:\", num_pares)\n",
    "print(\"Impares:\", num_impares)"
   ]
  },
  {
   "cell_type": "markdown",
   "metadata": {},
   "source": [
    "## Bucle `for`\n",
    "\n",
    "El bucle `for` sirve para:\n",
    "- Ejecutar un conjunto de sentencias un número concreto de veces. Normalmente conocido antes de iniciar la ejecución.\n",
    "- Recorrer estructuras de datos, por ejemplo, una cadena."
   ]
  },
  {
   "cell_type": "code",
   "execution_count": 1,
   "metadata": {},
   "outputs": [
    {
     "name": "stdout",
     "output_type": "stream",
     "text": [
      "Hola\n",
      "Hola\n",
      "Hola\n",
      "Hola\n",
      "Hola\n",
      "Hola\n",
      "Hola\n",
      "Hola\n",
      "Hola\n",
      "Hola\n"
     ]
    }
   ],
   "source": [
    "for i in range(10):\n",
    "    print(\"Hola\")"
   ]
  },
  {
   "cell_type": "markdown",
   "metadata": {},
   "source": [
    "- La palabra reservada `for` abre el bucle\n",
    "- No hay condición después de eso; las condiciones se verifican internamente, sin ninguna intervención.\n",
    "- La variable después de la palabra reservada `for` es la variable de control del bucle; cuenta automáticamente las iteraciones del bucle.\n",
    "- La palabra reservada `in` introduce el rango de valores posibles que se asignan a la variable de control.\n",
    "- La función `range()` es responsable de generar todos los valores deseados de la variable de control.\n",
    "- En cada iteración, la variable tomará uno de los valores del rango."
   ]
  },
  {
   "cell_type": "code",
   "execution_count": 1,
   "metadata": {},
   "outputs": [
    {
     "name": "stdout",
     "output_type": "stream",
     "text": [
      "El valor de i es 0\n",
      "El valor de i es 1\n",
      "El valor de i es 2\n",
      "El valor de i es 3\n",
      "El valor de i es 4\n",
      "El valor de i es 5\n",
      "El valor de i es 6\n",
      "El valor de i es 7\n",
      "El valor de i es 8\n",
      "El valor de i es 9\n"
     ]
    }
   ],
   "source": [
    "for i in range(10):\n",
    "    print(\"El valor de i es\", i)"
   ]
  },
  {
   "cell_type": "code",
   "execution_count": null,
   "metadata": {},
   "outputs": [],
   "source": [
    "for i in range(10):\n",
    "    print(\"O dobre de\", i, \"é\", i * 2)"
   ]
  },
  {
   "cell_type": "markdown",
   "metadata": {},
   "source": [
    "### La función `range()`\n",
    "\n",
    "- Cuando solo tiene un argumento, genera números enteros desde 0 al valor de ese argumento (no incluído).\n",
    "\n",
    "`range(fin)`\n",
    "- Cuando tiene dos argumentos, genera números enteros desde el valor del primer argumento (incluído) al valor de ese argumento (no incluído).\n",
    "\n",
    "`range(inicio, fin)`\n",
    "- Cuando tiene 3 argumentos, el tercero indica el incremento que se produce cada vez.\n",
    "\n",
    "`range(inicio, fin, incremento)`"
   ]
  },
  {
   "cell_type": "code",
   "execution_count": 2,
   "metadata": {},
   "outputs": [
    {
     "name": "stdout",
     "output_type": "stream",
     "text": [
      "0 1 2 3 4 5 6 7 8 9 "
     ]
    }
   ],
   "source": [
    "for i in range(10):\n",
    "    print(i, end =\" \")"
   ]
  },
  {
   "cell_type": "code",
   "execution_count": 3,
   "metadata": {},
   "outputs": [
    {
     "name": "stdout",
     "output_type": "stream",
     "text": [
      "2 3 4 5 6 7 8 9 "
     ]
    }
   ],
   "source": [
    "for i in range(2, 10):\n",
    "    print(i, end =\" \")"
   ]
  },
  {
   "cell_type": "code",
   "execution_count": 4,
   "metadata": {},
   "outputs": [
    {
     "name": "stdout",
     "output_type": "stream",
     "text": [
      "2 5 8 "
     ]
    }
   ],
   "source": [
    "for i in range(2, 11, 3):\n",
    "    print(i, end =\" \")"
   ]
  },
  {
   "cell_type": "code",
   "execution_count": 2,
   "metadata": {},
   "outputs": [
    {
     "name": "stdout",
     "output_type": "stream",
     "text": [
      "10 9 8 7 6 5 4 3 "
     ]
    }
   ],
   "source": [
    "for i in range(10, 2, -1):\n",
    "    print(i, end =\" \")"
   ]
  },
  {
   "cell_type": "markdown",
   "metadata": {},
   "source": [
    "Si quiero usar números decimales:"
   ]
  },
  {
   "cell_type": "code",
   "execution_count": 8,
   "metadata": {},
   "outputs": [
    {
     "name": "stdout",
     "output_type": "stream",
     "text": [
      "0.1\n",
      "0.2\n",
      "0.30000000000000004\n",
      "0.4\n",
      "0.5\n",
      "0.6\n",
      "0.7\n",
      "0.7999999999999999\n",
      "0.8999999999999999\n",
      "0.9999999999999999\n"
     ]
    }
   ],
   "source": [
    "numero_real = 0.1\n",
    "\n",
    "while numero_real < 1:\n",
    "    print(numero_real)\n",
    "    numero_real += 0.1"
   ]
  },
  {
   "cell_type": "markdown",
   "metadata": {},
   "source": [
    "### `for` para recorrer secuencias\n",
    "\n",
    "El bucle for también se usa para recorrer secuencias de datos, por ejemplo, cadenas."
   ]
  },
  {
   "cell_type": "code",
   "execution_count": 1,
   "metadata": {},
   "outputs": [
    {
     "name": "stdout",
     "output_type": "stream",
     "text": [
      "H-o-l-a-"
     ]
    }
   ],
   "source": [
    "palabra =  \"Hola\"\n",
    "for letra in palabra:\n",
    "    print(letra, end=\"-\")"
   ]
  },
  {
   "cell_type": "code",
   "execution_count": 4,
   "metadata": {},
   "outputs": [
    {
     "name": "stdout",
     "output_type": "stream",
     "text": [
      "3\n"
     ]
    }
   ],
   "source": [
    "#Contamos el número de puntos en una cadena\n",
    "frase = \"Hola. Qué. Tal.\"\n",
    "contador = 0\n",
    "for letra in frase:\n",
    "    if letra == \".\":\n",
    "        contador += 1\n",
    "print(contador)"
   ]
  },
  {
   "cell_type": "markdown",
   "metadata": {},
   "source": [
    "También existen bucles for que no se ejecutan nunca:"
   ]
  },
  {
   "cell_type": "code",
   "execution_count": 5,
   "metadata": {},
   "outputs": [],
   "source": [
    "for i in range(0):\n",
    "    print(i, end =\" \")"
   ]
  },
  {
   "cell_type": "markdown",
   "metadata": {},
   "source": [
    "Así no le vemos mucho sentido, pero si lo cambiamos preguntando al usuario."
   ]
  },
  {
   "cell_type": "code",
   "execution_count": 7,
   "metadata": {},
   "outputs": [
    {
     "name": "stdout",
     "output_type": "stream",
     "text": [
      "Voy a escribir los números pares desde el 0 hasta el que tú me digas\n",
      "0 2 4 6 8 "
     ]
    }
   ],
   "source": [
    "print(\"Voy a escribir los números pares desde el 0 hasta el que tú me digas\")\n",
    "limite  = int(input(\"Cuál es el límite superior? \"))\n",
    "for i in range(0, limite, 2):\n",
    "    print(i, end =\" \")"
   ]
  },
  {
   "cell_type": "code",
   "execution_count": null,
   "metadata": {},
   "outputs": [],
   "source": [
    "# Se quero que o número que escriba se imprima tamén\n",
    "print(\"Voy a escribir los números pares desde el 0 hasta el que tú me digas\")\n",
    "limite  = int(input(\"Cuál es el límite superior? \"))\n",
    "for i in range(0, limite + 1, 2):\n",
    "    print(i, end =\" \")"
   ]
  },
  {
   "cell_type": "markdown",
   "metadata": {},
   "source": [
    "## Las sentencias `break` y `continue`\n",
    "\n",
    "Se utilizan tanto para los bucles `while` como `for`.\n",
    "\n",
    "### `break`\n",
    "\n",
    "La instrucción `break` se utiliza para terminar un bucle antes de que termine de forma natural (si deja de cumplirse la condición, en el caso del break, no termila la iteración, en el caso del for)."
   ]
  },
  {
   "cell_type": "code",
   "execution_count": null,
   "metadata": {},
   "outputs": [],
   "source": [
    "# Calcula la media de 10 notas introducidas por el usuario, en el caso de que la nota sea negativa, se considera que ya no hay más notas que introducir\n",
    "suma = 0\n",
    "contador = 0\n",
    "for i in range(10):\n",
    "    nota = float(input(\"Introduce una nota: \"))\n",
    "    if nota < 0:\n",
    "        break # Salimos del bucle\n",
    "    suma += nota\n",
    "    contador += 1\n",
    "media = suma / contador\n",
    "print(\"La media es: \", media)"
   ]
  },
  {
   "cell_type": "markdown",
   "metadata": {},
   "source": [
    "La alternativa sin utilizar `break`, es usando una bandera y cambiando a `while` (en otros lenguajes, se puede hacer con for)."
   ]
  },
  {
   "cell_type": "code",
   "execution_count": null,
   "metadata": {},
   "outputs": [],
   "source": [
    "# Calcula la media de 10 notas introducidas por el usuario, en el caso de que la nota sea negativa, se considera que ya no hay más notas que introducir\n",
    "suma = 0\n",
    "contador = 0\n",
    "finalizado = False\n",
    "while contador < 10 and not finalizado:\n",
    "    nota = float(input(\"Introduce una nota: \"))\n",
    "    if nota < 0:\n",
    "        finalizado = True # En la siguiente iteración se sale del bucle porque no se cumple la condición\n",
    "    else:\n",
    "        suma += nota\n",
    "        contador += 1\n",
    "media = suma / contador\n",
    "print(\"La media es: \", media)"
   ]
  },
  {
   "cell_type": "markdown",
   "metadata": {},
   "source": [
    "**¡OJO!** El uso de `break` no va en contra de los principios del código limpio, pero, hay que tener más cuidado al usarla para que no nos quede un código menos legible."
   ]
  },
  {
   "cell_type": "markdown",
   "metadata": {},
   "source": [
    "### `continue`\n",
    "\n",
    "La instrucción `continue` termina la ejecución de esa iteración del bucle inmediatamente.\n",
    "\n",
    "#### Ejemplo"
   ]
  },
  {
   "cell_type": "code",
   "execution_count": null,
   "metadata": {},
   "outputs": [],
   "source": [
    "# Calcula la media de 10 notas introducidas por el usuario, en el caso de que la nota sea negativa, se ignorará\n",
    "suma = 0\n",
    "contador = 0\n",
    "for i in range(10):\n",
    "    nota = float(input(\"Introduce una nota: \"))\n",
    "    if nota < 0:\n",
    "        continue # Salta a la siguiente iteración\n",
    "    suma += nota\n",
    "    contador += 1\n",
    "media = suma / contador\n",
    "print(\"La media es: \", media)"
   ]
  },
  {
   "cell_type": "markdown",
   "metadata": {},
   "source": [
    "**¡OJO!** Puede dar lugar a código difícil de leer, habitualmente es mejor refactorizarlo para que, en vez de que si se cumple una condición salte a la siguiente iteración, modificarla para que solo ejecute el código restante si no se cumple."
   ]
  },
  {
   "cell_type": "code",
   "execution_count": null,
   "metadata": {},
   "outputs": [],
   "source": [
    "# Sería mejor refactorizarlo para no usar continue\n",
    "suma = 0\n",
    "contador = 0\n",
    "for i in range(10):\n",
    "    nota = float(input(\"Introduce una nota: \"))\n",
    "    if nota >= 0:\n",
    "        suma += nota\n",
    "        contador += 1\n",
    "media = suma / contador\n",
    "print(\"La media es: \", media)"
   ]
  },
  {
   "cell_type": "markdown",
   "metadata": {},
   "source": [
    "El uso de `break` y `continue` genera código más eficiente (ya que evita una comprobación de la condición), por lo que su uso será deseable cuando la valocidad es primordial."
   ]
  },
  {
   "cell_type": "markdown",
   "metadata": {},
   "source": [
    "## La rama `else` de los bucles\n",
    "\n",
    "La rama `else` del bucle siempre se ejecuta una vez, independientemente de si el bucle ha entrado o no (porque no se ha cumplido la condición al principio) en su cuerpo.\n",
    "\n",
    "La rama `else` solo se ejecuta si se ha salido del bucle de forma ordenada (no con una sentencia `break`)."
   ]
  },
  {
   "cell_type": "code",
   "execution_count": null,
   "metadata": {},
   "outputs": [],
   "source": [
    "# Calcula la media de 10 notas introducidas por el usuario, en el caso de que la nota sea negativa, se considera que ya no hay más notas que introducir\n",
    "suma = 0\n",
    "contador = 0\n",
    "for i in range(5):\n",
    "    nota = float(input(\"Introduce una nota (si introduces un número negativo se aborta la ejecución): \"))\n",
    "    if nota < 0:\n",
    "        break # Salimos del bucle\n",
    "    suma += nota\n",
    "    contador += 1\n",
    "else: # Se ejecuta si no se ha ejecutado el break\n",
    "    media = suma / contador\n",
    "    print(\"La media es: \", media)"
   ]
  },
  {
   "cell_type": "markdown",
   "metadata": {},
   "source": [
    "Si no existe un `break`, no hay diferencia ente escribir o no escribir `else`:"
   ]
  },
  {
   "cell_type": "code",
   "execution_count": null,
   "metadata": {},
   "outputs": [],
   "source": [
    "suma = 0\n",
    "contador = 0\n",
    "for i in range(5):\n",
    "    nota = float(input(\"Introduce una nota: \"))\n",
    "    if nota >= 0:\n",
    "        suma += nota\n",
    "        contador += 1\n",
    "else:\n",
    "    media = suma / contador\n",
    "    print(\"La media es: \", media)"
   ]
  },
  {
   "cell_type": "code",
   "execution_count": null,
   "metadata": {},
   "outputs": [],
   "source": [
    "# Misma ejecución que el anterior pero sin usar el else\n",
    "\n",
    "suma = 0\n",
    "contador = 0\n",
    "for i in range(5):\n",
    "    nota = float(input(\"Introduce una nota: \"))\n",
    "    if nota >= 0:\n",
    "        suma += nota\n",
    "        contador += 1\n",
    "media = suma / contador\n",
    "print(\"La media es: \", media)"
   ]
  },
  {
   "cell_type": "markdown",
   "metadata": {},
   "source": [
    "# Bucles anidados\n",
    "\n",
    "Dentro de un bucle puede encontrarse otro bucle, de esta manera, para cada ejecución del bucle externo, se ejecutará por completo el bucle interno."
   ]
  },
  {
   "cell_type": "code",
   "execution_count": 1,
   "metadata": {},
   "outputs": [
    {
     "name": "stdout",
     "output_type": "stream",
     "text": [
      "00 01 02 03 04 \n",
      "10 11 12 13 14 \n",
      "20 21 22 23 24 \n",
      "30 31 32 33 34 \n"
     ]
    }
   ],
   "source": [
    "for i in range(4):\n",
    "    for j in range(5):\n",
    "        print(i, j, sep = \"\", end=\" \")\n",
    "    print()"
   ]
  },
  {
   "cell_type": "code",
   "execution_count": null,
   "metadata": {},
   "outputs": [],
   "source": [
    "for piso in range(1,5):\n",
    "    for letra in \"ABCD\":\n",
    "        print(piso, letra, sep = \"º\", end=\" \")\n",
    "    print()"
   ]
  },
  {
   "cell_type": "markdown",
   "metadata": {},
   "source": [
    "## Conversión de `for` a `while`\n",
    "\n",
    "En Python siempre es posible convertir un bucle `for` en un bucle `while`. Cuando se trata de bucles `for` que recorren series numéricas se haría así:\n",
    "\n",
    "```python\n",
    "i = <valor_inicial>\n",
    "while i < <valor_final>:\n",
    "    #Instrucciones del bucle\n",
    "    #Incremento o decremento de la variable i"
   ]
  },
  {
   "cell_type": "code",
   "execution_count": null,
   "metadata": {},
   "outputs": [],
   "source": [
    "for i in range(10):\n",
    "    print(i, end=\" \")"
   ]
  },
  {
   "cell_type": "code",
   "execution_count": null,
   "metadata": {},
   "outputs": [],
   "source": [
    "i = 0\n",
    "while i < 10:\n",
    "    print(i, end=\" \")\n",
    "    i = i + 1 #i += 1"
   ]
  }
 ],
 "metadata": {
  "kernelspec": {
   "display_name": "Python 3",
   "language": "python",
   "name": "python3"
  },
  "language_info": {
   "codemirror_mode": {
    "name": "ipython",
    "version": 3
   },
   "file_extension": ".py",
   "mimetype": "text/x-python",
   "name": "python",
   "nbconvert_exporter": "python",
   "pygments_lexer": "ipython3",
   "version": "3.12.3"
  },
  "orig_nbformat": 4
 },
 "nbformat": 4,
 "nbformat_minor": 2
}
