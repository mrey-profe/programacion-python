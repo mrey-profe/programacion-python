{
 "cells": [
  {
   "cell_type": "markdown",
   "metadata": {},
   "source": [
    "# `for` or `while` Exercises  \n",
    "\n",
    "## Exercise 1  \n",
    "Create a Python program that prints all the numbers from 100 down to 0, counting by 7s.\n"
   ]
  },
  {
   "cell_type": "code",
   "execution_count": null,
   "metadata": {},
   "outputs": [],
   "source": [
    "for i in range(100, -1, -7):\n",
    "    print(i, end=\" \")"
   ]
  },
  {
   "cell_type": "markdown",
   "metadata": {},
   "source": [
    "\n",
    "## Exercise 2  \n",
    "Create a Python program that asks for the ages and heights of 5 students, then displays the average age and height, the number of students who are adults, and the number of students taller than 1.75 meters.  \n",
    "Use only one variable for age and one for height (you cannot create 5 variables of each).\n"
   ]
  },
  {
   "cell_type": "code",
   "execution_count": null,
   "metadata": {},
   "outputs": [],
   "source": [
    "average_age = 0\n",
    "adults = 0\n",
    "average_height = 0\n",
    "tall_ones = 0\n",
    "\n",
    "for i in range(1, 6):\n",
    "    # age = int(input(\"Write the age of the student \" + str(i)))\n",
    "    age = int(input(f\"Write the age of the student {i}\"))\n",
    "    height = int(input(f\"Write the height of the student {i}\"))\n",
    "    average_age += age # average = average + age\n",
    "    if age >= 18:\n",
    "        adults += 1\n",
    "    average_height += height\n",
    "    if height > 1.75:\n",
    "        tall_ones += 1\n",
    "    \n",
    "average_age /= 5\n",
    "print(\"The age average is\", average_age)\n",
    "print(\"The number of adults is\", adults)\n",
    "average_height /= 5\n",
    "print(\"The height average is\", average_height)\n",
    "print(\"The number of tall people is\", tall_ones)\n"
   ]
  },
  {
   "cell_type": "markdown",
   "metadata": {},
   "source": [
    "\n",
    "## Exercise 3  \n",
    "Create a Python program that allows entering the heights of several children and then shows their average height. After entering each height, ask the user if they want to continue entering more.\n",
    "\n",
    "## Exercise 4  \n",
    "Create a Python program that asks for a number (must be between 0 and 10) and displays its multiplication table.\n",
    "\n",
    "## Exercise 5  \n",
    "Here’s a story: A boy and his dad, a computer programmer, are playing with wooden blocks. They are building a pyramid.  \n",
    "Their pyramid is a bit unusual because it’s actually a flat wall shaped like a pyramid. The pyramid is built according to a simple rule: each lower layer contains one more block than the layer above.  \n",
    "The figure illustrates the rule used by the builders: \n",
    " \n",
    "![alt text](images/piramide.png)\n",
    "\n",
    "Your task is to write a program that reads the total number of blocks the builders have and calculates the height of the pyramid they can build using those blocks.  \n",
    "Note: Height means the number of complete layers. If the builders don’t have enough blocks to complete the next layer, they stop immediately.  \n",
    "\n",
    "Test data:  \n",
    "| Number of blocks | Pyramid height |  \n",
    "|------------------|----------------|  \n",
    "| 6                | 3              |  \n",
    "| 20               | 5              |  \n",
    "| 1000             | 44             |  \n",
    "| 2                | 1              |  \n",
    "\n",
    "HINT: In the programming world, you can start building the pyramid from the top down. \n"
   ]
  },
  {
   "cell_type": "code",
   "execution_count": null,
   "metadata": {},
   "outputs": [
    {
     "name": "stdout",
     "output_type": "stream",
     "text": [
      "You can build 1 rows\n"
     ]
    }
   ],
   "source": [
    "n_blocks = int(input(\"Tell me the number of blocks you have:\"))\n",
    "row = 1\n",
    "\n",
    "while n_blocks >= row:\n",
    "    n_blocks -= row\n",
    "    row += 1\n",
    "\n",
    "print(\"You can build\", row - 1, \"rows\")"
   ]
  },
  {
   "cell_type": "markdown",
   "metadata": {},
   "source": [
    "\n",
    "## Exercise 6  \n",
    "Create a Python program that asks for a number and calculates its factorial.  \n",
    "The factorial of `n` is the product of all positive integers from `n` down to 1. For example, the factorial of 10 is:  \n",
    "$$\n",
    "10! = 10 \\times 9 \\times 8 \\times 7 \\times 6 \\times 5 \\times 4 \\times 3 \\times 2 \\times 1\n",
    "$$"
   ]
  },
  {
   "cell_type": "code",
   "execution_count": 10,
   "metadata": {},
   "outputs": [
    {
     "name": "stdout",
     "output_type": "stream",
     "text": [
      "120\n"
     ]
    }
   ],
   "source": [
    "number = int(input(\"Tell me a number:\"))\n",
    "product = 1\n",
    "\n",
    "# for i in range(2, number + 1)\n",
    "for i in range(number, 0, -1):\n",
    "    product *= i\n",
    "\n",
    "print(product)"
   ]
  },
  {
   "cell_type": "markdown",
   "metadata": {},
   "source": [
    "\n",
    "## Exercise 7  \n",
    "Create a Python program that asks for 6 grades and reports the number of students who passed, those conditionally passed (grades between 4 and 5), and those who failed.\n",
    "\n",
    "## Exercise 8  \n",
    "Create a Python program that asks for 10 numbers and indicates at the end whether there's at least one negative number.\n"
   ]
  },
  {
   "cell_type": "code",
   "execution_count": null,
   "metadata": {},
   "outputs": [
    {
     "name": "stdout",
     "output_type": "stream",
     "text": [
      "There are negative numbers\n"
     ]
    }
   ],
   "source": [
    "has_negatives = False\n",
    "\n",
    "for i in range(10):\n",
    "    number = int(input(\"Tell me a number:\"))\n",
    "    if number < 0:\n",
    "        has_negatives = True\n",
    "\n",
    "if has_negatives:\n",
    "    print(\"There are negative numbers\")\n",
    "else:\n",
    "    print(\"There are not negative numbers\")"
   ]
  },
  {
   "cell_type": "markdown",
   "metadata": {},
   "source": [
    "\n",
    "## Exercise 9  \n",
    "Create a Python program that receives a number and indicates whether it is prime or not. (A prime number is one divisible only by 1 and itself. A number is divisible by another if the remainder of the division is 0.)\n"
   ]
  },
  {
   "cell_type": "code",
   "execution_count": 4,
   "metadata": {},
   "outputs": [
    {
     "name": "stdout",
     "output_type": "stream",
     "text": [
      "Non é primo\n"
     ]
    }
   ],
   "source": [
    "number = int(input(\"Tell me a number and I will tell you if it is prime\"))\n",
    "\n",
    "is_prime = True\n",
    "\n",
    "for i in range(2, number):\n",
    "    if number % i == 0:\n",
    "        is_prime = False\n",
    "        break\n",
    "\n",
    "if is_prime:\n",
    "    print(\"É primo\")\n",
    "else:\n",
    "    print(\"Non é primo\")\n"
   ]
  },
  {
   "cell_type": "markdown",
   "metadata": {},
   "source": [
    "\n",
    "# Nested Loops Exercises  \n",
    "## Exercise 10  \n",
    "Create a Python program that displays the multiplication tables from 1 to 10.\n",
    "\n",
    "## Exercise 11  \n",
    "Create a Python program that counts how many prime numbers there are between 1 and a number entered by the user."
   ]
  }
 ],
 "metadata": {
  "kernelspec": {
   "display_name": "Python 3",
   "language": "python",
   "name": "python3"
  },
  "language_info": {
   "codemirror_mode": {
    "name": "ipython",
    "version": 3
   },
   "file_extension": ".py",
   "mimetype": "text/x-python",
   "name": "python",
   "nbconvert_exporter": "python",
   "pygments_lexer": "ipython3",
   "version": "3.12.3"
  },
  "orig_nbformat": 4
 },
 "nbformat": 4,
 "nbformat_minor": 2
}
