{
 "cells": [
  {
   "cell_type": "markdown",
   "metadata": {},
   "source": [
    "**¡OJO! Muchos de estos ejercicios son de nivel avanzado**\n",
    "\n",
    "En estos ejercicios se comprobará que los datos introducidos por el usuario sean números positivos mayores que 0. En caso de que no se cumplan estas condiciones, se solicitará de nuevo el número tantas veces como sea necesario hasta que se cumplan las condiciones establecidas.\n",
    "\n",
    "# Ejercicio 1\n",
    "\n",
    "Crea un programa en Python que dibuje un conjunto de asteriscos en varias líneas tal y como se ve a continuación. El número de asteriscos por fila y el número de filas será dado por el usuario.\n",
    "```python\n",
    "**********\n",
    "**********\n",
    "**********\n",
    "**********\n",
    "```\n"
   ]
  },
  {
   "cell_type": "code",
   "execution_count": 1,
   "metadata": {},
   "outputs": [
    {
     "name": "stdout",
     "output_type": "stream",
     "text": [
      "*****\n",
      "*****\n",
      "*****\n",
      "*****\n"
     ]
    }
   ],
   "source": [
    "filas = int(input(\"Introduce el número de filas: \"))\n",
    "columnas = int(input(\"Introduce el número de columnas: \"))\n",
    "\n",
    "for f in range(filas):\n",
    "    for c in range(columnas):\n",
    "        print(\"*\", end=\"\")\n",
    "    print()"
   ]
  },
  {
   "cell_type": "markdown",
   "metadata": {},
   "source": [
    "\n",
    "# Ejercicio 2\n",
    "\n",
    "Crea un programa en Python que dibuje una escalera de asteriscos tal y como se ve a continuación. El número de filas será dado por el usuario.\n",
    "```python\n",
    "*\n",
    "**\n",
    "***\n",
    "****\n",
    "*****\n",
    "```\n"
   ]
  },
  {
   "cell_type": "code",
   "execution_count": 2,
   "metadata": {},
   "outputs": [
    {
     "name": "stdout",
     "output_type": "stream",
     "text": [
      "*\n",
      "**\n",
      "***\n",
      "****\n",
      "*****\n"
     ]
    }
   ],
   "source": [
    "filas = int(input(\"Introduce el número de filas: \"))\n",
    "\n",
    "for f in range(filas):\n",
    "    print(\"*\" * (f+1))"
   ]
  },
  {
   "cell_type": "markdown",
   "metadata": {},
   "source": [
    "\n",
    "# Ejercicio 3\n",
    "\n",
    "Crea un programa en Python que dibuje una escalera de asteriscos tal y como se ve a continuación. El número de filas será dado por el usuario.\n",
    "```python\n",
    "*\n",
    "***\n",
    "*****\n",
    "*******\n",
    "*********\n",
    "```\n"
   ]
  },
  {
   "cell_type": "code",
   "execution_count": 5,
   "metadata": {},
   "outputs": [
    {
     "name": "stdout",
     "output_type": "stream",
     "text": [
      "*\n",
      "***\n",
      "*****\n",
      "*******\n"
     ]
    }
   ],
   "source": [
    "filas = int(input(\"Introduce el número de filas: \"))\n",
    "\n",
    "for f in range(filas):\n",
    "    print(\"*\" * ((2 * f) + 1))"
   ]
  },
  {
   "cell_type": "markdown",
   "metadata": {},
   "source": [
    "\n",
    "# Ejercicio 4\n",
    "\n",
    "Crea un programa Python que dibuje una pirámide sólida de asteriscos. La altura de la pirámide se pide por teclado. Un ejemplo de ejecución para una pirámide de altura 5 sería:\n",
    "```python\n",
    "        *\n",
    "      ***\n",
    "    *****\n",
    "  *******\n",
    "*********\n",
    "```\n"
   ]
  },
  {
   "cell_type": "code",
   "execution_count": 7,
   "metadata": {},
   "outputs": [
    {
     "name": "stdout",
     "output_type": "stream",
     "text": [
      "      *\n",
      "    ***\n",
      "  *****\n",
      "*******\n"
     ]
    }
   ],
   "source": [
    "filas = int(input(\"Introduce el número de filas: \"))\n",
    "\n",
    "max_asteriscos = 2 * filas - 1\n",
    "\n",
    "for f in range(filas):\n",
    "    num_asteriscos = 2 * f + 1\n",
    "    num_espacios = max_asteriscos - num_asteriscos\n",
    "    print(\" \" * num_espacios, end=\"\")\n",
    "    print(\"*\" * num_asteriscos)"
   ]
  },
  {
   "cell_type": "markdown",
   "metadata": {},
   "source": [
    "\n",
    "# Ejercicio 5\n",
    "\n",
    "Crea un programa en Python que dibuje una escalera de asteriscos tal y como se ve a continuación. El número de filas será dado por el usuario.\n",
    "```python\n",
    "    *\n",
    "   ***\n",
    "  *****\n",
    " *******\n",
    "*********\n",
    "```"
   ]
  },
  {
   "cell_type": "code",
   "execution_count": 8,
   "metadata": {},
   "outputs": [
    {
     "name": "stdout",
     "output_type": "stream",
     "text": [
      "   *\n",
      "  ***\n",
      " *****\n",
      "*******\n"
     ]
    }
   ],
   "source": [
    "filas = int(input(\"Introduce el número de filas: \"))\n",
    "\n",
    "max_asteriscos = 2 * filas - 1\n",
    "\n",
    "for f in range(filas):\n",
    "    num_asteriscos = 2 * f + 1\n",
    "    espacios = (max_asteriscos - num_asteriscos) // 2\n",
    "    print(\" \" * espacios, end=\"\")\n",
    "    print(\"*\" * num_asteriscos)"
   ]
  },
  {
   "cell_type": "markdown",
   "metadata": {},
   "source": [
    "\n",
    "# Ejercicio 6\n",
    "\n",
    "Crea un programa en Python que dibuje una pirámide de asteriscos invertida tal y como se ve a continuación. El número máximo de asteriscos, de la fila más larga será dado por el usuario, en el ejemplo es 5.\n",
    "```python\n",
    "* \n",
    "* * \n",
    "* * * \n",
    "* * * * \n",
    "* * * * * \n",
    "* * * * \n",
    "* * * \n",
    "* * \n",
    "*\n",
    "```\n"
   ]
  },
  {
   "cell_type": "code",
   "execution_count": 10,
   "metadata": {},
   "outputs": [
    {
     "name": "stdout",
     "output_type": "stream",
     "text": [
      "\n",
      "* \n",
      "* * \n",
      "* * * \n",
      "* * * * \n",
      "* * * \n",
      "* * \n",
      "* \n",
      "\n"
     ]
    }
   ],
   "source": [
    "ancho = int(input(\"Introduce el ancho máximo de la pirámide: \"))\n",
    "\n",
    "for i in range(ancho + 1):\n",
    "    print(\"* \" * i)\n",
    "for i in range(ancho - 1, -1, -1):\n",
    "    print(\"* \" * i)"
   ]
  },
  {
   "cell_type": "markdown",
   "metadata": {},
   "source": [
    "    \n",
    "# Ejercicio 7\n",
    "\n",
    "Crea un programa en Python que dibuje una escalera de números tal y como se ve a continuación. El número de filas será dado por el usuario.\n",
    "```python\n",
    "1\n",
    "222\n",
    "33333\n",
    "4444444\n",
    "555555555\n",
    "```\n"
   ]
  },
  {
   "cell_type": "code",
   "execution_count": 13,
   "metadata": {},
   "outputs": [
    {
     "name": "stdout",
     "output_type": "stream",
     "text": [
      "1\n",
      "222\n",
      "33333\n",
      "4444444\n"
     ]
    }
   ],
   "source": [
    "filas = int(input(\"Introduce el número de filas: \"))\n",
    "\n",
    "for f in range(1, filas + 1):\n",
    "    num_caracteres = 2 * f - 1\n",
    "    print(str(f) * num_caracteres)\n"
   ]
  },
  {
   "cell_type": "markdown",
   "metadata": {},
   "source": [
    "\n",
    "# Ejercicio 8\n",
    "\n",
    "Crea un programa en Python que dibuje una escalera de números tal y como se ve a continuación. El número de filas será dado por el usuario.\n",
    "```python\n",
    "    1\n",
    "   212\n",
    "  32123\n",
    " 4321234\n",
    "543212345\n",
    "```\n"
   ]
  },
  {
   "cell_type": "code",
   "execution_count": 14,
   "metadata": {},
   "outputs": [
    {
     "name": "stdout",
     "output_type": "stream",
     "text": [
      "    1\n",
      "   212\n",
      "  32123\n",
      " 4321234\n",
      "543212345\n"
     ]
    }
   ],
   "source": [
    "tamanho = int(input(\"Introduce la altura de la pirámide: \"))\n",
    "\n",
    "for fila in range(1, tamanho + 1): # Iterar las filas\n",
    "    # Espacios iniciales\n",
    "    num_espacios = tamanho - fila\n",
    "    print(\" \" * num_espacios, end=\"\")\n",
    "    # Primera mitad\n",
    "    for j in range(fila, 0, -1): # Genera los elementos de cada fila\n",
    "        print(j, end=\"\")\n",
    "    # Segunda mitad\n",
    "    for j in range(2, fila + 1):\n",
    "        print(j, end=\"\")\n",
    "    print() # Al terminar la fila completa pongo un retorno de carro"
   ]
  },
  {
   "cell_type": "markdown",
   "metadata": {},
   "source": [
    "    \n",
    "# Ejercicio 9\n",
    "\n",
    "Crea un programa en Python que dibuje una escalera de números tal y como se ve a continuación. El número de filas será dado por el usuario.\n",
    "```python\n",
    "1\n",
    "3 1\n",
    "5 3 1\n",
    "7 5 3 1\n",
    "9 7 5 3 1\n",
    "```\n"
   ]
  },
  {
   "cell_type": "code",
   "execution_count": 18,
   "metadata": {},
   "outputs": [
    {
     "name": "stdout",
     "output_type": "stream",
     "text": [
      "1 \n",
      "3 1 \n",
      "5 3 1 \n",
      "7 5 3 1 \n"
     ]
    }
   ],
   "source": [
    "filas = int(input(\"Introduce el número de filas: \"))\n",
    "\n",
    "for f in range(filas):\n",
    "    for c in range(2 * f + 1, 0, -2):\n",
    "        print(c, end=\" \")\n",
    "    print()"
   ]
  },
  {
   "cell_type": "markdown",
   "metadata": {},
   "source": [
    "\n",
    "# Ejercicio 10\n",
    "\n",
    "Crea un programa en Python que dibuje una escalera de números invertida tal y como se ve a continuación. El número de filas será dado por el usuario.\n",
    "```python\n",
    "5 4 3 2 1 \n",
    "4 3 2 1 \n",
    "3 2 1 \n",
    "2 1 \n",
    "1\n",
    "```"
   ]
  },
  {
   "cell_type": "code",
   "execution_count": 21,
   "metadata": {},
   "outputs": [
    {
     "name": "stdout",
     "output_type": "stream",
     "text": [
      "4 3 2 1 \n",
      "3 2 1 \n",
      "2 1 \n",
      "1 \n"
     ]
    }
   ],
   "source": [
    "filas = int(input(\"Introduce el número de filas: \"))\n",
    "\n",
    "for f in range(filas, 0, -1):\n",
    "    for c in range(f, 0, -1):\n",
    "        print(c, end=\" \")\n",
    "    print()"
   ]
  }
 ],
 "metadata": {
  "kernelspec": {
   "display_name": "Python 3",
   "language": "python",
   "name": "python3"
  },
  "language_info": {
   "codemirror_mode": {
    "name": "ipython",
    "version": 3
   },
   "file_extension": ".py",
   "mimetype": "text/x-python",
   "name": "python",
   "nbconvert_exporter": "python",
   "pygments_lexer": "ipython3",
   "version": "3.10.12"
  },
  "orig_nbformat": 4
 },
 "nbformat": 4,
 "nbformat_minor": 2
}
