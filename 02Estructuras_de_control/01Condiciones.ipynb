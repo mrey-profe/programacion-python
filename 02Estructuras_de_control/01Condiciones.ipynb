{
 "cells": [
  {
   "cell_type": "markdown",
   "metadata": {},
   "source": [
    "# Toma de decisiones\n",
    "\n",
    "Hasta ahora hemos visto como ejecutar instrucciones de **forma secuencial**, las sentencias se ejecutan una a continuación de otra, pero, en la mayoría de los programas, es necesario tomar decisiones para ejecutar un código u otro.\n",
    "\n",
    "En la ejecución del código, se van a ir planteando preguntas que solo tienen dos respuestas posibles:\n",
    "- Sí, es verdadero `True`\n",
    "- No, es falso `False`\n",
    "\n",
    "No existe ambigüedad posible.\n",
    "\n",
    "Vamos a ir estableciendo **condiciones**.\n",
    "\n",
    "## Operadores condicionales\n",
    "\n",
    "|Operador|Significado|\n",
    "|-|-|\n",
    "|`==`|Es igual a|\n",
    "|`!=`|Es distinto de|\n",
    "|`>`|Es mayor que|\n",
    "|`>=`|Es mayor o igual que|\n",
    "|`<`|Es menor que|\n",
    "|`<=`|Es menor o igual que|\n",
    "\n",
    "\n",
    "¡ATENCIÓN! No confundir el operador de igualdad `==` con el operador de asignación `=`"
   ]
  },
  {
   "cell_type": "code",
   "execution_count": 3,
   "metadata": {},
   "outputs": [
    {
     "name": "stdout",
     "output_type": "stream",
     "text": [
      "False\n"
     ]
    }
   ],
   "source": [
    "print(2 == 2)"
   ]
  },
  {
   "cell_type": "code",
   "execution_count": 5,
   "metadata": {},
   "outputs": [
    {
     "name": "stdout",
     "output_type": "stream",
     "text": [
      "False\n"
     ]
    }
   ],
   "source": [
    "numero = 3\n",
    "print(numero == 2)"
   ]
  },
  {
   "cell_type": "code",
   "execution_count": 7,
   "metadata": {},
   "outputs": [
    {
     "name": "stdout",
     "output_type": "stream",
     "text": [
      "False\n"
     ]
    }
   ],
   "source": [
    "numero = int(input(\"Escribe un número: \"))\n",
    "print(numero == 2)"
   ]
  },
  {
   "cell_type": "code",
   "execution_count": null,
   "metadata": {},
   "outputs": [],
   "source": [
    "print(1 == 2)"
   ]
  },
  {
   "cell_type": "code",
   "execution_count": 10,
   "metadata": {},
   "outputs": [
    {
     "name": "stdout",
     "output_type": "stream",
     "text": [
      "True\n"
     ]
    }
   ],
   "source": [
    "print(2 == 2.0)"
   ]
  },
  {
   "cell_type": "code",
   "execution_count": 9,
   "metadata": {},
   "outputs": [
    {
     "name": "stdout",
     "output_type": "stream",
     "text": [
      "False\n"
     ]
    }
   ],
   "source": [
    "print(2 == \"2\")"
   ]
  },
  {
   "cell_type": "code",
   "execution_count": 8,
   "metadata": {},
   "outputs": [
    {
     "name": "stdout",
     "output_type": "stream",
     "text": [
      "True\n"
     ]
    }
   ],
   "source": [
    "print(2 != 3)"
   ]
  },
  {
   "cell_type": "code",
   "execution_count": 12,
   "metadata": {},
   "outputs": [
    {
     "name": "stdout",
     "output_type": "stream",
     "text": [
      "True\n"
     ]
    }
   ],
   "source": [
    "numero = int(input(\"Escribe un número: \"))\n",
    "print(numero < 2)"
   ]
  },
  {
   "cell_type": "markdown",
   "metadata": {},
   "source": [
    "## Operadores lógicos\n",
    "\n",
    "|Operador|Significado|\n",
    "|-|-|\n",
    "|`and`|Y, solo es verdadero cuando ambas condiciones son verdaderas.|\n",
    "|`or`|O, se cumple si alguna de las condiciones son verdaderas.|\n",
    "|`not`|Convierte la verdad en falso y lo falso en verdad|\n",
    "\n",
    "### Tablas de verdad\n",
    "\n",
    "| a     | b     | not a  | a and b | a or b |\n",
    "|-------|-------|-------|---------|--------|\n",
    "| False | False | True  | False   | False  |\n",
    "| False | True  | True  | False   | True   |\n",
    "| True  | False | False | False   | True   |\n",
    "| True  | True  | False | True    | True   |"
   ]
  },
  {
   "cell_type": "code",
   "execution_count": 13,
   "metadata": {},
   "outputs": [
    {
     "name": "stdout",
     "output_type": "stream",
     "text": [
      "True\n"
     ]
    }
   ],
   "source": [
    "ciudad = \"Ourense\"\n",
    "edad = 20\n",
    "print(not (ciudad == \"Vigo\") and edad >= 18)"
   ]
  },
  {
   "cell_type": "markdown",
   "metadata": {},
   "source": [
    "## Prioridad de operadores\n",
    "\n",
    "La prioridad de los operadores, de la más alta a la más baja sería:\n",
    "\n",
    "1.\t`+, -`\tunario\n",
    "2.\t`**`\t\n",
    "3.\t`*, /, //, %`\n",
    "4.\t`+, -`\tbinario\n",
    "5.  `<`, `<=`, `>`, `>=`, `==`, `!=`\n",
    "6. `not`\n",
    "7. `and`\n",
    "8. `or`\n",
    "\n",
    "También se pueden utilizar paréntesis."
   ]
  },
  {
   "cell_type": "markdown",
   "metadata": {},
   "source": [
    "## ¡OJO!\n",
    "\n",
    "Si quiero saber si un número toma un valor u otro **no puedo hacer**:\n",
    "\n",
    "```\n",
    "numero == (2 or 3) # INCORRECTO\n",
    "```\n",
    "Tengo que hacer\n",
    "\n",
    "```\n",
    "numero == 2 or numero == 3 # CORRECTO\n",
    "```"
   ]
  }
 ],
 "metadata": {
  "kernelspec": {
   "display_name": "Python 3",
   "language": "python",
   "name": "python3"
  },
  "language_info": {
   "codemirror_mode": {
    "name": "ipython",
    "version": 3
   },
   "file_extension": ".py",
   "mimetype": "text/x-python",
   "name": "python",
   "nbconvert_exporter": "python",
   "pygments_lexer": "ipython3",
   "version": "3.12.3"
  },
  "orig_nbformat": 4
 },
 "nbformat": 4,
 "nbformat_minor": 2
}
