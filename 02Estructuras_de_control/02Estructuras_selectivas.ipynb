{
 "cells": [
  {
   "cell_type": "markdown",
   "metadata": {},
   "source": [
    "# Estructuras selectivas\n",
    "\n",
    "Mecanismo que le permita hacer algo si se cumple una condición, y no hacerlo si no se cumple.\n",
    "\n",
    "## Sentecia condicional `if`\n",
    "\n",
    "```python\n",
    "if condicion:\n",
    "    # Código a ejecutar si se cumple la condición\n",
    "```\n",
    "\n",
    "**¡ATENCIÓN!** El código a ejecutar si se cumple debe aparecer indentado con 4 espacios cada línea. En los IDE, al pulsar el tabulador ya inserta los espacios correctos. Si el código a ejecutar consta de varias sentencias, **todas ellas deben estar indentadas**.\n",
    "\n",
    "La condición debe ser una expresión cuyo valor se interpretará únicamente en términos de True y False.\n",
    "\n",
    "**`if`** es una palabra clave reservada.\n",
    "\n"
   ]
  },
  {
   "cell_type": "code",
   "execution_count": 2,
   "metadata": {},
   "outputs": [],
   "source": [
    "mes = input(\"Indica en qué mes estamos: \")\n",
    "if mes == \"septiembre\":\n",
    "    print(\"Acabamos de empezar el curso\")"
   ]
  },
  {
   "cell_type": "code",
   "execution_count": 4,
   "metadata": {},
   "outputs": [],
   "source": [
    "mes = input(\"Indica en qué mes estamos: \")\n",
    "if mes == \"septiembre\":\n",
    "    print(\"Acabamos de empezar el curso\")\n",
    "    print(\"Bienvenidos al IES de Teis\")"
   ]
  },
  {
   "cell_type": "code",
   "execution_count": 4,
   "metadata": {},
   "outputs": [],
   "source": [
    "mes = input(\"Indica en qué mes estamos: \")\n",
    "if mes == \"septiembre\" or mes == \"Septiembre\":\n",
    "    print(\"Acabamos de empezar el curso\")\n",
    "    print(\"Bienvenidos al IES de Teis\")"
   ]
  },
  {
   "cell_type": "markdown",
   "metadata": {},
   "source": [
    "Como comentamos en el apartado anterior, la comparación a \"septiembre\" o \"Septiembre\" no se puede realizar así:"
   ]
  },
  {
   "cell_type": "code",
   "execution_count": null,
   "metadata": {},
   "outputs": [],
   "source": [
    "# INCORRECTO!!\n",
    "mes = input(\"Indica en qué mes estamos: \")\n",
    "if mes == \"septiembre\" or \"Septiembre\":\n",
    "    print(\"Acabamos de empezar el curso\")\n",
    "    print(\"Bienvenidos al IES de Teis\")"
   ]
  },
  {
   "cell_type": "markdown",
   "metadata": {},
   "source": [
    "En este caso vemos que, independientemente de lo que el usuario introduzca (incluso \"agosto\") el programa siempre entrará en el bloque de código del `if`. Esto sucede porque la expresión se evalúa en dos partes:\n",
    "- `mes == \"septiembre\"` -> Que puede ser `True` o `False`, dependiendo de lo que el usuario introduzca.\n",
    "- `\"Septiembre\"` -> Que siempre será `True`, ya que es una cadena de texto que no está vacía, en Python, todas aquellas cadenas de texto no vacías se evaluarán a `True`.\n",
    "- Al efectuar el `or` entre ambas expresiones, si una de ellas es `True`, el resultado será `True`, por lo que el bloque de código del `if` se ejecutará siempre."
   ]
  },
  {
   "cell_type": "markdown",
   "metadata": {},
   "source": [
    "La solución más elegante sería convertir la cadena introducida por el usuario a minúsculas y compararla con \"septiembre\", como veremos cuando hablemos de funciones de cadenas:"
   ]
  },
  {
   "cell_type": "code",
   "execution_count": null,
   "metadata": {},
   "outputs": [],
   "source": [
    "mes = input(\"Indica en qué mes estamos: \")\n",
    "mes = mes.lower() # Convertimos a minúsculas\n",
    "if mes == \"septiembre\":\n",
    "    print(\"Acabamos de empezar el curso\")\n",
    "    print(\"Bienvenidos al IES de Teis\")"
   ]
  },
  {
   "cell_type": "markdown",
   "metadata": {},
   "source": [
    "Para continuar con el programa, tras el `if` añadiremos más sentencias pero sin indentarlas, para que no formen parte del bloque de código del `if`."
   ]
  },
  {
   "cell_type": "code",
   "execution_count": 2,
   "metadata": {},
   "outputs": [
    {
     "name": "stdout",
     "output_type": "stream",
     "text": [
      "Acabamos de empezar el curso\n",
      "Bienvenidos al IES de Teis\n"
     ]
    }
   ],
   "source": [
    "mes = input(\"Indica en qué mes estamos: \")\n",
    "if mes == \"septiembre\":\n",
    "    print(\"Acabamos de empezar el curso\") # Este print solo se ejecuta si la condición es verdadera\n",
    "print(\"Bienvenidos al IES de Teis\") # Este print se ejecuta siempre"
   ]
  },
  {
   "cell_type": "markdown",
   "metadata": {},
   "source": [
    "## Sentencia condicional `if-else`\n",
    "\n",
    "La cláusula `else` nos permite indicar qué sentencias se ejecutarán cuando **NO** se cumpla la condición.\n",
    "\n",
    "```python\n",
    "if condicion:\n",
    "    # Código a ejecutar si se cumple la condición\n",
    "else:\n",
    "    # Código a ejecutar si NO se cumple la condición\n",
    "```\n",
    "\n",
    "**`else`** es una palabra clave reservada."
   ]
  },
  {
   "cell_type": "code",
   "execution_count": 4,
   "metadata": {},
   "outputs": [
    {
     "name": "stdout",
     "output_type": "stream",
     "text": [
      "Eres menor de edad\n",
      "La edad solo es un número\n"
     ]
    }
   ],
   "source": [
    "edad = int(input(\"Indica tu edad: \"))\n",
    "if (edad >= 18):\n",
    "    print(\"Eres mayor de edad\")\n",
    "else:\n",
    "    print(\"Eres menor de edad\")\n",
    "print(\"La edad solo es un número\")"
   ]
  },
  {
   "cell_type": "code",
   "execution_count": null,
   "metadata": {},
   "outputs": [],
   "source": [
    "edad = int(input(\"Indica tu edad: \"))\n",
    "if (edad >= 18):\n",
    "    print(\"Eres mayor de edad\")\n",
    "print(\"¡Genial!\") # No se pueden poner sentencias no indentadas entre if y else\n",
    "else:\n",
    "    print(\"Eres menor de edad\")\n",
    "print(\"La edad solo es un número\")"
   ]
  },
  {
   "cell_type": "code",
   "execution_count": null,
   "metadata": {},
   "outputs": [],
   "source": [
    "edad = int(input(\"Indica tu edad: \"))\n",
    "if (edad >= 18):\n",
    "    print(\"Eres mayor de edad\")\n",
    "    print(\"Puedes votar\")\n",
    "else:\n",
    "    print(\"Eres menor de edad\")\n",
    "    print(\"No puedes votar\")\n",
    "print(\"La edad solo es un número\")"
   ]
  },
  {
   "cell_type": "markdown",
   "metadata": {},
   "source": [
    "## Sentencia condicional `elif`\n",
    "\n",
    "Sirve para indicar alternativas. Es la forma abreviada de *else if*. Permite indicar una nueva condición si no se cumplieron las anteriores.\n",
    "\n",
    "```python\n",
    "if el_tiempo_es_bueno:\n",
    "    dar_un_paseo()\n",
    "elif quedan_entradas:\n",
    "    ir_al_teatro()\n",
    "elif hay_mesa_disponible:\n",
    "    ir_a_comer()\n",
    "else:\n",
    "    jugar_al_ajedrez_en_casa()\n",
    "```"
   ]
  },
  {
   "cell_type": "code",
   "execution_count": null,
   "metadata": {},
   "outputs": [],
   "source": [
    "edad = int(input(\"Indica tu edad: \"))\n",
    "if (edad < 18):\n",
    "    print(\"Eres menor de edad\")\n",
    "elif (edad < 65): # No hay que volver a comprobar que edad >= 18 porque ya lo hemos hecho antes, si no lo fuera, no llegaría aquí\n",
    "    print(\"Eres adulto\")\n",
    "else:\n",
    "    print(\"Estás jubilado\")"
   ]
  },
  {
   "cell_type": "markdown",
   "metadata": {},
   "source": [
    "## Aclaraciones de las sentencias condicionales\n",
    "\n",
    "- En una estructura de tipo condicional **COMO MUCHO** se ejecuta una de las ramas.\n",
    "- No debes usar `else` sin un `if` precedente.\n",
    "- `else` siempre es la última rama de la cascada, independientemente de si has usado `elif` o no.\n",
    "- `else` es una parte opcional de la cascada, y puede omitirse.\n",
    "- Si hay una rama `else` en la cascada, siempre se ejecuta una (y solo una) de todas las ramas.\n",
    "- Si no hay una rama `else`, es posible que no se ejecute ninguna de las opciones disponibles."
   ]
  },
  {
   "cell_type": "markdown",
   "metadata": {},
   "source": [
    "## Sentencias `if-elif-else` anidadas\n",
    "\n",
    "Pueden escribirse otras sentencias `if-elif-else` dentro de cualquiera de las cláusulas de otra sentencia `if-elif-else` anterior."
   ]
  },
  {
   "cell_type": "code",
   "execution_count": null,
   "metadata": {},
   "outputs": [],
   "source": [
    "edad = int(input(\"Indica tu edad: \"))\n",
    "if (edad < 16):\n",
    "    print(\"No puedes trabajar\")\n",
    "else:\n",
    "    trabajando = input(\"¿Estás trabajando? (s/n): \")\n",
    "    if (trabajando == \"s\"):\n",
    "        print(\"Trabajando\")\n",
    "    else:\n",
    "        print(\"No trabajando\")"
   ]
  },
  {
   "cell_type": "markdown",
   "metadata": {},
   "source": [
    "# Sentencia condicional `match-case`\n",
    "\n",
    "A partir de Python 3.10, se introduce la sentencia `match-case`, similar a las sentencias `switch-case` de otros lenguajes de programación.\n",
    "\n",
    "En esta sentencia, se realiza una comparación de una variable con una serie de valores, y se ejecuta el bloque de código correspondiente al valor que coincida con la variable.\n",
    "\n",
    "La sentencia es muy similar a la sentencia `if-elif-else`, cuando se utiliza con condiciones de igualdad.\n",
    "\n",
    "```python\n",
    "match variable:\n",
    "    case valor1:\n",
    "        # Código a ejecutar si valor == valor1\n",
    "    case valor2:\n",
    "        # Código a ejecutar si valor == valor2\n",
    "    case valor3:\n",
    "        # Código a ejecutar si valor == valor3\n",
    "    ...\n",
    "    case _:\n",
    "        # Código a ejecutar si no se cumple ninguna de las condiciones anteriores\n",
    "```"
   ]
  },
  {
   "cell_type": "code",
   "execution_count": null,
   "metadata": {},
   "outputs": [],
   "source": [
    "mes = input(\"Indica en qué mes estamos: \")\n",
    "match mes:\n",
    "    case \"septiembre\":\n",
    "        print(\"Acabamos de empezar el curso\")\n",
    "    case \"diciembre\":\n",
    "        print(\"¡Felices fiestas!\")\n",
    "    case \"enero\":\n",
    "        print(\"¡Feliz año nuevo!\")\n",
    "    case _:\n",
    "        print(\"No es un mes especial\")"
   ]
  },
  {
   "cell_type": "markdown",
   "metadata": {},
   "source": [
    "Se puede utilizar el carácter `|` para comparar la variable con varios valores a la vez.\n",
    "\n",
    "```python\n",
    "match valor:\n",
    "    case valor1 | valor2:\n",
    "        # Código a ejecutar si valor == valor1 o valor == valor2\n",
    "    case valor3:\n",
    "        # Código a ejecutar si valor == valor3\n",
    "    ...\n",
    "    case _:\n",
    "        # Código a ejecutar si no se cumple ninguna de las condiciones anteriores\n",
    "```"
   ]
  },
  {
   "cell_type": "code",
   "execution_count": null,
   "metadata": {},
   "outputs": [],
   "source": [
    "mes = input(\"Indica en qué mes estamos: \")\n",
    "match mes:\n",
    "    case \"septiembre\" | \"octubre\" | \"noviembre\" | \"diciembre\":\n",
    "        print(\"Estamos en el primer trimestre\")\n",
    "    case \"enero\" | \"febrero\" | \"marzo\":\n",
    "        print(\"Estamos en el segundo trimestre\")\n",
    "    case \"abril\" | \"mayo\" | \"junio\":\n",
    "        print(\"Estamos en el tercer trimestre\")\n",
    "    "
   ]
  }
 ],
 "metadata": {
  "kernelspec": {
   "display_name": "Python 3",
   "language": "python",
   "name": "python3"
  },
  "language_info": {
   "codemirror_mode": {
    "name": "ipython",
    "version": 3
   },
   "file_extension": ".py",
   "mimetype": "text/x-python",
   "name": "python",
   "nbconvert_exporter": "python",
   "pygments_lexer": "ipython3",
   "version": "3.12.3"
  },
  "orig_nbformat": 4
 },
 "nbformat": 4,
 "nbformat_minor": 2
}
