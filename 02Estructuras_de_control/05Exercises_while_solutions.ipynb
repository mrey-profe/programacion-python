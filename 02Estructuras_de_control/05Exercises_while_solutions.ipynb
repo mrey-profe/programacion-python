{
 "cells": [
  {
   "cell_type": "markdown",
   "metadata": {},
   "source": [
    "# `while` Exercises\n",
    "## Roadmap\n",
    "If you’re just starting out with programming, you should be able to tackle exercises 1 through 4.\n",
    "\n",
    "## Exercise 1\n",
    "Ask the user to enter a password, and use a while loop to keep prompting until the entered password matches the one stored in a variable.\n"
   ]
  },
  {
   "cell_type": "code",
   "execution_count": null,
   "metadata": {},
   "outputs": [],
   "source": [
    "correct_number = \"abc123.\"\n",
    "number = input(\"Password:\")\n",
    "\n",
    "while number != correct_number:\n",
    "    number = input(\"Incorrect. Try again. Password:\")\n",
    "\n",
    "print(\"You're in!\")"
   ]
  },
  {
   "cell_type": "code",
   "execution_count": null,
   "metadata": {},
   "outputs": [],
   "source": [
    "correct_number = \"abc123.\"\n",
    "number = \"\"\n",
    "\n",
    "while number != correct_number:\n",
    "    number = input(\"Password:\")\n",
    "\n",
    "print(\"You're in!\")"
   ]
  },
  {
   "cell_type": "markdown",
   "metadata": {},
   "source": [
    "\n",
    "## Exercise 2\n",
    "Create a program that repeatedly shows this menu until the user chooses to exit:\n",
    "```\n",
    "    1. Say Hello\n",
    "    2. Say Goodbye\n",
    "    3. Exit\n",
    "```\n",
    "If the user selects \"Say Hello,\" the program prints \"Hello\"; if they choose \"Say Goodbye,\" it prints \"Goodbye\"; if they pick \"Exit,\" the program ends.\n"
   ]
  },
  {
   "cell_type": "code",
   "execution_count": 1,
   "metadata": {},
   "outputs": [
    {
     "name": "stdout",
     "output_type": "stream",
     "text": [
      "1. Say Hello\n",
      "2. Say Goodbye\n",
      "3. Exit\n",
      "\n",
      "Hello\n",
      "1. Say Hello\n",
      "2. Say Goodbye\n",
      "3. Exit\n",
      "\n",
      "Goodbye\n",
      "1. Say Hello\n",
      "2. Say Goodbye\n",
      "3. Exit\n",
      "\n",
      "Wrong option\n",
      "1. Say Hello\n",
      "2. Say Goodbye\n",
      "3. Exit\n",
      "\n",
      "The program ends\n"
     ]
    }
   ],
   "source": [
    "MENU = '''1. Say Hello\n",
    "2. Say Goodbye\n",
    "3. Exit\n",
    "'''\n",
    "option = -1\n",
    "\n",
    "while option != 3:\n",
    "    print(MENU)\n",
    "    option = int(input(\"Choose an option: \"))\n",
    "    match option:\n",
    "        case 1:\n",
    "            print(\"Hello\")\n",
    "        case 2:\n",
    "            print(\"Goodbye\")\n",
    "        case 3:\n",
    "            print(\"The program ends\")\n",
    "        case _:\n",
    "            print(\"Wrong option\")\n"
   ]
  },
  {
   "cell_type": "markdown",
   "metadata": {},
   "source": [
    "\n",
    "## Exercise 3\n",
    "Write a program that shows the multiples of a number:\n",
    "1. First, ask the user for the number whose multiples they want to see.  \n",
    "2. Then, display each multiple and ask if they want to continue seeing more.  \n",
    "3. The program continues until the user says no.  \n",
    "Example:\n",
    "```\n",
    "Enter a number to see its multiples: 3\n",
    "3\n",
    "Do you want to see more multiples? (y/n): y\n",
    "6\n",
    "Do you want to see more multiples? (y/n): y\n",
    "9\n",
    "Do you want to see more multiples? (y/n): n\n",
    "See you later!\n",
    "```\n"
   ]
  },
  {
   "cell_type": "code",
   "execution_count": 2,
   "metadata": {},
   "outputs": [
    {
     "name": "stdout",
     "output_type": "stream",
     "text": [
      "4\n",
      "8\n",
      "12\n",
      "16\n",
      "20\n"
     ]
    }
   ],
   "source": [
    "number = int(input(\"Choose a number:\"))\n",
    "multiple = 0\n",
    "answer = \"y\"\n",
    "\n",
    "while answer == \"y\":\n",
    "    multiple += number\n",
    "    print(multiple)\n",
    "    answer = input(\"Do you want to see more multiples (y/n)?\")"
   ]
  },
  {
   "cell_type": "markdown",
   "metadata": {},
   "source": [
    "\n",
    "## Exercise 4\n",
    "In the Triwizard Tournament, one challenge is to escape a room by guessing a secret number. Dumbledore wants you to create a Python program that stores the secret number and keeps asking the champions to guess it until someone gets it right. The program should:  \n",
    "- Keep asking for a guess until it’s correct.  \n",
    "- If the guess is wrong, print `\"Hahaha, you’re trapped in my loop\"`  \n",
    "- If the guess is right, print `\"Well done. You’re free!\"`"
   ]
  },
  {
   "cell_type": "code",
   "execution_count": 2,
   "metadata": {},
   "outputs": [
    {
     "name": "stdout",
     "output_type": "stream",
     "text": [
      "Well done! You're free!\n"
     ]
    }
   ],
   "source": [
    "correct_number = 12\n",
    "number = int(input(\"Try to guess the number:\"))\n",
    "\n",
    "while number != correct_number:\n",
    "    number = int(input(\"Hahaha, you're trapped in my loop!\"))\n",
    "\n",
    "print(\"Well done! You're free!\")"
   ]
  },
  {
   "cell_type": "markdown",
   "metadata": {},
   "source": [
    "\n",
    "## Exercise 5\n",
    "Write a program that calculates how many natural numbers (1, 2, 3, 4, ...) need to be added sequentially to reach at least 200,000. In other words, up to what number do you have to add numbers like $$1 + 2 + 3 + \\ldots$$ so the total is 200,000 or more? The program should return the last number added.  \n",
    "The answer is 632."
   ]
  },
  {
   "cell_type": "code",
   "execution_count": 1,
   "metadata": {},
   "outputs": [
    {
     "name": "stdout",
     "output_type": "stream",
     "text": [
      "632\n"
     ]
    }
   ],
   "source": [
    "LIMIT = 200000\n",
    "i = 0\n",
    "result = 0\n",
    "\n",
    "while result < LIMIT:\n",
    "    i += 1\n",
    "    result += i\n",
    "\n",
    "print(i)"
   ]
  },
  {
   "cell_type": "markdown",
   "metadata": {},
   "source": [
    "\n",
    "## Exercise 6\n",
    "Write a program that asks the user to enter their birth date (day, month, year) and calculates their lucky number.  \n",
    "The lucky number is found by adding the day, month, and year, then adding the digits of the resulting number.  \n",
    "For example, if the birth date is 12/07/1980:  \n",
    "\n",
    "$ 12 + 7 + 1980 = 1999 \\rightarrow 1 + 9 + 9 + 9 = 28 $  \n",
    "\n",
    "Lucky number: 28"
   ]
  },
  {
   "cell_type": "code",
   "execution_count": null,
   "metadata": {},
   "outputs": [
    {
     "name": "stdout",
     "output_type": "stream",
     "text": [
      "Write your birth date:\n",
      "2\n"
     ]
    }
   ],
   "source": [
    "print(\"Write your birth date:\")\n",
    "day = int(input(\"Day:\"))\n",
    "month = int(input(\"Month:\"))\n",
    "year = int(input(\"Year:\"))\n",
    "\n",
    "number = day + month + year\n",
    "lucky_number = 0\n",
    "\n",
    "while number != 0:\n",
    "    digit = number % 10\n",
    "    number //= 10 # number = number // 10\n",
    "    lucky_number += digit\n",
    "\n",
    "print(\"Your lucky number is:\", lucky_number)"
   ]
  }
 ],
 "metadata": {
  "kernelspec": {
   "display_name": "Python 3",
   "language": "python",
   "name": "python3"
  },
  "language_info": {
   "codemirror_mode": {
    "name": "ipython",
    "version": 3
   },
   "file_extension": ".py",
   "mimetype": "text/x-python",
   "name": "python",
   "nbconvert_exporter": "python",
   "pygments_lexer": "ipython3",
   "version": "3.12.3"
  },
  "orig_nbformat": 4
 },
 "nbformat": 4,
 "nbformat_minor": 2
}
