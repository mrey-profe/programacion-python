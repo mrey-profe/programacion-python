{
 "cells": [
  {
   "cell_type": "markdown",
   "metadata": {},
   "source": [
    "# `for` Exercises\n",
    "## Exercise 1\n",
    "Create a Python program that displays the numbers from 100 down to 1.  \n",
    "Output: First, print each number on its own line, then print them all on the same line separated by spaces.\n"
   ]
  },
  {
   "cell_type": "code",
   "execution_count": null,
   "metadata": {},
   "outputs": [],
   "source": [
    "for i in range(100, 0, -1):\n",
    "    print(i)"
   ]
  },
  {
   "cell_type": "code",
   "execution_count": null,
   "metadata": {},
   "outputs": [],
   "source": [
    "for i in range(100, 0, -1):\n",
    "    print(i, end=\" \")"
   ]
  },
  {
   "cell_type": "markdown",
   "metadata": {},
   "source": [
    "\n",
    "## Exercise 2\n",
    "Create a Python program that displays the numbers from 1 up to a number entered by the user.\n"
   ]
  },
  {
   "cell_type": "code",
   "execution_count": null,
   "metadata": {},
   "outputs": [],
   "source": [
    "limit = int(input(\"Tell me a number:\"))\n",
    "\n",
    "for i in range(1, limit + 1):\n",
    "    print(i)"
   ]
  },
  {
   "cell_type": "markdown",
   "metadata": {},
   "source": [
    "\n",
    "## Exercise 3\n",
    "Create a Python program that shows the numbers from a user-entered number down to 1, counting backwards by 1.\n"
   ]
  },
  {
   "cell_type": "code",
   "execution_count": null,
   "metadata": {},
   "outputs": [],
   "source": [
    "limit = int(input(\"Tell me a number:\"))\n",
    "\n",
    "for i in range(limit, 0, -1):\n",
    "    print(i)"
   ]
  },
  {
   "cell_type": "markdown",
   "metadata": {},
   "source": [
    "\n",
    "## Exercise 4\n",
    "Create a Python program that shows the numbers from a larger number down to a smaller number, both entered by the user. Check that the first number is greater than the second; if it isn’t, display a message and exit the program.\n"
   ]
  },
  {
   "cell_type": "code",
   "execution_count": null,
   "metadata": {},
   "outputs": [],
   "source": [
    "\n",
    "a = int(input(\"Enter the larger number: \"))\n",
    "b = int(input(\"Enter the smaller number: \"))\n",
    "\n",
    "if a <= b:\n",
    "    print(\"The first number must be greater than the second. Exiting.\")\n",
    "else:\n",
    "    for i in range(a, b - 1, -1):\n",
    "        print(i)"
   ]
  },
  {
   "cell_type": "markdown",
   "metadata": {},
   "source": [
    "\n",
    "## Exercise 5\n",
    "Create a Python program that calculates the product of the first 10 odd numbers.  \n",
    "The result is **654729075**.\n"
   ]
  },
  {
   "cell_type": "code",
   "execution_count": null,
   "metadata": {},
   "outputs": [],
   "source": [
    "product = 1\n",
    "for i in range(1, 20, 2):\n",
    "    product *= i\n",
    "print(product)"
   ]
  },
  {
   "cell_type": "markdown",
   "metadata": {},
   "source": [
    "\n",
    "## Exercise 6\n",
    "In some English-speaking countries, people say “Mississippi” to count seconds, for example, when playing hide and seek. Create a program that counts up to 5 seconds, printing the number followed by “Mississippi” each time, and then prints “Go!”. The output should look like this:\n",
    "```python\n",
    "1 Mississippi\n",
    "2 Mississippi\n",
    "3 Mississippi\n",
    "4 Mississippi\n",
    "5 Mississippi\n",
    "Go!\n",
    "```\n",
    "Use the `time.sleep()` function to wait one second between each count. Look up how to use it.\n"
   ]
  },
  {
   "cell_type": "code",
   "execution_count": null,
   "metadata": {},
   "outputs": [],
   "source": [
    "import time\n",
    "\n",
    "for i in range(1,6):\n",
    "    print(i, \"Mississippi\")\n",
    "    time.sleep(1)"
   ]
  },
  {
   "cell_type": "markdown",
   "metadata": {},
   "source": [
    "\n",
    "## Exercise 7: Vowel Eater\n",
    "Create a program that asks the user for a phrase and then displays that phrase in uppercase with all the vowels removed.\n"
   ]
  },
  {
   "cell_type": "markdown",
   "metadata": {},
   "source": [
    "\n",
    "## Exercise 8: Vowel Counter\n",
    "Create a program that asks the user for a phrase and tells them how many vowels it contains.\n"
   ]
  },
  {
   "cell_type": "markdown",
   "metadata": {},
   "source": [
    "\n",
    "## Exercise 9\n",
    "Students at IES de Teis have an email address at the domain `iesteis.es`. This email consists of their classroom username followed by `@iesteis.es`. For example: `a23mariarm@iesteis.es`.  \n",
    "Write a Python program that asks the user for an email address and returns just the username part. For instance, for `a23mariarm@iesteis.es`, it should return `a23mariarm`.\n"
   ]
  },
  {
   "cell_type": "markdown",
   "metadata": {},
   "source": [
    "\n",
    "## Exercise 10: Does it have vowels?\n",
    "Create a program that asks the user for a phrase and tells them whether or not it contains any vowels."
   ]
  }
 ],
 "metadata": {
  "kernelspec": {
   "display_name": "Python 3",
   "language": "python",
   "name": "python3"
  },
  "language_info": {
   "codemirror_mode": {
    "name": "ipython",
    "version": 3
   },
   "file_extension": ".py",
   "mimetype": "text/x-python",
   "name": "python",
   "nbconvert_exporter": "python",
   "pygments_lexer": "ipython3",
   "version": "3.12.3"
  },
  "orig_nbformat": 4
 },
 "nbformat": 4,
 "nbformat_minor": 2
}
