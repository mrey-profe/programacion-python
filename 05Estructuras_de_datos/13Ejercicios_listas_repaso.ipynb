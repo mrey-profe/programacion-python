{
 "cells": [
  {
   "cell_type": "markdown",
   "metadata": {},
   "source": [
    "## Ejercicio 1\n",
    "\n",
    "Escribe una función `sumar_elementos(lista)` que reciba una lista de números y devuelva la suma de todos sus elementos."
   ]
  },
  {
   "cell_type": "markdown",
   "metadata": {},
   "source": [
    "## Ejercicio 2\n",
    "\n",
    "Crea una función `encontrar_extremos(lista)` que reciba una lista de números y devuelva el menor y el mayor valor de la lista."
   ]
  },
  {
   "cell_type": "markdown",
   "metadata": {},
   "source": [
    "## Ejercicio 3\n",
    "\n",
    "Crea una función `contar_ocurrencias(lista, elemento)` que reciba una lista y un valor, y devuelva cuántas veces aparece ese valor en la lista."
   ]
  },
  {
   "cell_type": "markdown",
   "metadata": {},
   "source": [
    "## Ejercicio 4\n",
    "\n",
    "Escribe una función `multiplicar_por_factor(lista, factor)` que reciba una lista de números y un número (factor). La función debe devolver una nueva lista donde cada elemento de la lista original esté multiplicado por el factor.\n",
    "\n",
    "Resuélvelo de dos formas: sin utilizar comprensión de listas y utilizándolas."
   ]
  },
  {
   "cell_type": "markdown",
   "metadata": {},
   "source": [
    "## Ejercicio 5\n",
    "\n",
    "Desarrolla una función `concatenar_listas(lista1, lista2)` que reciba dos listas y devuelva una nueva lista que sea la concatenación de ambas."
   ]
  },
  {
   "cell_type": "markdown",
   "metadata": {},
   "source": [
    "## Ejercicio 6\n",
    "\n",
    "Crea una función `eliminar_negativos(lista)` que reciba una lista de números y devuelva una nueva lista sin los números negativos."
   ]
  },
  {
   "cell_type": "markdown",
   "metadata": {},
   "source": [
    "## Ejercicio 7\n",
    "\n",
    "Escribe una función `esta_ordenada(lista)` que reciba una lista de números y devuelva `True` si los elementos están en orden ascendente y `False` en caso contrario."
   ]
  },
  {
   "cell_type": "markdown",
   "metadata": {},
   "source": [
    "## Ejercicio 8\n",
    "\n",
    "Desarrolla una función `intercalar_listas(lista1, lista2)` que reciba dos listas y devuelva una nueva lista con los elementos de ambas listas intercalados. Si una lista es más corta, se deben añadir los elementos restantes de la lista más larga al final."
   ]
  },
  {
   "cell_type": "markdown",
   "metadata": {},
   "source": [
    "## Ejercicio 9\n",
    "\n",
    "Escribe una función `rotar_lista(lista, n)` que reciba una lista y un entero `n`. La función debe devolver la lista rotada a la izquierda `n` posiciones."
   ]
  }
 ],
 "metadata": {
  "language_info": {
   "name": "python"
  }
 },
 "nbformat": 4,
 "nbformat_minor": 2
}
