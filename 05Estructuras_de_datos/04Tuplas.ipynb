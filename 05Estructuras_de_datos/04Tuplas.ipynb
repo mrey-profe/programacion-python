{
 "cells": [
  {
   "cell_type": "markdown",
   "metadata": {},
   "source": [
    "# Tuplas\n",
    "\n",
    "Una tupla es un tipo de secuencia inmutable.\n",
    "\n",
    "Se comporta como una lista pero, una vez creada, no se puede modificar.\n",
    "\n",
    "Las tuplas se crean con paréntesis, aunque también es posible crear una tupla separando los elementos con comas, sin paréntesis."
   ]
  },
  {
   "cell_type": "code",
   "execution_count": 1,
   "metadata": {},
   "outputs": [
    {
     "name": "stdout",
     "output_type": "stream",
     "text": [
      "(1, 2, 3)\n",
      "(4, 5, 6)\n"
     ]
    }
   ],
   "source": [
    "tupla_1 = (1, 2, 3)\n",
    "tupla_2 = 4, 5, 6\n",
    "\n",
    "print(tupla_1)\n",
    "print(tupla_2)"
   ]
  },
  {
   "cell_type": "markdown",
   "metadata": {},
   "source": [
    "Si se quiere crear una tupla de un solo elemento, se ha de indicar una coma al final, para diferenciarla de un valor individual."
   ]
  },
  {
   "cell_type": "code",
   "execution_count": 2,
   "metadata": {},
   "outputs": [
    {
     "name": "stdout",
     "output_type": "stream",
     "text": [
      "(1,)\n",
      "(2,)\n",
      "('Enero',)\n"
     ]
    }
   ],
   "source": [
    "tupla_individual = (1,)\n",
    "print(tupla_individual)\n",
    "\n",
    "tupla_individual_2  = 2,\n",
    "print(tupla_individual_2)\n",
    "\n",
    "tupla_cadenas = \"Enero\", \n",
    "print(tupla_cadenas)"
   ]
  },
  {
   "cell_type": "markdown",
   "metadata": {},
   "source": [
    "Tupla vacía:"
   ]
  },
  {
   "cell_type": "code",
   "execution_count": 4,
   "metadata": {},
   "outputs": [
    {
     "name": "stdout",
     "output_type": "stream",
     "text": [
      "()\n"
     ]
    }
   ],
   "source": [
    "tupla_vacia = ()\n",
    "print(tupla_vacia)"
   ]
  },
  {
   "cell_type": "markdown",
   "metadata": {},
   "source": [
    "## Acceso a los elementos de una tupla\n",
    "\n",
    "Se pueden utilizar los métodos para acceso a uno o varios elementos de las secuencias de Python:"
   ]
  },
  {
   "cell_type": "code",
   "execution_count": 5,
   "metadata": {},
   "outputs": [
    {
     "name": "stdout",
     "output_type": "stream",
     "text": [
      "4\n",
      "(2, 3, 4)\n",
      "(6, 5, 4, 3, 2, 1)\n"
     ]
    }
   ],
   "source": [
    "tupla = (1, 2, 3, 4, 5, 6)\n",
    "\n",
    "print(tupla[3])\n",
    "print(tupla[1:4])\n",
    "print(tupla[::-1])"
   ]
  },
  {
   "cell_type": "markdown",
   "metadata": {},
   "source": [
    "Pero **no se pueden modificar**:"
   ]
  },
  {
   "cell_type": "code",
   "execution_count": 4,
   "metadata": {},
   "outputs": [
    {
     "ename": "TypeError",
     "evalue": "'tuple' object doesn't support item deletion",
     "output_type": "error",
     "traceback": [
      "\u001b[1;31m---------------------------------------------------------------------------\u001b[0m",
      "\u001b[1;31mTypeError\u001b[0m                                 Traceback (most recent call last)",
      "\u001b[1;32mz:\\Programacion\\apuntes\\04Estructuras_de_datos\\04Tuplas.ipynb Celda 10\u001b[0m line \u001b[0;36m5\n\u001b[0;32m      <a href='vscode-notebook-cell:/z%3A/Programacion/apuntes/04Estructuras_de_datos/04Tuplas.ipynb#X12sZmlsZQ%3D%3D?line=0'>1</a>\u001b[0m tupla \u001b[39m=\u001b[39m (\u001b[39m1\u001b[39m, \u001b[39m2\u001b[39m, \u001b[39m3\u001b[39m, \u001b[39m4\u001b[39m, \u001b[39m5\u001b[39m, \u001b[39m6\u001b[39m)\n\u001b[0;32m      <a href='vscode-notebook-cell:/z%3A/Programacion/apuntes/04Estructuras_de_datos/04Tuplas.ipynb#X12sZmlsZQ%3D%3D?line=2'>3</a>\u001b[0m \u001b[39m#tupla[2] = 4\u001b[39;00m\n\u001b[1;32m----> <a href='vscode-notebook-cell:/z%3A/Programacion/apuntes/04Estructuras_de_datos/04Tuplas.ipynb#X12sZmlsZQ%3D%3D?line=4'>5</a>\u001b[0m \u001b[39mdel\u001b[39;00m tupla[\u001b[39m2\u001b[39;49m]\n",
      "\u001b[1;31mTypeError\u001b[0m: 'tuple' object doesn't support item deletion"
     ]
    }
   ],
   "source": [
    "tupla = (1, 2, 3, 4, 5, 6)\n",
    "\n",
    "tupla[2] = 4\n",
    "\n",
    "del tupla[2]"
   ]
  },
  {
   "cell_type": "markdown",
   "metadata": {},
   "source": [
    "Si quisiésemos variar los valores de una tupla, tendríamos que reasignarla:"
   ]
  },
  {
   "cell_type": "code",
   "execution_count": 8,
   "metadata": {},
   "outputs": [
    {
     "name": "stdout",
     "output_type": "stream",
     "text": [
      "(1, 2, 3, 4, 5, 6)\n",
      "(1, 2)\n"
     ]
    }
   ],
   "source": [
    "tupla = (1, 2, 3, 4, 5, 6)\n",
    "\n",
    "print(tupla)\n",
    "\n",
    "tupla = (1, 2)\n",
    "\n",
    "print(tupla)"
   ]
  },
  {
   "cell_type": "markdown",
   "metadata": {},
   "source": [
    "Al ser secuencias, se pueden recorrer con un bucle `for`:"
   ]
  },
  {
   "cell_type": "code",
   "execution_count": 6,
   "metadata": {},
   "outputs": [
    {
     "name": "stdout",
     "output_type": "stream",
     "text": [
      "1\n",
      "2\n",
      "3\n",
      "4\n",
      "5\n",
      "6\n"
     ]
    }
   ],
   "source": [
    "tupla = (1, 2, 3, 4, 5, 6)\n",
    "\n",
    "for i in tupla:\n",
    "    print(i)"
   ]
  },
  {
   "cell_type": "markdown",
   "metadata": {},
   "source": [
    "## Cuándo usar tuplas\n",
    "\n",
    "Cuando se quiere garantizar que los datos sean de solo lectura, que nunca cambien y se mantengan constantes."
   ]
  },
  {
   "cell_type": "markdown",
   "metadata": {},
   "source": [
    "## Devolución de varios valores en funciones\n",
    "\n",
    "Cuando una función devuelve varios valores separados por comas, lo que realmente está devolviendo es una tupla."
   ]
  },
  {
   "cell_type": "code",
   "execution_count": null,
   "metadata": {},
   "outputs": [
    {
     "name": "stdout",
     "output_type": "stream",
     "text": [
      "(3, 1)\n",
      "El cociente es 3 y el resto es 1\n"
     ]
    }
   ],
   "source": [
    "def division_entera(dividendo: int, divisor: int) -> tuple[int, int]:\n",
    "    cociente = dividendo // divisor\n",
    "    resto = dividendo % divisor\n",
    "    return cociente, resto\n",
    "\n",
    "resultado = division_entera(10, 3)\n",
    "\n",
    "print(resultado)\n",
    "\n",
    "cociente, resto = resultado\n",
    "\n",
    "# Pero como las tuplas son secuencias, podemos desempaquetarlas en variables\n",
    "\n",
    "# cociente, resto = division_entera(10, 3)\n",
    "\n",
    "print(f\"El cociente es {cociente} y el resto es {resto}\")"
   ]
  },
  {
   "cell_type": "markdown",
   "metadata": {},
   "source": [
    "## Métodos de la clase tuple\n",
    "\n",
    "|Método|Significado|\n",
    "|-|-|\n",
    "|`tuple.count(x)`|Devuelve el número de veces que `x` aparece en la tupla|\n",
    "|`tuple.index(x)`|Devuelve el índice de la primera aparición de `x` en la tupla|\n",
    "|`tuple.index(x, inicio)`|Devuelve el índice de la primera aparición de `x`, a partir del índice `inicio`|\n",
    "|`tuple.index(x, inicio, fin)`|Devuelve el índice de la primera aparición de `x` entre los índices `inicio` (incluido) y `fin` (no incluido)|"
   ]
  }
 ],
 "metadata": {
  "kernelspec": {
   "display_name": "Python 3",
   "language": "python",
   "name": "python3"
  },
  "language_info": {
   "codemirror_mode": {
    "name": "ipython",
    "version": 3
   },
   "file_extension": ".py",
   "mimetype": "text/x-python",
   "name": "python",
   "nbconvert_exporter": "python",
   "pygments_lexer": "ipython3",
   "version": "3.11.5"
  }
 },
 "nbformat": 4,
 "nbformat_minor": 2
}
