{
 "cells": [
  {
   "cell_type": "markdown",
   "metadata": {},
   "source": [
    "# Listas\n",
    "\n",
    "Las listas son necesarias para almacenar datos de forma ordenada. Se pueden crear listas de cualquier tipo de dato, incluso listas de listas.\n",
    "\n",
    "## Creación de listas\n",
    "\n",
    "Para crear una lista se utilizan los corchetes `[]` y se separan los elementos con comas `,`. Los elementos pueden ser de cualquier tipo de dato.\n"
   ]
  },
  {
   "cell_type": "code",
   "execution_count": 3,
   "metadata": {},
   "outputs": [],
   "source": [
    "matriz = [1, 2, 3, 4, 5]\n",
    "lista2 = ['a', 'b', 'c']\n",
    "lista3 = [1, 'a', 2, 'b', 3, 'c', True]"
   ]
  },
  {
   "cell_type": "markdown",
   "metadata": {},
   "source": [
    "Las listas se pueden imprimir."
   ]
  },
  {
   "cell_type": "code",
   "execution_count": 4,
   "metadata": {},
   "outputs": [
    {
     "name": "stdout",
     "output_type": "stream",
     "text": [
      "[1, 2, 3, 4, 5]\n",
      "['a', 'b', 'c']\n"
     ]
    }
   ],
   "source": [
    "print(matriz)\n",
    "print(lista2)"
   ]
  },
  {
   "cell_type": "markdown",
   "metadata": {},
   "source": [
    "\n",
    "## Acceso a los elementos de una lista\n",
    "\n",
    "Para acceder a los elementos de una lista se utiliza el índice del elemento. El índice es un número entero que indica la posición del elemento en la lista. El primer elemento de la lista tiene índice 0, el segundo índice 1, y así sucesivamente (hasta su longitud -1). \n",
    "\n",
    "Para acceder al elemento se utiliza el nombre de la lista y, entre corchetes, el índice del elemento.\n"
   ]
  },
  {
   "cell_type": "code",
   "execution_count": null,
   "metadata": {},
   "outputs": [],
   "source": [
    "\n",
    "matriz = [1, 2, 3, 4, 5]\n",
    "matriz[0] # Acceso al primer elemento\n"
   ]
  },
  {
   "cell_type": "code",
   "execution_count": null,
   "metadata": {},
   "outputs": [],
   "source": [
    "matriz[1] # Acceso al segundo elemento\n"
   ]
  },
  {
   "cell_type": "code",
   "execution_count": null,
   "metadata": {},
   "outputs": [],
   "source": [
    "matriz[2] # Acceso al tercer elemento\n"
   ]
  },
  {
   "cell_type": "code",
   "execution_count": null,
   "metadata": {},
   "outputs": [],
   "source": [
    "matriz[3] # Acceso al cuarto elemento\n"
   ]
  },
  {
   "cell_type": "code",
   "execution_count": null,
   "metadata": {},
   "outputs": [],
   "source": [
    "matriz[4] # Acceso al quinto elemento\n"
   ]
  },
  {
   "cell_type": "markdown",
   "metadata": {},
   "source": [
    "No se puede acceder a un elemento que no existe."
   ]
  },
  {
   "cell_type": "code",
   "execution_count": null,
   "metadata": {},
   "outputs": [],
   "source": [
    "print(matriz[5])"
   ]
  },
  {
   "cell_type": "markdown",
   "metadata": {},
   "source": [
    "\n",
    "## Acceso a los elementos de una lista con índices negativos\n",
    "\n",
    "También se puede acceder a los elementos de una lista utilizando índices negativos. El último elemento de la lista tiene índice -1, el penúltimo -2, y así sucesivamente.\n"
   ]
  },
  {
   "cell_type": "code",
   "execution_count": 1,
   "metadata": {},
   "outputs": [
    {
     "data": {
      "text/plain": [
       "5"
      ]
     },
     "execution_count": 1,
     "metadata": {},
     "output_type": "execute_result"
    }
   ],
   "source": [
    "\n",
    "matriz = [1, 2, 3, 4, 5]\n",
    "matriz[-1] # Acceso al último elemento"
   ]
  },
  {
   "cell_type": "code",
   "execution_count": null,
   "metadata": {},
   "outputs": [],
   "source": [
    "matriz[-2] # Acceso al penúltimo elemento"
   ]
  },
  {
   "cell_type": "markdown",
   "metadata": {},
   "source": [
    "\n",
    "## Acceso a los elementos de una lista con rangos (rebanadas, *slices*)\n",
    "\n",
    "También se puede acceder a los elementos de una lista utilizando rangos. Para acceder a los elementos se utiliza el nombre de la lista y entre corchetes el rango de los elementos. \n",
    "\n",
    "El rango se indica con dos índices separados por dos puntos `:`. \n",
    "\n",
    "`lista[inicio:fin]`\n",
    "\n",
    "Para confirmar:\n",
    "\n",
    "- `inicio` es el índice del primer elemento incluido en la rebanada.\n",
    "- `fin` es el índice del primer elemento no incluido en la rebanada.\n"
   ]
  },
  {
   "cell_type": "code",
   "execution_count": null,
   "metadata": {},
   "outputs": [],
   "source": [
    "\n",
    "matriz = [1, 2, 3, 4, 5]\n",
    "matriz[0:2] # Acceso al primer y segundo elemento\n"
   ]
  },
  {
   "cell_type": "code",
   "execution_count": null,
   "metadata": {},
   "outputs": [],
   "source": [
    "matriz[1:3] # Acceso al segundo y tercer elemento\n"
   ]
  },
  {
   "cell_type": "code",
   "execution_count": null,
   "metadata": {},
   "outputs": [],
   "source": [
    "matriz[2:4] # Acceso al tercer y cuarto elemento\n"
   ]
  },
  {
   "cell_type": "code",
   "execution_count": null,
   "metadata": {},
   "outputs": [],
   "source": [
    "matriz[3:5] # Acceso al cuarto y quinto elemento"
   ]
  },
  {
   "cell_type": "markdown",
   "metadata": {},
   "source": [
    "Si omites el inicio, empieza en 0. Si omites el final, toma hasta el final de la lista."
   ]
  },
  {
   "cell_type": "code",
   "execution_count": null,
   "metadata": {},
   "outputs": [],
   "source": [
    "matriz = ['a', 'b', 'c', 'd', 'e']\n",
    "matriz[:3]"
   ]
  },
  {
   "cell_type": "code",
   "execution_count": null,
   "metadata": {},
   "outputs": [],
   "source": [
    "matriz[2:]"
   ]
  },
  {
   "cell_type": "code",
   "execution_count": null,
   "metadata": {},
   "outputs": [],
   "source": [
    "matriz[:] # Toda la lista"
   ]
  },
  {
   "cell_type": "code",
   "execution_count": null,
   "metadata": {},
   "outputs": [],
   "source": [
    "matriz[:-1] # Todos los elementos menos el último"
   ]
  },
  {
   "cell_type": "code",
   "execution_count": null,
   "metadata": {},
   "outputs": [],
   "source": [
    "matriz[2:] # Todos los elementos desde el tercero"
   ]
  },
  {
   "cell_type": "markdown",
   "metadata": {},
   "source": [
    "\n",
    "## Acceso a los elementos de una lista con rangos y saltos\n",
    "\n",
    "También se puede acceder a los elementos de una lista utilizando rangos y saltos. Para acceder a los elementos se utiliza el nombre de la lista y entre corchetes el rango de los elementos. El rango se indica con dos índices separados por dos puntos `:`. El primer índice indica el primer elemento del rango y el segundo índice indica el último elemento del rango. El primer elemento del rango se incluye y el último elemento del rango no se incluye. El salto indica cada cuantos elementos se accede a un elemento de la lista. El salto se indica con dos índices separados por dos puntos `:` después del segundo índice del rango.\n"
   ]
  },
  {
   "cell_type": "code",
   "execution_count": 5,
   "metadata": {},
   "outputs": [
    {
     "data": {
      "text/plain": [
       "[1, 3, 5]"
      ]
     },
     "execution_count": 5,
     "metadata": {},
     "output_type": "execute_result"
    }
   ],
   "source": [
    "\n",
    "matriz = [1, 2, 3, 4, 5]\n",
    "\n",
    "matriz[0:5:2] # Acceso al primer, tercer y quinto elemento\n",
    "matriz[::2]\n"
   ]
  },
  {
   "cell_type": "code",
   "execution_count": null,
   "metadata": {},
   "outputs": [],
   "source": [
    "matriz[1:5:2] # Acceso al segundo y cuarto elemento"
   ]
  },
  {
   "cell_type": "markdown",
   "metadata": {},
   "source": [
    "Cuando el salto es negativo, `inicio` debe ser mayor que `final`."
   ]
  },
  {
   "cell_type": "code",
   "execution_count": null,
   "metadata": {},
   "outputs": [],
   "source": [
    "matriz[1:4:-1]"
   ]
  },
  {
   "cell_type": "code",
   "execution_count": null,
   "metadata": {},
   "outputs": [],
   "source": [
    "matriz[4:1:-1] # Da la vuelta a parte de la lista que se indica"
   ]
  },
  {
   "cell_type": "code",
   "execution_count": null,
   "metadata": {},
   "outputs": [],
   "source": [
    "matriz[::-1]"
   ]
  },
  {
   "cell_type": "markdown",
   "metadata": {},
   "source": [
    "## Longitud de la lista\n",
    "\n",
    "La función que se utiliza para conocer la longitud de una lista es `len()`."
   ]
  },
  {
   "cell_type": "code",
   "execution_count": null,
   "metadata": {},
   "outputs": [],
   "source": [
    "matriz = [1, 2, 3, 4, 5, 10]\n",
    "print(len(matriz))"
   ]
  },
  {
   "cell_type": "markdown",
   "metadata": {},
   "source": [
    "## Eliminación de elementos\n",
    "\n",
    "Para eliminar un elemento de una lista se utiliza la instrucción `del`:"
   ]
  },
  {
   "cell_type": "code",
   "execution_count": null,
   "metadata": {},
   "outputs": [],
   "source": [
    "\n",
    "matriz = [1, 2, 3, 4, 5]\n",
    "del matriz[0] # Eliminación del primer elemento\n",
    "print(matriz)"
   ]
  },
  {
   "cell_type": "markdown",
   "metadata": {},
   "source": [
    "También se puede utilizar para eliminar rangos o listas completas:"
   ]
  },
  {
   "cell_type": "code",
   "execution_count": 29,
   "metadata": {},
   "outputs": [
    {
     "name": "stdout",
     "output_type": "stream",
     "text": [
      "[1, 4, 5]\n",
      "5\n"
     ]
    }
   ],
   "source": [
    "matriz = [1, 2, 3, 4, 5]\n",
    "del matriz[1:3] # Eliminación del segundo y tercer elemento\n",
    "print(matriz)\n",
    "print(matriz[2])"
   ]
  },
  {
   "cell_type": "code",
   "execution_count": null,
   "metadata": {},
   "outputs": [],
   "source": [
    "matriz = [1, 2, 3, 4, 5]\n",
    "del matriz # Eliminación de la lista completa, deja de existir la variable\n",
    "print(matriz)"
   ]
  },
  {
   "cell_type": "code",
   "execution_count": null,
   "metadata": {},
   "outputs": [],
   "source": [
    "matriz = [1, 2, 3, 4, 5]\n",
    "del matriz[:] # Eliminación de todos los elementos de la lista\n",
    "print(matriz)"
   ]
  },
  {
   "cell_type": "markdown",
   "metadata": {},
   "source": [
    "La instrucción `del` eliminará la lista, no su contenido."
   ]
  },
  {
   "cell_type": "code",
   "execution_count": null,
   "metadata": {},
   "outputs": [],
   "source": [
    "matriz = [1, 2, 3, 4, 5]\n",
    "lista2 = matriz # Asignación de lista a lista2\n",
    "del matriz\n",
    "print(lista2)\n",
    "print(matriz)"
   ]
  },
  {
   "cell_type": "markdown",
   "metadata": {},
   "source": [
    "A diferencia de los tipos primitivos, la asignación de una lista a otra variable no copia el contenido sino que crea otra referencia a esa lista."
   ]
  },
  {
   "cell_type": "code",
   "execution_count": null,
   "metadata": {},
   "outputs": [],
   "source": [
    "a = 10\n",
    "b = a\n",
    "a += 1\n",
    "print(b)"
   ]
  },
  {
   "cell_type": "code",
   "execution_count": null,
   "metadata": {},
   "outputs": [],
   "source": [
    "lista = [\"a\", \"b\", \"c\"]\n",
    "lista2 = lista\n",
    "lista[1] = \"z\"\n",
    "print(lista)\n",
    "print(lista2)"
   ]
  },
  {
   "cell_type": "markdown",
   "metadata": {},
   "source": [
    "Cuando la asignación la hacemos a una rebanada, sí se hace una copia."
   ]
  },
  {
   "cell_type": "code",
   "execution_count": null,
   "metadata": {},
   "outputs": [],
   "source": [
    "lista = [\"a\", \"b\", \"c\"]\n",
    "lista2 = lista[1:]\n",
    "lista[1] = \"z\"\n",
    "print(lista)\n",
    "print(lista2)"
   ]
  },
  {
   "cell_type": "markdown",
   "metadata": {},
   "source": [
    "## Agregado de elementos\n",
    "\n",
    "Para añadir elementos al final de una lista se utiliza el método `append()`.\n"
   ]
  },
  {
   "cell_type": "code",
   "execution_count": 30,
   "metadata": {},
   "outputs": [
    {
     "name": "stdout",
     "output_type": "stream",
     "text": [
      "[1, 2, 3, 4, 5, 6]\n"
     ]
    }
   ],
   "source": [
    "\n",
    "matriz = [1, 2, 3, 4, 5]\n",
    "matriz.append(6) # Se agrega al final el número 6\n",
    "print(matriz)\n"
   ]
  },
  {
   "cell_type": "markdown",
   "metadata": {},
   "source": [
    "El método `insert()` puede agregar un nuevo elemento en cualquier lugar de la lista, no solo al final.\n",
    "\n",
    "```python\n",
    "insert(lugar, valor)\n",
    "```\n",
    "\n",
    "Lo que hace es insertar el valor antes del elemento que estaba en el lugar que se le indica."
   ]
  },
  {
   "cell_type": "code",
   "execution_count": null,
   "metadata": {},
   "outputs": [
    {
     "name": "stdout",
     "output_type": "stream",
     "text": [
      "[6, 1, 2, 3, 4, 5]\n"
     ]
    }
   ],
   "source": [
    "matriz = [1, 2, 3, 4, 5]\n",
    "matriz.insert(0, 6) # Inserción del número 6 en la posición 0\n",
    "print(matriz)"
   ]
  },
  {
   "cell_type": "code",
   "execution_count": 34,
   "metadata": {},
   "outputs": [
    {
     "name": "stdout",
     "output_type": "stream",
     "text": [
      "[1, 2, 3, 4, 6, 5]\n"
     ]
    }
   ],
   "source": [
    "matriz = [1, 2, 3, 4, 5]\n",
    "matriz.insert(-1, 6) # Inserción del número 6 en antes del último elemento\n",
    "print(matriz)"
   ]
  },
  {
   "cell_type": "markdown",
   "metadata": {},
   "source": [
    "## Agregado de elementos a partir de una lista vacía\n",
    "\n",
    "Para crear una lista vacía:\n",
    "\n",
    "```\n",
    "lista = []\n",
    "```"
   ]
  },
  {
   "cell_type": "code",
   "execution_count": null,
   "metadata": {},
   "outputs": [],
   "source": [
    "matriz = []\n",
    "matriz.append(1)\n",
    "matriz.append(7)\n",
    "matriz.append(9)\n",
    "print(matriz)"
   ]
  },
  {
   "cell_type": "code",
   "execution_count": null,
   "metadata": {},
   "outputs": [],
   "source": [
    "matriz = []  # Creando una lista vacía.\n",
    "\n",
    "for i in range(5):\n",
    "    matriz.append(i)\n",
    "\n",
    "print(matriz)"
   ]
  },
  {
   "cell_type": "markdown",
   "metadata": {},
   "source": [
    "## Recorrido de las listas\n",
    "\n",
    "### Recorrido por los valores"
   ]
  },
  {
   "cell_type": "code",
   "execution_count": 6,
   "metadata": {},
   "outputs": [
    {
     "name": "stdout",
     "output_type": "stream",
     "text": [
      "Vigo\n",
      "Madrid\n",
      "Barcelona\n",
      "Valencia\n",
      "Sevilla\n"
     ]
    }
   ],
   "source": [
    "ciudades = ['Vigo', 'Madrid', 'Barcelona', 'Valencia', 'Sevilla']\n",
    "\n",
    "for ciudad in ciudades:\n",
    "    print(ciudad)"
   ]
  },
  {
   "cell_type": "markdown",
   "metadata": {},
   "source": [
    "Este método **copia** en `ciudad` cada uno de los valores de ciudades. No sirve para modificar valores."
   ]
  },
  {
   "cell_type": "code",
   "execution_count": 7,
   "metadata": {},
   "outputs": [
    {
     "name": "stdout",
     "output_type": "stream",
     "text": [
      "['Vigo', 'Madrid', 'Barcelona', 'Valencia', 'Sevilla']\n"
     ]
    }
   ],
   "source": [
    "ciudades = ['Vigo', 'Madrid', 'Barcelona', 'Valencia', 'Sevilla']\n",
    "\n",
    "for ciudad in ciudades:\n",
    "    ciudad = \"\"\n",
    "\n",
    "print(ciudades)"
   ]
  },
  {
   "cell_type": "markdown",
   "metadata": {},
   "source": [
    "Vemos que no se modifica, lo que se está modificando es la copia."
   ]
  },
  {
   "cell_type": "markdown",
   "metadata": {},
   "source": [
    "### Recorrido por índices"
   ]
  },
  {
   "cell_type": "code",
   "execution_count": null,
   "metadata": {},
   "outputs": [],
   "source": [
    "ciudades = ['Vigo', 'Madrid', 'Barcelona', 'Valencia', 'Sevilla']\n",
    "\n",
    "for i in range(len(ciudades)):\n",
    "    print(ciudades[i])"
   ]
  },
  {
   "cell_type": "markdown",
   "metadata": {},
   "source": [
    "De este modo sí se pueden modificar los elementos."
   ]
  },
  {
   "cell_type": "code",
   "execution_count": null,
   "metadata": {},
   "outputs": [],
   "source": [
    "ciudades = ['Vigo', 'Madrid', 'Barcelona', 'Valencia', 'Sevilla']\n",
    "\n",
    "for i in range(len(ciudades)):\n",
    "    ciudades[i] = \"\"\n",
    "\n",
    "print(ciudades)"
   ]
  },
  {
   "cell_type": "markdown",
   "metadata": {},
   "source": [
    "Este modo también es muy útil para recorrer a la vez varias listas cuyos valores guardan relación. ¡OJO! Debemos asegurarnos que todas ellas tengan la misma longitud."
   ]
  },
  {
   "cell_type": "code",
   "execution_count": 8,
   "metadata": {},
   "outputs": [
    {
     "name": "stdout",
     "output_type": "stream",
     "text": [
      "Vigo ten 295000 habitantes\n",
      "Madrid ten 6660000 habitantes\n",
      "Barcelona ten 1600000 habitantes\n",
      "Valencia ten 800000 habitantes\n",
      "Sevilla ten 1900000 habitantes\n"
     ]
    }
   ],
   "source": [
    "ciudades = ['Vigo', 'Madrid', 'Barcelona', 'Valencia', 'Sevilla']\n",
    "habitantes = [295000, 6660000, 1600000, 800000, 1900000]\n",
    "\n",
    "for i in range(len(ciudades)):\n",
    "    print(ciudades[i], \"ten\", habitantes[i], \"habitantes\")"
   ]
  },
  {
   "cell_type": "code",
   "execution_count": 9,
   "metadata": {},
   "outputs": [
    {
     "ename": "IndexError",
     "evalue": "list index out of range",
     "output_type": "error",
     "traceback": [
      "\u001b[0;31m---------------------------------------------------------------------------\u001b[0m",
      "\u001b[0;31mIndexError\u001b[0m                                Traceback (most recent call last)",
      "Cell \u001b[0;32mIn[9], line 4\u001b[0m\n\u001b[1;32m      1\u001b[0m matriz \u001b[38;5;241m=\u001b[39m [\u001b[38;5;241m1\u001b[39m, \u001b[38;5;241m2\u001b[39m, \u001b[38;5;241m3\u001b[39m, \u001b[38;5;241m4\u001b[39m, \u001b[38;5;241m5\u001b[39m]\n\u001b[1;32m      3\u001b[0m \u001b[38;5;28;01mfor\u001b[39;00m i \u001b[38;5;129;01min\u001b[39;00m \u001b[38;5;28mrange\u001b[39m(\u001b[38;5;28mlen\u001b[39m(matriz)):\n\u001b[0;32m----> 4\u001b[0m     \u001b[38;5;28;01mif\u001b[39;00m \u001b[43mmatriz\u001b[49m\u001b[43m[\u001b[49m\u001b[43mi\u001b[49m\u001b[43m]\u001b[49m \u001b[38;5;241m%\u001b[39m \u001b[38;5;241m2\u001b[39m \u001b[38;5;241m==\u001b[39m \u001b[38;5;241m0\u001b[39m:\n\u001b[1;32m      5\u001b[0m         \u001b[38;5;28;01mdel\u001b[39;00m matriz[i]\n",
      "\u001b[0;31mIndexError\u001b[0m: list index out of range"
     ]
    }
   ],
   "source": [
    "matriz = [1, 2, 3, 4, 5]\n",
    "\n",
    "for i in range(len(matriz)):\n",
    "    if matriz[i] % 2 == 0:\n",
    "        del matriz[i]"
   ]
  },
  {
   "cell_type": "markdown",
   "metadata": {},
   "source": [
    "Esto hace que la matriz se vaya reduciendo de tamaño y, como los valores generados por la función `range`, sobre los que itera el `for` solo se generan antes de la primera iteración, ha generado los valores 0, 1, 2, 3, 4 cuando la matriz, al final, solo va a tener 3 posiciones."
   ]
  },
  {
   "cell_type": "markdown",
   "metadata": {},
   "source": [
    "### Recorrido de una lista para eliminar valores\n",
    "\n",
    "Este caso es complejo porque la longitud de la lista va variando cuando eliminamos algún elemento. No puede hacerse de forma sencilla con un for, puesto que los índices se generan todos al principio.\n",
    "\n",
    "Podemos gestionarlo con un bucle `while`, controlando los índices a mano:"
   ]
  },
  {
   "cell_type": "code",
   "execution_count": null,
   "metadata": {},
   "outputs": [],
   "source": [
    "# Eliminar todos los elementos de una lista que son múltiplos de 5\n",
    "\n",
    "lista = [1, 2, 16, 15, 34, 25, 10]\n",
    "\n",
    "i = 0\n",
    "\n",
    "while i < len(lista):\n",
    "    if lista[i] % 5 == 0:\n",
    "        del lista[i] # Cuando borro un elemento no incremento el índice porque el siguiente elemento pasa a ocupar la posición del borrado\n",
    "    else:\n",
    "        i += 1 \n",
    "\n",
    "print(lista)"
   ]
  },
  {
   "cell_type": "markdown",
   "metadata": {},
   "source": [
    "## Operadores de pertenencia: `in` y `not in`\n",
    "\n",
    "`in` verifica si un elemento dado (el argumento izquierdo) está actualmente almacenado en algún lugar dentro de la lista (el argumento derecho), devuelve `True` en este caso."
   ]
  },
  {
   "cell_type": "code",
   "execution_count": 10,
   "metadata": {},
   "outputs": [
    {
     "name": "stdout",
     "output_type": "stream",
     "text": [
      "False\n",
      "True\n",
      "El número 2 está en la lista\n"
     ]
    }
   ],
   "source": [
    "matriz = [0, 3, 12, 8, 2]\n",
    "\n",
    "print(5 in matriz)\n",
    "print(12 in matriz)\n",
    "\n",
    "if 2 in matriz:\n",
    "    print(\"El número 2 está en la lista\")\n",
    "else:\n",
    "    print(\"El número 2 no está en la lista\")"
   ]
  },
  {
   "cell_type": "markdown",
   "metadata": {},
   "source": [
    "\n",
    "`not in` comprueba si un elemento dado (el argumento izquierdo) está ausente en una lista, devuelve `True` en este caso.\n",
    "\n"
   ]
  },
  {
   "cell_type": "code",
   "execution_count": 11,
   "metadata": {},
   "outputs": [
    {
     "name": "stdout",
     "output_type": "stream",
     "text": [
      "True\n",
      "False\n"
     ]
    }
   ],
   "source": [
    "matriz = [0, 3, 12, 8, 2]\n",
    "\n",
    "print(5 not in matriz)\n",
    "print(12 not in matriz)"
   ]
  },
  {
   "cell_type": "markdown",
   "metadata": {},
   "source": [
    "## Operador `*` en las listas\n",
    "\n",
    "Este operador, como sucedía con las cadenas, nos permite repetir un valor en la lista:\n"
   ]
  },
  {
   "cell_type": "code",
   "execution_count": 14,
   "metadata": {},
   "outputs": [
    {
     "name": "stdout",
     "output_type": "stream",
     "text": [
      "[0, 0, 0, 0, 0]\n"
     ]
    }
   ],
   "source": [
    "matriz = [0] * 5\n",
    "print(matriz)"
   ]
  },
  {
   "cell_type": "code",
   "execution_count": null,
   "metadata": {},
   "outputs": [],
   "source": [
    "matriz = [True] * 6\n",
    "print(matriz)"
   ]
  },
  {
   "cell_type": "markdown",
   "metadata": {},
   "source": [
    "\n",
    "## Comprensión de listas (avanzado)\n",
    "\n",
    "Sistema que utiliza Python para el llenado masivo de listas.\n",
    "\n",
    "```python\n",
    "<nueva_lista> = [<expresión> for <elemento> in <iterable>]\n",
    "```\n",
    "\n",
    "Que se traduce en:\n",
    "\n",
    "```python\n",
    "<nueva_lista> = [<hacer_esto> para <cada_uno_de_los_elementos> de <esta_lista>]\n",
    "```\n",
    "\n",
    "Llenado de una lista con ceros:\n"
   ]
  },
  {
   "cell_type": "code",
   "execution_count": 1,
   "metadata": {},
   "outputs": [
    {
     "name": "stdout",
     "output_type": "stream",
     "text": [
      "[0, 0, 0, 0, 0]\n"
     ]
    }
   ],
   "source": [
    "\n",
    "matriz = [0 for i in range(5)]\n",
    "print(matriz)\n"
   ]
  },
  {
   "cell_type": "markdown",
   "metadata": {},
   "source": [
    "Equivalente a:"
   ]
  },
  {
   "cell_type": "code",
   "execution_count": null,
   "metadata": {},
   "outputs": [],
   "source": [
    "matriz = []\n",
    "\n",
    "for i in range(5):\n",
    "    matriz.append(0)\n",
    "\n",
    "print(matriz)"
   ]
  },
  {
   "cell_type": "markdown",
   "metadata": {},
   "source": [
    "Lista con los 10 primeros números"
   ]
  },
  {
   "cell_type": "code",
   "execution_count": null,
   "metadata": {},
   "outputs": [
    {
     "name": "stdout",
     "output_type": "stream",
     "text": [
      "[1, 2, 3, 4, 5, 6, 7, 8, 9, 10]\n"
     ]
    }
   ],
   "source": [
    "matriz = [i for i in range(1,11)] # Mete en la matriz los valores de i para cada valor de i en el rango 1 a 10\n",
    "print(matriz)"
   ]
  },
  {
   "cell_type": "markdown",
   "metadata": {},
   "source": [
    "Equivale a:"
   ]
  },
  {
   "cell_type": "code",
   "execution_count": null,
   "metadata": {},
   "outputs": [],
   "source": [
    "matriz = []\n",
    "\n",
    "for i in range(1,11):\n",
    "    matriz.append(i)\n",
    "\n",
    "print(matriz)"
   ]
  },
  {
   "cell_type": "markdown",
   "metadata": {},
   "source": [
    "Lista con los números pares menores que 20"
   ]
  },
  {
   "cell_type": "code",
   "execution_count": null,
   "metadata": {},
   "outputs": [],
   "source": [
    "matriz = [i for i in range(2,20,2)]\n",
    "print(matriz)"
   ]
  },
  {
   "cell_type": "markdown",
   "metadata": {},
   "source": [
    "Equivale a:"
   ]
  },
  {
   "cell_type": "code",
   "execution_count": null,
   "metadata": {},
   "outputs": [],
   "source": [
    "matriz = []\n",
    "\n",
    "for i in range(2, 20, 2):\n",
    "    matriz.append(i)\n",
    "\n",
    "print(matriz)"
   ]
  },
  {
   "cell_type": "markdown",
   "metadata": {},
   "source": [
    "Lista con los 10 primeros números pares:"
   ]
  },
  {
   "cell_type": "code",
   "execution_count": 3,
   "metadata": {},
   "outputs": [
    {
     "name": "stdout",
     "output_type": "stream",
     "text": [
      "[2, 4, 6, 8, 10, 12, 14, 16, 18, 20]\n"
     ]
    }
   ],
   "source": [
    "matriz = [2*i for i in range(1,11)]\n",
    "print(matriz)"
   ]
  },
  {
   "cell_type": "markdown",
   "metadata": {},
   "source": [
    "Equivalente a:"
   ]
  },
  {
   "cell_type": "code",
   "execution_count": null,
   "metadata": {},
   "outputs": [],
   "source": [
    "matriz = []\n",
    "\n",
    "for i in range(1, 11):\n",
    "    matriz.append(2 * i)\n",
    "\n",
    "print(matriz)"
   ]
  },
  {
   "cell_type": "markdown",
   "metadata": {},
   "source": [
    "Lista con las 10 primeras potencias de 2:"
   ]
  },
  {
   "cell_type": "code",
   "execution_count": 4,
   "metadata": {},
   "outputs": [
    {
     "name": "stdout",
     "output_type": "stream",
     "text": [
      "[2, 4, 8, 16, 32, 64, 128, 256, 512, 1024]\n"
     ]
    }
   ],
   "source": [
    "matriz = [2 ** i for i in range(1,11)]\n",
    "print(matriz)"
   ]
  },
  {
   "cell_type": "markdown",
   "metadata": {},
   "source": [
    "Equivalente a:"
   ]
  },
  {
   "cell_type": "code",
   "execution_count": null,
   "metadata": {},
   "outputs": [],
   "source": [
    "matriz = []\n",
    "\n",
    "for i in range(1, 11):\n",
    "    matriz.append(2 ** i)\n",
    "\n",
    "print(matriz)"
   ]
  },
  {
   "cell_type": "markdown",
   "metadata": {},
   "source": [
    "El doble de todos los elementos de una lista:"
   ]
  },
  {
   "cell_type": "code",
   "execution_count": null,
   "metadata": {},
   "outputs": [],
   "source": [
    "lista = [5, 8, 9, 6, 12, 11]\n",
    "\n",
    "dobles = [2*i for i in lista]\n",
    "\n",
    "print(dobles)"
   ]
  },
  {
   "cell_type": "markdown",
   "metadata": {},
   "source": [
    "Equivale a:"
   ]
  },
  {
   "cell_type": "code",
   "execution_count": null,
   "metadata": {},
   "outputs": [],
   "source": [
    "lista = [5, 8, 9, 6, 12, 11]\n",
    "\n",
    "dobles = []\n",
    "\n",
    "for i in lista:\n",
    "    dobles.append(2 * i)\n",
    "\n",
    "print(dobles)"
   ]
  },
  {
   "cell_type": "markdown",
   "metadata": {},
   "source": [
    "Nueva lista con las iniciales de las palabras de otra lista."
   ]
  },
  {
   "cell_type": "code",
   "execution_count": null,
   "metadata": {},
   "outputs": [
    {
     "name": "stdout",
     "output_type": "stream",
     "text": [
      "['aloh', 'ogla', 'soida', 'adan']\n"
     ]
    }
   ],
   "source": [
    "palabras = ['hola', 'algo', 'adios', 'nada']\n",
    "\n",
    "iniciales = [palabra[0] for palabra in palabras]\n",
    "\n",
    "print(iniciales)"
   ]
  },
  {
   "cell_type": "markdown",
   "metadata": {},
   "source": [
    "Nueva lista con las palabras dadas la vuelta."
   ]
  },
  {
   "cell_type": "code",
   "execution_count": 9,
   "metadata": {},
   "outputs": [
    {
     "name": "stdout",
     "output_type": "stream",
     "text": [
      "['aloh', 'ogla', 'soida', 'adan']\n"
     ]
    }
   ],
   "source": [
    "palabras = ['hola', 'algo', 'adios', 'nada']\n",
    "\n",
    "reves = [palabra[::-1] for palabra in palabras]\n",
    "\n",
    "print(reves)"
   ]
  },
  {
   "cell_type": "markdown",
   "metadata": {},
   "source": [
    "### Con condición\n",
    "Se puede incluir una condición:\n",
    "\n",
    "```python\n",
    "<nueva_lista> = [<expresión> for <elemento> in <iterable> if <condición>]\n",
    "```\n",
    "\n",
    "Solo se va a insertar si se cumple la condición:"
   ]
  },
  {
   "cell_type": "code",
   "execution_count": null,
   "metadata": {},
   "outputs": [],
   "source": [
    "lista = [1, 2, 3, 5, 6, 8, 11, 14]\n",
    "\n",
    "pares = [x for x in lista if x % 2 == 0]\n",
    "\n",
    "print(pares)"
   ]
  },
  {
   "cell_type": "markdown",
   "metadata": {},
   "source": [
    "Equivalente a:"
   ]
  },
  {
   "cell_type": "code",
   "execution_count": null,
   "metadata": {},
   "outputs": [],
   "source": [
    "pares = []\n",
    "lista = [1, 2, 3, 5, 6, 8, 11, 14]\n",
    "\n",
    "for x in lista:\n",
    "    if x % 2 == 0:\n",
    "        pares.append(x)\n",
    "\n",
    "print(pares)"
   ]
  },
  {
   "cell_type": "markdown",
   "metadata": {},
   "source": [
    "## Listas dentro de listas (matrices bidimensionales)\n",
    "\n",
    "Las listas pueden contener listas, lo que permite crear matrices bidimensionales."
   ]
  },
  {
   "cell_type": "code",
   "execution_count": 12,
   "metadata": {},
   "outputs": [
    {
     "name": "stdout",
     "output_type": "stream",
     "text": [
      "[[1, 2, 3, 6], [4, 5, 6, 8], [7, 8, 9, 10]]\n",
      "[1, 2, 3, 6]\n",
      "[4, 5, 6, 8]\n",
      "[7, 8, 9, 10]\n",
      "1\t2\t3\t6\t\n",
      "4\t5\t6\t8\t\n",
      "7\t8\t9\t10\t\n",
      "1\t2\t3\t6\t\n",
      "4\t5\t6\t8\t\n",
      "7\t8\t9\t10\t\n",
      "1\n",
      "2\n",
      "6\n"
     ]
    }
   ],
   "source": [
    "matriz = [[1,2,3,6],[4,5,6,8],[7,8,9,10]]\n",
    "print(matriz)\n",
    "\n",
    "for fila in matriz:\n",
    "    print(fila)\n",
    "\n",
    "# Recorrido foreach (copia)\n",
    "for fila in matriz:\n",
    "    for elemento in fila:\n",
    "        print(elemento, end=\"\\t\")\n",
    "    print()\n",
    "\n",
    "# Recorrido por índices\n",
    "for f in range(len(matriz)):\n",
    "    for c in range(len(matriz[f])):\n",
    "        print(matriz[f][c], end=\"\\t\")\n",
    "    print()\n",
    "\n",
    "print(matriz[0][0])\n",
    "print(matriz[0][1])\n",
    "print(matriz[1][2])"
   ]
  },
  {
   "cell_type": "code",
   "execution_count": null,
   "metadata": {},
   "outputs": [],
   "source": [
    "tabla_multiplicar = []\n",
    "\n",
    "for i in range(0,11):\n",
    "    fila = []\n",
    "    for j in range(0,11):\n",
    "        fila.append(i * j)\n",
    "    tabla_multiplicar.append(fila)\n",
    "\n",
    "print(tabla_multiplicar)\n",
    "\n",
    "for fila in tabla_multiplicar:\n",
    "    print(fila)\n",
    "\n",
    "for fila in tabla_multiplicar:\n",
    "    for elemento in fila:\n",
    "        print(elemento, end=\"\\t\")\n",
    "    print()"
   ]
  },
  {
   "cell_type": "markdown",
   "metadata": {},
   "source": [
    "**¡OJO!** Pueden ser irregulares, no todas las filas tienen por qué tener el mismo tamaño."
   ]
  },
  {
   "cell_type": "code",
   "execution_count": 13,
   "metadata": {},
   "outputs": [
    {
     "name": "stdout",
     "output_type": "stream",
     "text": [
      "1\t2\t\n",
      "3\t4\t5\t\n",
      "6\t7\t8\t9\t\n"
     ]
    }
   ],
   "source": [
    "matriz = [[1,2], [3,4,5], [6,7,8,9]]\n",
    "\n",
    "for fila in matriz:\n",
    "    for elemento in fila:\n",
    "        print(elemento, end=\"\\t\")\n",
    "    print()\n"
   ]
  },
  {
   "cell_type": "markdown",
   "metadata": {},
   "source": [
    "## Ejemplo\n",
    "\n",
    "Utilizando listas bidimensionales, crea una matriz que almacene el número de incidencias que se producen en cada día de la semana (cada semana será una fila y cada columna, las incidencias de ese día de la semana).\n",
    "\n",
    "Calcula la media de incidencias en la primera semana.\n",
    "\n",
    "Imprime la suma de las incidencias producidas los lunes.\n",
    "\n",
    "Crea otra lista con la suma de incidencias por días."
   ]
  },
  {
   "cell_type": "code",
   "execution_count": 15,
   "metadata": {},
   "outputs": [
    {
     "name": "stdout",
     "output_type": "stream",
     "text": [
      "3.0\n",
      "3.0\n",
      "La suma de las incidencias de los lunes es  8\n",
      "La suma de las incidencias de los lunes es  8\n",
      "[8, 10, 12, 6, 14]\n",
      "[15, 26, 9]\n"
     ]
    }
   ],
   "source": [
    "incidencias = [[3, 2, 1, 4, 5], [1, 5, 10, 2, 8], [4, 3, 1, 0, 1]]\n",
    "\n",
    "# Calcular la media de incidencias de la primera semana\n",
    "# Media de incidencias[0]\n",
    "lista = incidencias[0]\n",
    "suma = 0\n",
    "for valor in lista:\n",
    "    suma += valor\n",
    "media = suma / len(lista)\n",
    "print(media)\n",
    "\n",
    "# Sin variable intermedia\n",
    "suma = 0\n",
    "for valor in incidencias[0]:\n",
    "    suma += valor\n",
    "media = suma / len(incidencias[0])\n",
    "print(media)\n",
    "\n",
    "suma = 0\n",
    "for f in range(len(incidencias)):\n",
    "    suma += incidencias[f][0]\n",
    "\n",
    "print(\"La suma de las incidencias de los lunes es \", suma)\n",
    "\n",
    "suma = 0\n",
    "for semana in incidencias:\n",
    "    suma += semana[0]\n",
    "\n",
    "print(\"La suma de las incidencias de los lunes es \", suma)\n",
    "\n",
    "sumas_incidencias_dia = [0, 0, 0, 0, 0]\n",
    "\n",
    "# Suma incidencias por día\n",
    "for dia in range(5):\n",
    "    for f in range(len(incidencias)):\n",
    "        sumas_incidencias_dia[dia] += incidencias[f][dia]\n",
    "\n",
    "print(sumas_incidencias_dia)\n",
    "\n",
    "# Suma incidencias por semana\n",
    "sumas_incidencias_semana = []\n",
    "\n",
    "for f in range(len(incidencias)):\n",
    "    suma = 0\n",
    "    for c in range(len(incidencias[f])):\n",
    "        suma += incidencias[f][c]\n",
    "    sumas_incidencias_semana.append(suma)\n",
    "\n",
    "print(sumas_incidencias_semana)"
   ]
  },
  {
   "cell_type": "markdown",
   "metadata": {},
   "source": [
    "## Métodos de la clase list\n",
    "\n",
    "|Método|Significado|\n",
    "|-|-|\n",
    "|`list.append(x)`| Añade el elemento `x` al final de la lista|\n",
    "|`list.insert(i, x)`| Añade el elemento `x` en el índice `i`|\n",
    "|`list.remove(x)`|Elimina el primer elemento cuyo valor sea `x`|\n",
    "|`list.index(x)`|Devuelve el índice de la primera aparición de `x`|\n",
    "|`list.index(x, inicio)`|Devuelve el índice de la primera aparición de `x`, a partir del índice inicio|\n",
    "|`list.index(x, inicio, fin)`|Devuelve el índice de la primera aparición de `x` entre los índices inicio (incluido) y fin (no incluido)|\n",
    "|`list.count(x)`|Devuelve el número de veces que x aparece en  la lista|\n",
    "|`list.reverse()`|Da la vuelta a la lista|\n",
    "|`list.sort()`|Ordena la lista|\n",
    "|`list.pop()`|Devuelve un elemento de la lista y lo elimina, por defecto, el último|\n"
   ]
  },
  {
   "cell_type": "code",
   "execution_count": null,
   "metadata": {},
   "outputs": [],
   "source": [
    "lista = [x for x in range(1,21)]\n",
    "print(lista)\n",
    "\n",
    "lista.reverse()\n",
    "print(lista)"
   ]
  },
  {
   "cell_type": "code",
   "execution_count": null,
   "metadata": {},
   "outputs": [],
   "source": [
    "lista = [6, 7, 4, 3, 2, 1, 5, 10, 4, 6, 5]\n",
    "lista.sort()\n",
    "print(lista)"
   ]
  },
  {
   "cell_type": "code",
   "execution_count": 1,
   "metadata": {},
   "outputs": [
    {
     "name": "stdout",
     "output_type": "stream",
     "text": [
      "2\n",
      "1\n",
      "[6, 7, 3, 2, 1, 5, 10, 4, 6, 5]\n"
     ]
    }
   ],
   "source": [
    "lista = [6, 7, 4, 3, 2, 1, 5, 10, 4, 6, 5]\n",
    "print(lista.count(6))\n",
    "print(lista.index(7))\n",
    "lista.remove(4)\n",
    "print(lista)"
   ]
  },
  {
   "cell_type": "code",
   "execution_count": 3,
   "metadata": {},
   "outputs": [
    {
     "name": "stdout",
     "output_type": "stream",
     "text": [
      "2\n",
      "8\n"
     ]
    }
   ],
   "source": [
    "lista = [6, 7, 4, 3, 2, 1, 5, 10, 4, 6, 5]\n",
    "print(lista.index(4))\n",
    "print(lista.index(4, 3))"
   ]
  },
  {
   "cell_type": "code",
   "execution_count": 5,
   "metadata": {},
   "outputs": [
    {
     "name": "stdout",
     "output_type": "stream",
     "text": [
      "2\n",
      "8\n",
      "11\n"
     ]
    }
   ],
   "source": [
    "lista = [6, 7, 4, 3, 2, 1, 5, 10, 4, 6, 5, 4]\n",
    "\n",
    "inicio = 0\n",
    "for i in range(lista.count(4)):\n",
    "    posicion = lista.index(4, inicio)\n",
    "    print(posicion)\n",
    "    inicio = posicion + 1"
   ]
  },
  {
   "cell_type": "code",
   "execution_count": 6,
   "metadata": {},
   "outputs": [
    {
     "name": "stdout",
     "output_type": "stream",
     "text": [
      "5\n",
      "[6, 7, 4, 3, 2, 1, 5, 10, 4, 6]\n"
     ]
    }
   ],
   "source": [
    "lista = [6, 7, 4, 3, 2, 1, 5, 10, 4, 6, 5]\n",
    "\n",
    "elemento = lista.pop()\n",
    "print(elemento)\n",
    "print(lista)"
   ]
  },
  {
   "cell_type": "markdown",
   "metadata": {},
   "source": [
    "## La función `sorted()`\n",
    "\n",
    "Esta función **devuelve** una copia de la lista ordenada de menor a mayor.\n",
    "\n",
    "La diferencia con el método `sort()` es que éste modifica la lista y `sorted()`, no."
   ]
  },
  {
   "cell_type": "code",
   "execution_count": 9,
   "metadata": {},
   "outputs": [
    {
     "name": "stdout",
     "output_type": "stream",
     "text": [
      "['Barcelona', 'Madrid', 'Sevilla', 'Valencia', 'Vigo']\n",
      "['Vigo', 'Madrid', 'Barcelona', 'Valencia', 'Sevilla']\n",
      "['Barcelona', 'Madrid', 'Sevilla', 'Valencia', 'Vigo']\n"
     ]
    }
   ],
   "source": [
    "ciudades = ['Vigo', 'Madrid', 'Barcelona', 'Valencia', 'Sevilla']\n",
    "\n",
    "print(sorted(ciudades))\n",
    "print(ciudades)\n",
    "\n",
    "ciudades.sort()\n",
    "print(ciudades)"
   ]
  }
 ],
 "metadata": {
  "kernelspec": {
   "display_name": "Python 3",
   "language": "python",
   "name": "python3"
  },
  "language_info": {
   "codemirror_mode": {
    "name": "ipython",
    "version": 3
   },
   "file_extension": ".py",
   "mimetype": "text/x-python",
   "name": "python",
   "nbconvert_exporter": "python",
   "pygments_lexer": "ipython3",
   "version": "3.12.3"
  }
 },
 "nbformat": 4,
 "nbformat_minor": 2
}
