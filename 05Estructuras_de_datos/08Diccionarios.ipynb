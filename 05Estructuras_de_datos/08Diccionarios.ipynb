{
 "cells": [
  {
   "cell_type": "markdown",
   "metadata": {},
   "source": [
    "# Diccionarios\n",
    "\n",
    "Un diccionario es una estructura de datos que permite almacenar pares de elementos, clave-valor. \n",
    "\n",
    "Se asocia una clave a cada valor almacenado. \n",
    "\n",
    "La clave debe ser un objeto inmutable, por ejemplo una cadena, y el valor puede ser cualquier objeto de Python.\n",
    "\n",
    "NO es una secuencia, pero puede adaptarse fácilmente para el procesamiento secuencial.\n",
    "\n",
    "## Declaración\n",
    "\n",
    "Se declara con llaves {} y los pares clave-valor separados por comas.\n",
    "\n",
    "```python\n",
    "diccionario = {clave1: valor1, clave2: valor2, clave3: valor3}\n",
    "```"
   ]
  },
  {
   "cell_type": "code",
   "execution_count": 2,
   "metadata": {},
   "outputs": [
    {
     "name": "stdout",
     "output_type": "stream",
     "text": [
      "{'hola': 'привіт', 'adios': 'бувай', 'casa': 'дім', 'perro': 'пес', 'gato': 'кіт'}\n",
      "{'Juan': 123456789, 'Pedro': 987654321, 'Ana': 654987321, 'Maria': 321654987}\n",
      "{1: 'Enero', 2: 'Febrero', 3: 'Marzo', 4: 'Abril', 5: 'Mayo', 6: 'Junio', 7: 'Julio', 8: 'Agosto', 9: 'Septiembre', 10: 'Octubre', 11: 'Noviembre', 12: 'Diciembre'}\n",
      "Agosto\n",
      "{'Programacion': 'MP0485', 'Sistemas informaticos': 'MP0483', 'Contornos de desenvolvemento': 'MP0487', 'Bases de datos': 'MP0484', 'Linguaxes de marcas': 'MP0373', 'Formacion e orientacion laboral': 'MP0617'}\n"
     ]
    }
   ],
   "source": [
    "diccionario = {\n",
    "            \"hola\":\"привіт\", \n",
    "            \"adios\":\"бувай\",\n",
    "            \"casa\":\"дім\",\n",
    "            \"perro\":\"пес\",\n",
    "            \"gato\":\"кіт\",\n",
    "            }\n",
    "\n",
    "print(diccionario)\n",
    "\n",
    "telefonos = {\n",
    "            \"Juan\": 123456789,\n",
    "            \"Pedro\": 987654321,\n",
    "            \"Ana\": 654987321,\n",
    "            \"Maria\": 321654987,\n",
    "            }\n",
    "\n",
    "print(telefonos)\n",
    "\n",
    "meses = {\n",
    "        1:\"Enero\",\n",
    "        2:\"Febrero\",\n",
    "        3:\"Marzo\",\n",
    "        4:\"Abril\",\n",
    "        5:\"Mayo\",\n",
    "        6:\"Junio\",\n",
    "        7:\"Julio\",\n",
    "        8:\"Agosto\",\n",
    "        9:\"Septiembre\",\n",
    "        10:\"Octubre\",\n",
    "        11:\"Noviembre\",\n",
    "        12:\"Diciembre\",\n",
    "        }\n",
    "\n",
    "print(meses)\n",
    "\n",
    "print(meses[8])\n",
    "\n",
    "## declarar un diccionario vacio\n",
    "codigos = {}\n",
    "codigos[\"Programacion\"] = \"MP0485\"\n",
    "codigos[\"Sistemas informaticos\"] = \"MP0483\"\n",
    "codigos[\"Contornos de desenvolvemento\"] = \"MP0487\"\n",
    "codigos[\"Bases de datos\"] = \"MP0484\"\n",
    "codigos[\"Linguaxes de marcas\"] = \"MP0373\"\n",
    "codigos[\"Formacion e orientacion laboral\"] = \"MP0617\"\n",
    "\n",
    "print(codigos)\n"
   ]
  },
  {
   "cell_type": "markdown",
   "metadata": {},
   "source": [
    "Si la clave es una cadena, es *case-sensitive*."
   ]
  },
  {
   "cell_type": "markdown",
   "metadata": {},
   "source": [
    "## Acceso a los elementos individuales\n",
    "\n",
    "Se accede a los elementos individuales mediante la clave entre corchetes.\n",
    "\n",
    "Lanza una excepción de tipo `KeyError` si la clave key no se encuentra en el diccionario d."
   ]
  },
  {
   "cell_type": "code",
   "execution_count": 5,
   "metadata": {},
   "outputs": [
    {
     "name": "stdout",
     "output_type": "stream",
     "text": [
      "MP0485\n"
     ]
    }
   ],
   "source": [
    "print(codigos[\"Programacion\"])"
   ]
  },
  {
   "cell_type": "markdown",
   "metadata": {},
   "source": [
    "## Recorrido de los elementos\n",
    "\n",
    "Un diccionario no es una secuencia, pero es muy fácil adaptarlo para que sí pueda recorrerser con un bucle for.\n",
    "\n",
    "Podemos acceder a las claves mediante el método `keys()` y a los valores mediante el método `values()`."
   ]
  },
  {
   "cell_type": "code",
   "execution_count": 2,
   "metadata": {},
   "outputs": [
    {
     "name": "stdout",
     "output_type": "stream",
     "text": [
      "Programacion MP0485\n",
      "Sistemas informaticos MP0483\n",
      "Contornos de desenvolvemento MP0487\n",
      "Bases de datos MP0484\n",
      "Linguaxes de marcas MP0373\n",
      "Formacion e orientacion laboral MP0617\n",
      "Programacion MP0485\n",
      "Sistemas informaticos MP0483\n",
      "Contornos de desenvolvemento MP0487\n",
      "Bases de datos MP0484\n",
      "Linguaxes de marcas MP0373\n",
      "Formacion e orientacion laboral MP0617\n",
      "MP0485\n",
      "MP0483\n",
      "MP0487\n",
      "MP0484\n",
      "MP0373\n",
      "MP0617\n",
      "Programacion MP0485\n",
      "Sistemas informaticos MP0483\n",
      "Contornos de desenvolvemento MP0487\n",
      "Bases de datos MP0484\n",
      "Linguaxes de marcas MP0373\n",
      "Formacion e orientacion laboral MP0617\n",
      "('Programacion', 'MP0485')\n",
      "('Sistemas informaticos', 'MP0483')\n",
      "('Contornos de desenvolvemento', 'MP0487')\n",
      "('Bases de datos', 'MP0484')\n",
      "('Linguaxes de marcas', 'MP0373')\n",
      "('Formacion e orientacion laboral', 'MP0617')\n"
     ]
    }
   ],
   "source": [
    "codigos = {}\n",
    "codigos[\"Programacion\"] = \"MP0485\"\n",
    "codigos[\"Sistemas informaticos\"] = \"MP0483\"\n",
    "codigos[\"Contornos de desenvolvemento\"] = \"MP0487\"\n",
    "codigos[\"Bases de datos\"] = \"MP0484\"\n",
    "codigos[\"Linguaxes de marcas\"] = \"MP0373\"\n",
    "codigos[\"Formacion e orientacion laboral\"] = \"MP0617\"\n",
    "\n",
    "for clave in codigos: # se llama al método __iter__() del diccionario de forma implícita\n",
    "    print(clave, codigos[clave])\n",
    "\n",
    "for clave in codigos.keys():\n",
    "    print(clave, codigos[clave])\n",
    "\n",
    "for valor in codigos.values():\n",
    "    print(valor)\n",
    "\n",
    "for clave, valor in codigos.items(): # Devuelve una tupla y desempaqueta\n",
    "    print(clave, valor)\n",
    "\n",
    "for tupla in codigos.items(): # Devuelve una tupla\n",
    "    print(tupla)  "
   ]
  },
  {
   "cell_type": "markdown",
   "metadata": {},
   "source": [
    "## Modificación de los elementos\n",
    "\n",
    "Pueden modificarse los valores de los elementos mediante la asignación, incluso cuando estamos iterando."
   ]
  },
  {
   "cell_type": "code",
   "execution_count": 4,
   "metadata": {},
   "outputs": [
    {
     "name": "stdout",
     "output_type": "stream",
     "text": [
      "{'manzana': 2.35, 'pera': 3.05, 'naranja': 1.75, 'limon': 1.95, 'melon': 4.85, 'sandia': 3.45, 'platano': 2.95, 'cereza': 5.9, 'uva': 4.15, 'fresa': 4.25}\n",
      "{'manzana': 2.35, 'pera': 3.05, 'naranja': 1.75, 'limon': 1.95, 'melon': 4.85, 'sandia': 3.45, 'platano': 2.95, 'cereza': 5.9, 'uva': 4.15, 'fresa': 6.54}\n",
      "{'manzana': 2.59, 'pera': 3.35, 'naranja': 1.93, 'limon': 2.15, 'melon': 5.33, 'sandia': 3.8, 'platano': 3.25, 'cereza': 6.49, 'uva': 4.57, 'fresa': 7.19}\n"
     ]
    }
   ],
   "source": [
    "precios_frutas = {\n",
    "                \"manzana\": 2.35,\n",
    "                \"pera\": 3.05,\n",
    "                \"naranja\": 1.75,\n",
    "                \"limon\": 1.95,\n",
    "                \"melon\": 4.85,\n",
    "                \"sandia\": 3.45,\n",
    "                \"platano\": 2.95,\n",
    "                \"cereza\": 5.90,\n",
    "                \"uva\": 4.15,\n",
    "                \"fresa\": 4.25,\n",
    "                }\n",
    "\n",
    "print(precios_frutas)\n",
    "\n",
    "precios_frutas[\"fresa\"] = 6.54\n",
    "\n",
    "print(precios_frutas)\n",
    "\n",
    "for fruta in precios_frutas:\n",
    "    precios_frutas[fruta] = round(precios_frutas[fruta] * 1.10, 2) # incrementamos el precio de la fruta en un 10%\n",
    "\n",
    "print(precios_frutas)"
   ]
  },
  {
   "cell_type": "markdown",
   "metadata": {},
   "source": [
    "## Eliminación de un elemento\n",
    "\n",
    "Se utiliza la palabra reservada `del` seguida del elemento accedido mediante la clave."
   ]
  },
  {
   "cell_type": "code",
   "execution_count": 5,
   "metadata": {},
   "outputs": [
    {
     "name": "stdout",
     "output_type": "stream",
     "text": [
      "{'manzana': 2.35, 'pera': 3.05, 'naranja': 1.75, 'limon': 1.95, 'melon': 4.85, 'sandia': 3.45, 'platano': 2.95, 'cereza': 5.9, 'uva': 4.15, 'fresa': 4.25}\n",
      "{'pera': 3.05, 'naranja': 1.75, 'limon': 1.95, 'melon': 4.85, 'sandia': 3.45, 'platano': 2.95, 'cereza': 5.9, 'uva': 4.15, 'fresa': 4.25}\n"
     ]
    },
    {
     "ename": "NameError",
     "evalue": "name 'precios_frutas' is not defined",
     "output_type": "error",
     "traceback": [
      "\u001b[0;31m---------------------------------------------------------------------------\u001b[0m",
      "\u001b[0;31mNameError\u001b[0m                                 Traceback (most recent call last)",
      "Cell \u001b[0;32mIn[5], line 22\u001b[0m\n\u001b[1;32m     18\u001b[0m \u001b[38;5;28mprint\u001b[39m(precios_frutas)\n\u001b[1;32m     20\u001b[0m \u001b[38;5;28;01mdel\u001b[39;00m precios_frutas \u001b[38;5;66;03m# Elimina el diccionario completo\u001b[39;00m\n\u001b[0;32m---> 22\u001b[0m \u001b[38;5;28mprint\u001b[39m(\u001b[43mprecios_frutas\u001b[49m)\n",
      "\u001b[0;31mNameError\u001b[0m: name 'precios_frutas' is not defined"
     ]
    }
   ],
   "source": [
    "precios_frutas = {\n",
    "                \"manzana\": 2.35,\n",
    "                \"pera\": 3.05,\n",
    "                \"naranja\": 1.75,\n",
    "                \"limon\": 1.95,\n",
    "                \"melon\": 4.85,\n",
    "                \"sandia\": 3.45,\n",
    "                \"platano\": 2.95,\n",
    "                \"cereza\": 5.90,\n",
    "                \"uva\": 4.15,\n",
    "                \"fresa\": 4.25,\n",
    "                }\n",
    "\n",
    "print(precios_frutas)\n",
    "\n",
    "del precios_frutas[\"manzana\"]\n",
    "\n",
    "print(precios_frutas)\n",
    "\n",
    "del precios_frutas # Elimina el diccionario completo\n",
    "\n",
    "print(precios_frutas)"
   ]
  },
  {
   "cell_type": "markdown",
   "metadata": {},
   "source": [
    "## Funciones que pueden aplicarse a los diccionarios\n",
    "\n",
    "- `len(diccionario)`: devuelve el número de elementos del diccionario."
   ]
  },
  {
   "cell_type": "code",
   "execution_count": 5,
   "metadata": {},
   "outputs": [
    {
     "name": "stdout",
     "output_type": "stream",
     "text": [
      "4\n"
     ]
    }
   ],
   "source": [
    "telefonos = {\n",
    "            \"Juan\": 123456789,\n",
    "            \"Pedro\": 987654321,\n",
    "            \"Ana\": 654987321,\n",
    "            \"Maria\": 321654987,\n",
    "            }\n",
    "\n",
    "print(len(telefonos))"
   ]
  },
  {
   "cell_type": "markdown",
   "metadata": {},
   "source": [
    "- `list(diccionario)`: devuelve una lista con las claves del diccionario."
   ]
  },
  {
   "cell_type": "code",
   "execution_count": 6,
   "metadata": {},
   "outputs": [
    {
     "name": "stdout",
     "output_type": "stream",
     "text": [
      "['Juan', 'Pedro', 'Ana', 'Maria']\n",
      "dict_keys(['Juan', 'Pedro', 'Ana', 'Maria'])\n"
     ]
    }
   ],
   "source": [
    "personas = list(telefonos)\n",
    "\n",
    "print(personas)\n",
    "print(telefonos.keys())"
   ]
  },
  {
   "cell_type": "markdown",
   "metadata": {},
   "source": [
    "- Soporta los operadores `in` y `not in` para saber si una clave está o no en el diccionario."
   ]
  },
  {
   "cell_type": "code",
   "execution_count": 27,
   "metadata": {},
   "outputs": [
    {
     "name": "stdout",
     "output_type": "stream",
     "text": [
      "True\n",
      "False\n"
     ]
    }
   ],
   "source": [
    "print(\"Juan\" in telefonos)\n",
    "print(\"Andrea\" in telefonos)"
   ]
  },
  {
   "cell_type": "markdown",
   "metadata": {},
   "source": [
    "## Métodos de la clase `dict`\n",
    "\n",
    "- `clear()`: elimina todos los elementos del diccionario.\n",
    "\n",
    "La diferencia con `del` es que `clear()` no elimina el diccionario, sino que lo deja vacío.\n"
   ]
  },
  {
   "cell_type": "code",
   "execution_count": 15,
   "metadata": {},
   "outputs": [
    {
     "name": "stdout",
     "output_type": "stream",
     "text": [
      "{'manzana': 2.35, 'pera': 3.05, 'naranja': 1.75, 'limon': 1.95, 'melon': 4.85, 'sandia': 3.45, 'platano': 2.95, 'cereza': 5.9, 'uva': 4.15, 'fresa': 4.25}\n",
      "{}\n"
     ]
    }
   ],
   "source": [
    "precios_frutas = {\n",
    "                \"manzana\": 2.35,\n",
    "                \"pera\": 3.05,\n",
    "                \"naranja\": 1.75,\n",
    "                \"limon\": 1.95,\n",
    "                \"melon\": 4.85,\n",
    "                \"sandia\": 3.45,\n",
    "                \"platano\": 2.95,\n",
    "                \"cereza\": 5.90,\n",
    "                \"uva\": 4.15,\n",
    "                \"fresa\": 4.25,\n",
    "                }\n",
    "\n",
    "print(precios_frutas)\n",
    "\n",
    "precios_frutas.clear() # Elimina todos los elementos del diccionario\n",
    "\n",
    "print(precios_frutas)"
   ]
  },
  {
   "cell_type": "markdown",
   "metadata": {},
   "source": [
    "- `pop(clave)`: elimina el elemento con la clave indicada y devuelve su valor.\n"
   ]
  },
  {
   "cell_type": "code",
   "execution_count": 21,
   "metadata": {},
   "outputs": [
    {
     "name": "stdout",
     "output_type": "stream",
     "text": [
      "2.35\n",
      "{'pera': 3.05, 'naranja': 1.75, 'limon': 1.95, 'melon': 4.85, 'sandia': 3.45, 'platano': 2.95, 'cereza': 5.9, 'uva': 4.15, 'fresa': 4.25}\n"
     ]
    }
   ],
   "source": [
    "precios_frutas = {\n",
    "                \"manzana\": 2.35,\n",
    "                \"pera\": 3.05,\n",
    "                \"naranja\": 1.75,\n",
    "                \"limon\": 1.95,\n",
    "                \"melon\": 4.85,\n",
    "                \"sandia\": 3.45,\n",
    "                \"platano\": 2.95,\n",
    "                \"cereza\": 5.90,\n",
    "                \"uva\": 4.15,\n",
    "                \"fresa\": 4.25,\n",
    "                }\n",
    "\n",
    "precio = precios_frutas.pop(\"manzana\") # Elimina el elemento con clave \"manzana\" y devuelve su valor\n",
    "\n",
    "print(precio)\n",
    "print(precios_frutas)"
   ]
  },
  {
   "cell_type": "markdown",
   "metadata": {},
   "source": [
    "- `popitem()`: elimina el último elemento insertado y devuelve su clave y su valor.\n"
   ]
  },
  {
   "cell_type": "code",
   "execution_count": 22,
   "metadata": {},
   "outputs": [
    {
     "name": "stdout",
     "output_type": "stream",
     "text": [
      "('fresa', 4.25)\n"
     ]
    }
   ],
   "source": [
    "print(precios_frutas.popitem()) # Elimina el último elemento añadido al diccionario y devuelve una tupla con su clave y valor"
   ]
  },
  {
   "cell_type": "markdown",
   "metadata": {},
   "source": [
    "- `update(diccionario)`: añade los pares clave-valor del diccionario indicado y modifica los existentes."
   ]
  },
  {
   "cell_type": "code",
   "execution_count": 24,
   "metadata": {},
   "outputs": [
    {
     "name": "stdout",
     "output_type": "stream",
     "text": [
      "{'hola': 'привіт', 'adios': 'до побачення', 'casa': 'додому', 'perro': 'пес', 'gato': 'кіт'}\n",
      "{'hola': 'привіт', 'adios': 'до побачення', 'casa': 'будинок', 'perro': 'пес', 'gato': 'кіт', 'coche': 'автомобіль', 'libro': 'книга', 'ordenador': \"комп'ютер\", 'moto': 'мотоцикл'}\n"
     ]
    }
   ],
   "source": [
    "diccionario = {\n",
    "            \"hola\":\"привіт\", \n",
    "            \"adios\":\"бувай\",\n",
    "            \"casa\":\"дім\",\n",
    "            \"perro\":\"пес\",\n",
    "            \"gato\":\"кіт\",\n",
    "            }\n",
    "\n",
    "mas_palabras = {\n",
    "            \"coche\":\"автомобіль\",\n",
    "            \"libro\":\"книга\",\n",
    "            \"ordenador\":\"комп'ютер\",\n",
    "            \"moto\":\"мотоцикл\",\n",
    "            \"casa\":\"будинок\",\n",
    "            }\n",
    "\n",
    "print(diccionario)\n",
    "\n",
    "diccionario.update(mas_palabras) # Añade al diccionario las claves y valores del diccionario mas_palabras\n",
    "\n",
    "print(diccionario)"
   ]
  }
 ],
 "metadata": {
  "kernelspec": {
   "display_name": "Python 3",
   "language": "python",
   "name": "python3"
  },
  "language_info": {
   "codemirror_mode": {
    "name": "ipython",
    "version": 3
   },
   "file_extension": ".py",
   "mimetype": "text/x-python",
   "name": "python",
   "nbconvert_exporter": "python",
   "pygments_lexer": "ipython3",
   "version": "3.12.3"
  }
 },
 "nbformat": 4,
 "nbformat_minor": 2
}
