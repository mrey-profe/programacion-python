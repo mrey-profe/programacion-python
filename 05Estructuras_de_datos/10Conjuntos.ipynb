{
 "cells": [
  {
   "cell_type": "markdown",
   "metadata": {},
   "source": [
    "# Conjuntos"
   ]
  },
  {
   "cell_type": "markdown",
   "metadata": {},
   "source": [
    "Los conjuntos representan un objeto capaz de almacenar elementos únicos, que además están indexados, por lo que son de gran utilidad para buscar elementos.\n"
   ]
  },
  {
   "cell_type": "markdown",
   "metadata": {},
   "source": [
    "## Declaración\n",
    "\n",
    "Para su declaración se utilizan llaves `{}` y los elementos se separan por comas."
   ]
  },
  {
   "cell_type": "code",
   "execution_count": null,
   "metadata": {},
   "outputs": [],
   "source": [
    "compra1 = {\"manzanas\", \"peras\", \"naranjas\"}\n",
    "compra2 = {\"peras\", \"naranjas\", \"sandías\"}\n",
    "compra3 = {\"manzanas\", \"peras\", \"sandías\"}"
   ]
  },
  {
   "cell_type": "markdown",
   "metadata": {},
   "source": [
    "Para inicializar un conjunto vacío, se utiliza la función `set()`, ya que usar `{}` crea un diccionario vacío."
   ]
  },
  {
   "cell_type": "code",
   "execution_count": null,
   "metadata": {},
   "outputs": [],
   "source": [
    "procesados = set()"
   ]
  },
  {
   "cell_type": "markdown",
   "metadata": {},
   "source": [
    "## Añadir y eliminar elementos\n",
    "\n",
    "Para añadir elementos se utiliza el método `add()` y para eliminar elementos se utiliza el método `remove()`."
   ]
  },
  {
   "cell_type": "code",
   "execution_count": 1,
   "metadata": {},
   "outputs": [
    {
     "name": "stdout",
     "output_type": "stream",
     "text": [
      "{'manzanas', 'peras', 'sandías', 'naranjas'}\n",
      "{'manzanas', 'naranjas', 'plátanos', 'peras', 'sandías'}\n",
      "{'manzanas', 'plátanos', 'peras', 'sandías'}\n",
      "{'manzanas', 'plátanos', 'peras', 'sandías'}\n"
     ]
    }
   ],
   "source": [
    "frutas = {\"manzanas\", \"peras\", \"naranjas\", \"sandías\"}\n",
    "print(frutas)\n",
    "frutas.add(\"plátanos\")\n",
    "print(frutas)\n",
    "frutas.remove(\"naranjas\")\n",
    "print(frutas)\n",
    "frutas.add(\"plátanos\")\n",
    "print(frutas)"
   ]
  },
  {
   "cell_type": "markdown",
   "metadata": {},
   "source": [
    "## Operaciones con conjuntos\n",
    "\n",
    "Los conjuntos permiten realizar operaciones como unión, intersección y diferencia.\n",
    "\n",
    "- `union()`: Devuelve un conjunto con los elementos de ambos conjuntos.\n",
    "- `intersection()`: Devuelve un conjunto con los elementos comunes de ambos conjuntos.\n",
    "- `difference()`: Devuelve un conjunto con los elementos que no están en el otro conjunto."
   ]
  },
  {
   "cell_type": "code",
   "execution_count": 1,
   "metadata": {},
   "outputs": [
    {
     "name": "stdout",
     "output_type": "stream",
     "text": [
      "{'peras', 'naranjas', 'manzanas', 'sandías'}\n",
      "{'peras', 'naranjas', 'manzanas', 'limones', 'sandías'}\n",
      "{'peras', 'naranjas'}\n",
      "{'peras'}\n",
      "{'manzanas'}\n",
      "{'sandías'}\n"
     ]
    }
   ],
   "source": [
    "compra1 = {\"manzanas\", \"peras\", \"naranjas\"}\n",
    "compra2 = {\"peras\", \"naranjas\", \"sandías\"}\n",
    "compra3 = {\"manzanas\", \"peras\", \"sandías\", \"limones\"}\n",
    "\n",
    "union2 = compra1.union(compra2)\n",
    "\n",
    "print(union2)\n",
    "\n",
    "union3 = compra1.union(compra2, compra3)\n",
    "\n",
    "print(union3)\n",
    "\n",
    "interseccion = compra1.intersection(compra2)\n",
    "\n",
    "print(interseccion)\n",
    "\n",
    "interseccion2 = compra1.intersection(compra2, compra3)\n",
    "\n",
    "print(interseccion2)\n",
    "\n",
    "diferencia = compra1.difference(compra2)\n",
    "\n",
    "print(diferencia)\n",
    "\n",
    "diferencia2 = compra2.difference(compra1)\n",
    "\n",
    "print(diferencia2)"
   ]
  },
  {
   "cell_type": "markdown",
   "metadata": {},
   "source": [
    "## Operadores `in` y `not in`\n",
    "\n",
    "Estos operadores permiten comprobar si un elemento está o no en un conjunto."
   ]
  },
  {
   "cell_type": "markdown",
   "metadata": {},
   "source": [
    "## Conversión de otras secuencias a conjuntos\n",
    "\n",
    "Para convertir otra secuencia a un conjunto se utiliza la función `set()`."
   ]
  },
  {
   "cell_type": "code",
   "execution_count": 11,
   "metadata": {},
   "outputs": [
    {
     "name": "stdout",
     "output_type": "stream",
     "text": [
      "['manzanas', 'peras', 'naranjas', 'sandías', 'plátanos', 'peras', 'naranjas', 'sandías', 'limones']\n",
      "{'manzanas', 'naranjas', 'plátanos', 'peras', 'sandías', 'limones'}\n",
      "{'v', 'r', 'í', 'o', 'O', 'i', 'a', 'n', 'p', 't', 'e', ' ', 'l', 'c', '.', 's', 'd'}\n",
      "{0, 1, 2, 3, 4, 5, 6, 7, 8, 9}\n",
      "{'manzanas', 'naranjas', 'plátanos', 'peras', 'sandías', 'limones'}\n"
     ]
    }
   ],
   "source": [
    "lista = [\"manzanas\", \"peras\", \"naranjas\", \"sandías\", \"plátanos\", \"peras\", \"naranjas\", \"sandías\", \"limones\"]\n",
    "\n",
    "print(lista)\n",
    "\n",
    "conjunto = set(lista)\n",
    "\n",
    "print(conjunto)\n",
    "\n",
    "cadena = \"Oliveira dos cen anos cría raíces de prata.\"\n",
    "\n",
    "print(set(cadena))\n",
    "\n",
    "print(set(range(10)))\n",
    "\n",
    "# Funciona con los diccionarios, aunque no son secuencias, pero solo devuelve las claves\n",
    "\n",
    "diccionario = {\"manzanas\": 2, \"peras\": 3, \"naranjas\": 5, \"sandías\": 7, \"plátanos\": 11, \"limones\": 13}\n",
    "\n",
    "print(set(diccionario))"
   ]
  },
  {
   "cell_type": "markdown",
   "metadata": {},
   "source": [
    "## Conversión de conjuntos a listas\n",
    "\n",
    "Para convertir un conjunto a una lista se utiliza la función `list()`."
   ]
  },
  {
   "cell_type": "code",
   "execution_count": 19,
   "metadata": {},
   "outputs": [
    {
     "name": "stdout",
     "output_type": "stream",
     "text": [
      "{'sandías', 'peras', 'manzanas', 'naranjas'}\n",
      "['sandías', 'peras', 'manzanas', 'naranjas']\n",
      "['manzanas', 'naranjas', 'peras', 'sandías']\n",
      "['manzanas', 'naranjas', 'peras', 'sandías']\n"
     ]
    }
   ],
   "source": [
    "frutas = {\"manzanas\", \"peras\", \"naranjas\", \"sandías\"}\n",
    "\n",
    "print(frutas)\n",
    "\n",
    "lista_frutas = list(frutas)\n",
    "\n",
    "print(lista_frutas)\n",
    "\n",
    "# Si, además, lo queremos ordenado alfabéticamente, podemos usar la función sorted()\n",
    "\n",
    "lista_frutas = sorted(list(frutas))\n",
    "\n",
    "print(lista_frutas)\n",
    "\n",
    "# O incluso\n",
    "\n",
    "lista_frutas = sorted(frutas)\n",
    "\n",
    "print(lista_frutas)"
   ]
  }
 ],
 "metadata": {
  "kernelspec": {
   "display_name": "Python 3",
   "language": "python",
   "name": "python3"
  },
  "language_info": {
   "codemirror_mode": {
    "name": "ipython",
    "version": 3
   },
   "file_extension": ".py",
   "mimetype": "text/x-python",
   "name": "python",
   "nbconvert_exporter": "python",
   "pygments_lexer": "ipython3",
   "version": "3.11.5"
  }
 },
 "nbformat": 4,
 "nbformat_minor": 2
}
