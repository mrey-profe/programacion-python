{
 "cells": [
  {
   "cell_type": "markdown",
   "metadata": {},
   "source": [
    "# Ejercicios\n",
    "\n",
    "## Ejercicio 1\n",
    "\n",
    "Crea una función que pida al usuario 5 números y los guarde en una lista y devuelva esa lista.\n",
    "\n",
    "A continuación, muéstrala en orden inverso a como se introdujeron.\n"
   ]
  },
  {
   "cell_type": "markdown",
   "metadata": {},
   "source": [
    "\n",
    "## Ejercicio 2\n",
    "\n",
    "Usando la función del ejercicio anterior, úsala y después busca el mayor de los números introducidos.\n"
   ]
  },
  {
   "cell_type": "markdown",
   "metadata": {},
   "source": [
    "\n",
    "## Ejercicio 3\n",
    "\n",
    "A partir de una lista, escribe un programa que cree una lista nueva con los elementos de la primera lista que sean impares.\n"
   ]
  },
  {
   "cell_type": "markdown",
   "metadata": {},
   "source": [
    "## Ejercicio 4\n",
    "\n",
    "Escribe una función que reciba una lista de enteros y devuelva otra lista con los dobles de sus elementos.\n"
   ]
  },
  {
   "cell_type": "markdown",
   "metadata": {},
   "source": [
    "## Ejercicio 5\n",
    "\n",
    "Usa la función del ejercicio 1 para crear una lista. A continuación, reemplaza todos los números negativos de esa lista por 0."
   ]
  },
  {
   "cell_type": "markdown",
   "metadata": {},
   "source": [
    "## Ejercicio 6\n",
    "\n",
    "Dada una lista de palabras, crea una nueva lista que contenga solo las palabras que tienen más de 5 letras."
   ]
  },
  {
   "cell_type": "markdown",
   "metadata": {},
   "source": [
    "\n",
    "## Ejercicio 7\n",
    "\n",
    "A partir de una lista, escribe un programa que cree una lista nueva eliminando aquellos que están repetidos."
   ]
  },
  {
   "cell_type": "markdown",
   "metadata": {},
   "source": [
    "## Ejercicio 8\n",
    "\n",
    "Escribe una función que reciba dos listas y devuelva una tercera con los elementos comunes a ambas."
   ]
  },
  {
   "cell_type": "markdown",
   "metadata": {},
   "source": [
    "## Ejercicio 9\n",
    "\n",
    "Utilizando una lista, escribe una función a la que se le pase el número del mes y devuelva su nombre.\n",
    "\n",
    "Crea un programa principal para probarla.\n"
   ]
  },
  {
   "cell_type": "markdown",
   "metadata": {},
   "source": [
    "\n",
    "## Ejercicio 10\n",
    "\n",
    "Busca el algoritmo para calcular la letra del DNI y crea una función que use listas para devolver la letra del mismo."
   ]
  },
  {
   "cell_type": "markdown",
   "metadata": {},
   "source": [
    "# Listas anidadas\n",
    "\n"
   ]
  },
  {
   "cell_type": "markdown",
   "metadata": {},
   "source": [
    "## Ejercicio 11\n",
    "\n",
    "Utiliza una lista bidimensional para almacenar las temperaturas máximas de cada día de cada mes. Cada mes será una fila y las temperaturas estarán en columnas.\n",
    "\n",
    "Muestra las medias de cada mes."
   ]
  },
  {
   "cell_type": "markdown",
   "metadata": {},
   "source": [
    "## Ejercicio 12\n",
    "\n",
    "Crea una lista bidimensional con las notas de lxs alumnxs de una clase en los diferentes módulos. Cada fila será un alumnx y cada columna, las notas de un módulo.\n",
    "\n",
    "Calcula la media de notas de un alumno.\n",
    "Repite este apartado utilizando bucles que accedan por índices a la lista.\n",
    "\n",
    "AVANZADO: Calcula la media de notas de un módulo.\n",
    "\n",
    "Crea una nueva lista con las medias de cada uno de los módulos. (Este ejercicio es más complicado, puesto que debe recorrerse primero por columnas y luego por filas, usa los bucles que acceden por índices a la lista)."
   ]
  },
  {
   "cell_type": "markdown",
   "metadata": {},
   "source": [
    "## Ejercicio 13\n",
    "\n",
    "Crea una lista bidimensional de 6 filas y 7 columnas con valores aleatorios entre 0 y 9.\n",
    "\n",
    "Muéstrala por pantalla.\n",
    "\n",
    "Recórrela y almacena en una variable cuántos números pares hay en ella y almacena en otra cuántos impares.\n",
    "\n",
    "Muestra los resultados por pantalla.\n",
    "\n",
    "Vuelve a recorrerla para crear una lista unidimensional nueva con los números pares que aparecen en ella y otra con los impares."
   ]
  },
  {
   "cell_type": "markdown",
   "metadata": {},
   "source": [
    "## Ejercicio 14\n",
    "\n",
    "Crea una lista bidimensional que contenga los agrupamientos del alumnado de una clase para un determinado proyecto. La lista contendrá otras listas con los componentes de cada grupo.\n",
    "\n",
    "Muestra la lista por pantalla, con los componentes de cada grupo en una misma línea. Haz que no aparezcan los []. Por ejemplo:\n",
    "\n",
    "```python\n",
    "Luis, Juan\n",
    "María, Elba, Mario\n",
    "Carola\n",
    "Pablo, Manuel, Raquel, Uxía\n",
    "```"
   ]
  },
  {
   "cell_type": "markdown",
   "metadata": {},
   "source": [
    "## Ejercicio 15\n",
    "\n",
    "Crea una lista bidimensional 3x3 que sirva para jugar al tres en raya, almacenará 3 posibles cadenas, una cadena vacía para indicar que no se ha puesto una ficha en esa posición, una 'o' para indicar que ha jugado el jugador 1 y una 'x' para el jugador 2.\n",
    "\n",
    "Crea una función que la recorra y que busque si se ha producido 3 en raya para el jugador 1 en alguna de las filas.\n",
    "\n",
    "Crea una función que la recorra y que busque si se ha producido 3 en raya para el jugador 1 en alguna de las columnas.\n",
    "\n",
    "**AVANZADO**: Crea una función que la recorra y que busque si se ha producido 3 en raya para el jugador 1 en alguna de las diagonales.\n",
    "\n",
    "**AVANZADO**: Crea una función que la recorra y que busque si se ha producido 3 en raya para algún jugador.\n",
    "\n",
    "**AVANZADO**: Completa el ejercicio para que dos jugadores puedan jugar al 3 en raya.\n"
   ]
  },
  {
   "cell_type": "markdown",
   "metadata": {},
   "source": [
    "# Comprensión de listas (AVANZADO)\n"
   ]
  },
  {
   "cell_type": "markdown",
   "metadata": {},
   "source": [
    "## Ejercicio 16\n",
    "\n",
    "Crea una lista con las 10 primeras potencias de 3."
   ]
  },
  {
   "cell_type": "markdown",
   "metadata": {},
   "source": [
    "## Ejercicio 17\n",
    "\n",
    "Crea una lista con los 100 primeros múltiplos de 7."
   ]
  },
  {
   "cell_type": "markdown",
   "metadata": {},
   "source": [
    "## Ejercicio 18\n",
    "\n",
    "Utilizando comprensión de listas, vuelve a resolver el ejercicio 3."
   ]
  },
  {
   "cell_type": "markdown",
   "metadata": {},
   "source": [
    "## Ejercicio 19\n",
    "\n",
    "Utilizando comprensión de listas, vuelve a resolver el ejercicio 4."
   ]
  },
  {
   "cell_type": "markdown",
   "metadata": {},
   "source": [
    "## Ejercicio 20\n",
    "\n",
    "Utilizando comprensión de listas, vuelve a resolver el ejercicio 6."
   ]
  },
  {
   "cell_type": "markdown",
   "metadata": {},
   "source": [
    "## Ejercicio 21\n",
    "\n",
    "Crea una lista con los números que sean múltiplos de 3 o de 5 hasta el 100."
   ]
  },
  {
   "cell_type": "markdown",
   "metadata": {},
   "source": [
    "## Ejercicio 22\n",
    "\n",
    "Crea una lista con los divisores de un número que se pasa por teclado."
   ]
  },
  {
   "cell_type": "markdown",
   "metadata": {},
   "source": [
    "## Ejercicio 23\n",
    "\n",
    "Crea una lista con los años que son bisiestos a partir de una lista de años.\n",
    "\n",
    "Por ejemplo, a partir de [1995, 2004, 2003, 1900, 2008] debe devolver [2004, 2008].\n",
    "\n",
    "Debes utilizar la función `es_bisiesto(anho)` creada en el tema anterior y comprensión de listas."
   ]
  }
 ],
 "metadata": {
  "kernelspec": {
   "display_name": "Python 3",
   "language": "python",
   "name": "python3"
  },
  "language_info": {
   "codemirror_mode": {
    "name": "ipython",
    "version": 3
   },
   "file_extension": ".py",
   "mimetype": "text/x-python",
   "name": "python",
   "nbconvert_exporter": "python",
   "pygments_lexer": "ipython3",
   "version": "3.12.3"
  }
 },
 "nbformat": 4,
 "nbformat_minor": 2
}
