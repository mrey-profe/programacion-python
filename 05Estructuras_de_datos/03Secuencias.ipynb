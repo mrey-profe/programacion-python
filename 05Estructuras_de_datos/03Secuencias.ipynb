{
 "cells": [
  {
   "cell_type": "markdown",
   "metadata": {},
   "source": [
    "# Secuencias\n",
    "\n",
    "Las secuencias son un tipo de datos en Python que almacenan datos de forma ordenada.\n",
    "\n",
    "Permiten almacenar varios valores en una sola variable y se accede a cada valor individual mediante un índice.\n",
    "\n",
    "Tienen en común:\n",
    "\n",
    "- No hay un límite a la cantidad de elementos que pueden contener.\n",
    "- Pueden contener cualquier tipo de objeto, incluyendo otras secuencias. Por ejemplo, la forma de crear una matriz en Python es crear una lista de listas.\n",
    "- No es necesario saber el tamaño (cantidad de elementos) que tendrá la secuencia al momento de crearla.\n",
    "\n",
    "## Mutabilidad\n",
    "\n",
    "Propiedad de cualquier tipo de dato en Python que describe su disponibilidad para poder cambiar libremente durante la ejecución de un programa. \n",
    "\n",
    "- Los datos **mutables** pueden ser actualizados libremente en cualquier momento.\n",
    "- Los datos **inmutables** no pueden ser modificados de esta manera, solo asignados y leídos. \n",
    "\n",
    "## Tipos de secuencias\n",
    "\n",
    "- Las listas (`list`): Me permiten guardar un conjunto de datos que se puede repetir y que pueden ser de distintos tipos. Tipo mutable.\n",
    "- Las tuplas (`tuple`): Sirven para los mismo que las listas, pero inmutable.\n",
    "- Los rangos (`range`): Tipo de secuencias que nos permite crear secuencias de números. Tipo inmutable y se suelen utilizar para realizar bucles.\n",
    "- Las cadenas de caracteres (`str`): Permiten guardar secuencias de caracteres. Tipo inmutable.\n",
    "- Las secuencias de bytes (`byte`): Permite guardar valores binarios representados por caracteres ASCII. Tipo inmutable.\n",
    "- Las secuencias de bytes (`bytearray`): Iguales que las anteriores, pero mutables.\n",
    "- Los conjuntos (`set`): Permiten guardar conjuntos de datos, en los que no se existen repeticiones. Tipo mutable.\n",
    "- Los conjuntos (`frozenset`): Iguales que los anteriores, pero inmutables.\n",
    "\n",
    "## Funciones nativas de Python para secuencias\n",
    "\n",
    "- `len(secuencia)`: devuelve la cantidad de elementos de la lista, tupla o cadena.\n",
    "- `max(secuencia)`: devuelve el mayor elemento.\n",
    "- `min(secuencia)`: devuelve el menor elemento.\n",
    "\n",
    "## Métodos comunes de las secuencias\n",
    "\n",
    "- `secuencia.index(‘x’)`: devuelve el índice de la primera aparición de ‘x’ en la secuencia.\n",
    "- `secuencia.count(‘x’)`: devuelve el número de veces que aparece ‘x’ en la secuencia\n"
   ]
  },
  {
   "cell_type": "markdown",
   "metadata": {},
   "source": [
    "\n",
    "## Acceso a los elementos de una secuencia\n",
    "\n",
    "Para acceder a los elementos de una lista se utiliza el índice del elemento. El índice es un número entero que indica la posición del elemento en la lista. El primer elemento de la lista tiene índice 0, el segundo índice 1, y así sucesivamente (hasta su longitud -1). \n",
    "\n",
    "Para acceder al elemento se utiliza el nombre de la lista y, entre corchetes, el índice del elemento.\n"
   ]
  },
  {
   "cell_type": "code",
   "execution_count": 1,
   "metadata": {},
   "outputs": [
    {
     "data": {
      "text/plain": [
       "1"
      ]
     },
     "execution_count": 1,
     "metadata": {},
     "output_type": "execute_result"
    }
   ],
   "source": [
    "matriz = [1, 2, 3, 4, 5]\n",
    "matriz[0] # Acceso al primer elemento"
   ]
  },
  {
   "cell_type": "markdown",
   "metadata": {},
   "source": [
    "\n",
    "\n",
    "## Acceso a los elementos de una secuencia con índices negativos\n",
    "\n",
    "También se puede acceder a los elementos de una lista utilizando índices negativos. El último elemento de la lista tiene índice -1, el penúltimo -2, y así sucesivamente.\n"
   ]
  },
  {
   "cell_type": "code",
   "execution_count": 2,
   "metadata": {},
   "outputs": [
    {
     "data": {
      "text/plain": [
       "5"
      ]
     },
     "execution_count": 2,
     "metadata": {},
     "output_type": "execute_result"
    }
   ],
   "source": [
    "matriz = [1, 2, 3, 4, 5]\n",
    "matriz[-1] # Acceso al último elemento"
   ]
  },
  {
   "cell_type": "markdown",
   "metadata": {},
   "source": [
    "\n",
    "\n",
    "## Acceso a los elementos de una secuencia con rangos (rebanadas, *slices*)\n",
    "\n",
    "También se puede acceder a los elementos de una lista utilizando rangos. Para acceder a los elementos se utiliza el nombre de la lista y entre corchetes el rango de los elementos. \n",
    "\n",
    "El rango se indica con dos índices separados por dos puntos `:`. \n",
    "\n",
    "`lista[inicio:fin]`\n",
    "\n",
    "Para confirmar:\n",
    "\n",
    "- `inicio` es el índice del primer elemento incluido en la rebanada.\n",
    "- `fin` es el índice del primer elemento no incluido en la rebanada.\n",
    "\n"
   ]
  },
  {
   "cell_type": "code",
   "execution_count": 3,
   "metadata": {},
   "outputs": [
    {
     "data": {
      "text/plain": [
       "[1, 2]"
      ]
     },
     "execution_count": 3,
     "metadata": {},
     "output_type": "execute_result"
    }
   ],
   "source": [
    "matriz = [1, 2, 3, 4, 5]\n",
    "matriz[0:2] # Acceso al primer y segundo elemento"
   ]
  },
  {
   "cell_type": "markdown",
   "metadata": {},
   "source": [
    "\n",
    "Si omites el inicio, empieza en 0. Si omites el final, toma hasta el final de la lista.\n"
   ]
  },
  {
   "cell_type": "code",
   "execution_count": 4,
   "metadata": {},
   "outputs": [
    {
     "data": {
      "text/plain": [
       "[1, 2, 3, 4, 5]"
      ]
     },
     "execution_count": 4,
     "metadata": {},
     "output_type": "execute_result"
    }
   ],
   "source": [
    "matriz[:] # Toda la lista"
   ]
  },
  {
   "cell_type": "markdown",
   "metadata": {},
   "source": [
    "## Iterables\n",
    "\n",
    "Todas las secuencias son iterables mediante un bucle `for`:"
   ]
  },
  {
   "cell_type": "code",
   "execution_count": 5,
   "metadata": {},
   "outputs": [
    {
     "name": "stdout",
     "output_type": "stream",
     "text": [
      "H\n",
      "o\n",
      "l\n",
      "a\n",
      " \n",
      "m\n",
      "u\n",
      "n\n",
      "d\n",
      "o\n"
     ]
    }
   ],
   "source": [
    "frase = \"Hola mundo\"\n",
    "\n",
    "for letra in frase:\n",
    "    print(letra)"
   ]
  },
  {
   "cell_type": "code",
   "execution_count": 6,
   "metadata": {},
   "outputs": [
    {
     "name": "stdout",
     "output_type": "stream",
     "text": [
      "15\n"
     ]
    }
   ],
   "source": [
    "lista = [1, 2, 3, 4, 5]\n",
    "resultado = 0\n",
    "\n",
    "for numero in lista:\n",
    "    resultado += numero\n",
    "\n",
    "print(resultado)"
   ]
  },
  {
   "cell_type": "markdown",
   "metadata": {},
   "source": [
    "## Operadores de pertenencia: `in` y `not in`\n",
    "\n",
    "`in` verifica si un elemento dado (el argumento izquierdo) está actualmente almacenado en algún lugar dentro de la lista (el argumento derecho), devuelve `True` en este caso."
   ]
  },
  {
   "cell_type": "code",
   "execution_count": 7,
   "metadata": {},
   "outputs": [
    {
     "name": "stdout",
     "output_type": "stream",
     "text": [
      "False\n",
      "True\n",
      "El número 2 está en la lista\n"
     ]
    }
   ],
   "source": [
    "matriz = [0, 3, 12, 8, 2]\n",
    "\n",
    "print(5 in matriz)\n",
    "print(12 in matriz)\n",
    "\n",
    "if 2 in matriz:\n",
    "    print(\"El número 2 está en la lista\")\n",
    "else:\n",
    "    print(\"El número 2 no está en la lista\")"
   ]
  },
  {
   "cell_type": "markdown",
   "metadata": {},
   "source": [
    "\n",
    "`not in` comprueba si un elemento dado (el argumento izquierdo) está ausente en una lista, devuelve `True` en este caso.\n"
   ]
  },
  {
   "cell_type": "code",
   "execution_count": 8,
   "metadata": {},
   "outputs": [
    {
     "name": "stdout",
     "output_type": "stream",
     "text": [
      "True\n",
      "False\n"
     ]
    }
   ],
   "source": [
    "matriz = [0, 3, 12, 8, 2]\n",
    "\n",
    "print(5 not in matriz)\n",
    "print(12 not in matriz)"
   ]
  },
  {
   "cell_type": "markdown",
   "metadata": {},
   "source": [
    "## Operador `+` \n",
    "\n",
    "La suma de dos secuencias `a` y `b` genera una nueva secuencia que contiene los elementos de ambas y en la que los elementos de `b` aparecen después de los elementos de `a`. \n",
    "\n",
    "Las secuencias deben ser del mismo tipo."
   ]
  },
  {
   "cell_type": "code",
   "execution_count": 11,
   "metadata": {},
   "outputs": [
    {
     "name": "stdout",
     "output_type": "stream",
     "text": [
      "Hola Mundo\n"
     ]
    }
   ],
   "source": [
    "cadena1 = \"Hola\"\n",
    "cadena2 = \"Mundo\"\n",
    "\n",
    "cadena = cadena1 + \" \" + cadena2\n",
    "\n",
    "print(cadena)"
   ]
  },
  {
   "cell_type": "code",
   "execution_count": 10,
   "metadata": {},
   "outputs": [
    {
     "name": "stdout",
     "output_type": "stream",
     "text": [
      "[1, 2, 3, 4, 5, 6]\n"
     ]
    }
   ],
   "source": [
    "lista1 = [1, 2, 3]\n",
    "lista2 = [4, 5, 6]\n",
    "\n",
    "lista = lista1 + lista2\n",
    "\n",
    "print(lista)"
   ]
  },
  {
   "cell_type": "markdown",
   "metadata": {},
   "source": [
    "## Operador `*`\n",
    "\n",
    "Este operador, como sucedía con las cadenas, nos permite repetir una secuencia el número de veces que le indiquemos:\n"
   ]
  },
  {
   "cell_type": "code",
   "execution_count": 12,
   "metadata": {},
   "outputs": [
    {
     "name": "stdout",
     "output_type": "stream",
     "text": [
      "HolaHolaHola\n"
     ]
    }
   ],
   "source": [
    "cadena = \"Hola\"\n",
    "\n",
    "print(cadena * 3)"
   ]
  },
  {
   "cell_type": "code",
   "execution_count": 9,
   "metadata": {},
   "outputs": [
    {
     "name": "stdout",
     "output_type": "stream",
     "text": [
      "[0, 0, 0, 0, 0]\n",
      "[True, True, True, True, True, True]\n"
     ]
    }
   ],
   "source": [
    "\n",
    "matriz = [0] * 5\n",
    "print(matriz)\n",
    "matriz = [True] * 6\n",
    "print(matriz)"
   ]
  },
  {
   "cell_type": "markdown",
   "metadata": {},
   "source": [
    "## Desempaquetado (*unpacking*)\n",
    "\n",
    "Es posible asignar los elementos de una secuencia a diferentes variables de forma automática.\n",
    "\n",
    "Del lado izquierdo se escribe una lista separada por comas y del derecho, la secuencia."
   ]
  },
  {
   "cell_type": "code",
   "execution_count": 14,
   "metadata": {},
   "outputs": [
    {
     "name": "stdout",
     "output_type": "stream",
     "text": [
      "H\n",
      "o\n",
      "l\n",
      "a\n"
     ]
    }
   ],
   "source": [
    "a, b, c, d = \"Hola\"\n",
    "\n",
    "print(a)\n",
    "print(b)\n",
    "print(c)\n",
    "print(d)"
   ]
  },
  {
   "cell_type": "code",
   "execution_count": 16,
   "metadata": {},
   "outputs": [
    {
     "name": "stdout",
     "output_type": "stream",
     "text": [
      "1\n",
      "2\n",
      "3\n",
      "4\n",
      "5\n"
     ]
    }
   ],
   "source": [
    "lista = [1, 2, 3, 4, 5]\n",
    "\n",
    "a, b, c, d, e = lista\n",
    "\n",
    "print(a)\n",
    "print(b)\n",
    "print(c)\n",
    "print(d)\n",
    "print(e)"
   ]
  },
  {
   "cell_type": "markdown",
   "metadata": {},
   "source": [
    "Es necesario que haya tantas variables como elementos en la secuencia."
   ]
  },
  {
   "cell_type": "code",
   "execution_count": 15,
   "metadata": {},
   "outputs": [
    {
     "ename": "ValueError",
     "evalue": "too many values to unpack (expected 3)",
     "output_type": "error",
     "traceback": [
      "\u001b[0;31m---------------------------------------------------------------------------\u001b[0m",
      "\u001b[0;31mValueError\u001b[0m                                Traceback (most recent call last)",
      "\u001b[1;32m/home/marta/onedrive/secundaria/material-por-modulos/Programación/Python/Programacion-Python/04Estructuras_de_datos/03Secuencias.ipynb Celda 25\u001b[0m line \u001b[0;36m3\n\u001b[1;32m      <a href='vscode-notebook-cell:/home/marta/onedrive/secundaria/material-por-modulos/Programaci%C3%B3n/Python/Programacion-Python/04Estructuras_de_datos/03Secuencias.ipynb#X36sZmlsZQ%3D%3D?line=0'>1</a>\u001b[0m lista \u001b[39m=\u001b[39m [\u001b[39m1\u001b[39m, \u001b[39m2\u001b[39m, \u001b[39m3\u001b[39m, \u001b[39m4\u001b[39m, \u001b[39m5\u001b[39m]\n\u001b[0;32m----> <a href='vscode-notebook-cell:/home/marta/onedrive/secundaria/material-por-modulos/Programaci%C3%B3n/Python/Programacion-Python/04Estructuras_de_datos/03Secuencias.ipynb#X36sZmlsZQ%3D%3D?line=2'>3</a>\u001b[0m a, b, c \u001b[39m=\u001b[39m lista\n",
      "\u001b[0;31mValueError\u001b[0m: too many values to unpack (expected 3)"
     ]
    }
   ],
   "source": [
    "lista = [1, 2, 3, 4, 5]\n",
    "\n",
    "a, b, c = lista"
   ]
  }
 ],
 "metadata": {
  "kernelspec": {
   "display_name": "Python 3",
   "language": "python",
   "name": "python3"
  },
  "language_info": {
   "codemirror_mode": {
    "name": "ipython",
    "version": 3
   },
   "file_extension": ".py",
   "mimetype": "text/x-python",
   "name": "python",
   "nbconvert_exporter": "python",
   "pygments_lexer": "ipython3",
   "version": "3.10.12"
  }
 },
 "nbformat": 4,
 "nbformat_minor": 2
}
