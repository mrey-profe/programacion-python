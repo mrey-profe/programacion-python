{
 "cells": [
  {
   "cell_type": "markdown",
   "metadata": {},
   "source": [
    "# Ejercicio 1\n",
    "\n",
    "Crea un programa en Python que sirva para realizar una jugada de la versión de Big Bang Theory de Piedra, Papel, Tijera. Es decir, Piedra, Papel, Tijera, Lagarto o Spock.\n",
    "\n",
    "El programa debe pedir al usuario que introduzca su jugada, calcular aleatoriamente la jugada del ordenador y mostrar por pantalla si ha ganado o no.\n",
    "\n",
    "Debes utilizar una estructura de datos de tipo diccionario, que tenga como claves las posibles jugadas y como valores las jugadas que vencen a la clave almacenadas en un conjunto.\n",
    "\n",
    "Las reglas son muy sencillas, según Sheldon. *Las tijeras cortan el papel, el papel envuelve la piedra, la piedra aplasta al lagarto, el lagarto envenena a Spock, Spock aplasta las tijeras, las tijeras decapitan al lagarto, el lagarto devora el papel, el papel desaprueba a Spock, Spock desintegra la piedra y, como siempre, la piedra aplasta las tijeras*."
   ]
  },
  {
   "cell_type": "code",
   "execution_count": 1,
   "metadata": {},
   "outputs": [
    {
     "name": "stdout",
     "output_type": "stream",
     "text": [
      "{'lagarto': {'piedra', 'tijeras'}}\n"
     ]
    }
   ],
   "source": [
    "jugadas = {}\n",
    "jugadas[\"lagarto\"] = {\"piedra\", \"tijeras\"} # Las tijeras y la piedra ganan al lagarto\n",
    "print(jugadas)"
   ]
  }
 ],
 "metadata": {
  "kernelspec": {
   "display_name": "Python 3",
   "language": "python",
   "name": "python3"
  },
  "language_info": {
   "codemirror_mode": {
    "name": "ipython",
    "version": 3
   },
   "file_extension": ".py",
   "mimetype": "text/x-python",
   "name": "python",
   "nbconvert_exporter": "python",
   "pygments_lexer": "ipython3",
   "version": "3.11.0"
  }
 },
 "nbformat": 4,
 "nbformat_minor": 2
}
