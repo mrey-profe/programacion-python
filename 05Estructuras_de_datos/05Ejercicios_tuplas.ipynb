{
 "cells": [
  {
   "cell_type": "markdown",
   "metadata": {},
   "source": [
    "# Ejercicios\n",
    "\n",
    "## Ejercicio 1\n",
    "\n",
    "Utilizando una tupla, escribe una función a la que se le pase el número del mes y devuelva su nombre.\n",
    "\n",
    "Crea un programa principal para probarla.\n"
   ]
  },
  {
   "cell_type": "markdown",
   "metadata": {},
   "source": [
    "## Ejercicio 2\n",
    "\n",
    "Busca el algoritmo para calcular la letra del DNI y crea una función que use listas para devolver la letra del mismo."
   ]
  },
  {
   "cell_type": "markdown",
   "metadata": {},
   "source": [
    "# Ejercicio 3\n",
    "\n",
    "Crea una función a la que se le pase un día de la semana y devuelva el siguiente, por ejemplo, si le pasamos \"lunes\" nos devolverá \"martes\"."
   ]
  },
  {
   "cell_type": "markdown",
   "metadata": {},
   "source": [
    "## Ejercicio 4: AVANZADO\n",
    "\n",
    "En matemáticas, el número imaginario $i$ es $\\sqrt{-1}$. Así sus potencias serán:\n",
    "\n",
    "$i^0 = 1$\n",
    "\n",
    "$i^1 = i$\n",
    "\n",
    "$i^2 = -1$\n",
    "\n",
    "$i^3 = -i$\n",
    "\n",
    "$i^4 = 1 $\n",
    "\n",
    "$i^5 = i $\n",
    "\n",
    "$...$\n",
    "\n",
    "Escribe una función a la que se le pase el exponente para una potencia de $i$ y devuelva, como cadena, el resultado.\n",
    "\n",
    "[Ejercicio en codewars] (https://www.codewars.com/kata/5a97387e5ee396e70a00016d/train/python)"
   ]
  }
 ],
 "metadata": {
  "kernelspec": {
   "display_name": "Python 3",
   "language": "python",
   "name": "python3"
  },
  "language_info": {
   "codemirror_mode": {
    "name": "ipython",
    "version": 3
   },
   "file_extension": ".py",
   "mimetype": "text/x-python",
   "name": "python",
   "nbconvert_exporter": "python",
   "pygments_lexer": "ipython3",
   "version": "3.11.5"
  }
 },
 "nbformat": 4,
 "nbformat_minor": 2
}
