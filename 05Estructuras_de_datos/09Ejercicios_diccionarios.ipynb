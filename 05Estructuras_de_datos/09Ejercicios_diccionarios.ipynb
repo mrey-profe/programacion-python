{
 "cells": [
  {
   "cell_type": "markdown",
   "metadata": {},
   "source": [
    "# Ejercicios"
   ]
  },
  {
   "cell_type": "markdown",
   "metadata": {},
   "source": [
    "## Ejercicio 1\n",
    "\n",
    "Escribir un programa que pregunte al usuario su nombre, edad, dirección y teléfono y lo guarde en un diccionario. Después debe mostrar por pantalla el mensaje \n",
    "\n",
    "`<nombre> tiene <edad> años, vive en <dirección> y su número de teléfono es <teléfono>.`"
   ]
  },
  {
   "cell_type": "code",
   "execution_count": null,
   "metadata": {
    "vscode": {
     "languageId": "plaintext"
    }
   },
   "outputs": [],
   "source": []
  },
  {
   "cell_type": "markdown",
   "metadata": {},
   "source": [
    "## Ejercicio 2\n",
    "\n",
    "Escribe un programa que lea una cadena y devuelva un diccionario con la cantidad de apariciones de cada vocal en la cadena."
   ]
  },
  {
   "cell_type": "markdown",
   "metadata": {},
   "source": [
    "## Ejercicio 3\n",
    "\n",
    "Escribe un programa que cuente la frecuencia de las palabras en una cadena de texto dada. El programa debe devolver un diccionario donde las claves sean las palabras y los valores sean la frecuencia de cada palabra.\n",
    "\n",
    "Puedes realizar este ejercicio de Codewars que es muy similar: https://www.codewars.com/kata/578de3801499359921000130\n"
   ]
  },
  {
   "cell_type": "markdown",
   "metadata": {},
   "source": [
    "## Ejericio 4\n",
    "\n",
    "Escribe un programa que a partir de dos tuplas, una con nombres y otra con edades las convierta en un diccionario donde las claves sean los nombres y los valores sean las edades."
   ]
  },
  {
   "cell_type": "markdown",
   "metadata": {},
   "source": [
    "## Ejercicio 5\n",
    "\n",
    "Escribe un programa que utilice un diccionario como lista de la compra. La clave será el nombre del producto y el valor será la cantidad. El programa irá pidiendo los productos y la cantidad que se ha comprado, y los irá añadiendo al diccionario. \n",
    "\n",
    "El programa mostrará la lista de la compra.\n",
    "\n",
    "```python\n",
    "Producto    Cantidad\n",
    "Manzanas    2\n",
    "Peras       3\n",
    "Naranjas    1\n",
    "```\n",
    "\n",
    "Añade un nuevo diccionario que relacione el producto con su precio unitario. \n",
    "\n",
    "Tu programa debe usar ambos diccionarios para mostrar el ticket de compra con el precio total de la compra de cada producto y el precio total de la compra.\n",
    "\n",
    "```python\n",
    "Producto    Cantidad    Precio unitario    Precio total\n",
    "Manzanas    2           0.35 €             0.7 €\n",
    "Peras       3           0.40 €             1.2 €\n",
    "Naranjas    1           0.50 €             0.5 €\n",
    "\n",
    "TOTAL                                      2.4 € \n",
    "```"
   ]
  },
  {
   "cell_type": "markdown",
   "metadata": {},
   "source": [
    "## Ejercicio 6\n",
    "\n",
    "De cara a preparar la cena de fin de año, una familia almacena en una tupla las distintas posibilidades y pregunta a los asistentes a la cena cuál de ellas prefieren. Crea un programa en Python que:\n",
    "\n",
    "- Declare dicha tupla y muestre un menú que pregunte a los asistentes cuál es su opción preferida (esto deberá repetirse hasta que se indique que no hay más personas por decidir).\n",
    "- Almacene en una lista unidimensional las elecciones de los asistentes (pueden estar repetidas).\n",
    "- Crea una función a la que se le pase la lista creada anteriormente y devuelva un diccionario con el número de veces que se eligió cada opción."
   ]
  }
 ],
 "metadata": {
  "kernelspec": {
   "display_name": "Python 3",
   "language": "python",
   "name": "python3"
  },
  "language_info": {
   "codemirror_mode": {
    "name": "ipython",
    "version": 3
   },
   "file_extension": ".py",
   "mimetype": "text/x-python",
   "name": "python",
   "nbconvert_exporter": "python",
   "pygments_lexer": "ipython3",
   "version": "3.11.0"
  }
 },
 "nbformat": 4,
 "nbformat_minor": 2
}
